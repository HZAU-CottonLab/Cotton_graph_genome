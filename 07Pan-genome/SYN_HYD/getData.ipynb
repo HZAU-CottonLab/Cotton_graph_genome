{
 "cells": [
  {
   "cell_type": "markdown",
   "metadata": {},
   "source": [
    "### TODO 基于PAV的断点，我们对syntenic的区间进行划分\n",
    "> syntenic区间减去PAVs后的区间\n",
    "> 由于A2和At的syntenic区域存在1对多的情况，在将PAV和Divergence区域进行合并时，会存问题\n",
    "> \n",
    "> 这里采用，对每个共线性区域减去PAV区域，从而获得相对应的syntenic和syntenic_PAV区域"
   ]
  },
  {
   "cell_type": "code",
   "execution_count": null,
   "metadata": {},
   "outputs": [],
   "source": [
    "import pandas as pd"
   ]
  },
  {
   "cell_type": "code",
   "execution_count": null,
   "metadata": {},
   "outputs": [],
   "source": [
    "syntenic_intersected_PAV = pd.read_csv(\n",
    "    \"./A2_vs_At_PAV_synteny.txt\",\n",
    "    header=0, index_col=None, sep=\"\\t\"\n",
    ")"
   ]
  },
  {
   "cell_type": "code",
   "execution_count": null,
   "metadata": {},
   "outputs": [],
   "source": [
    "def getSyntenicMatchRegion(syntenicRegion,syntenicPAV):\n",
    "    '''根据A2和At在共线性区域的PAV序列,对齐syntenic与PAVs区域的序列\n",
    "    @return pd.DataFrame\n",
    "    '''\n",
    "    A2MatchRegion=[\n",
    "    syntenicRegion[1],\n",
    "    syntenicRegion[2] \n",
    "    ]\n",
    "    AtMatchRegion=[\n",
    "        syntenicRegion[4],\n",
    "        syntenicRegion[5],\n",
    "    ]\n",
    "    for val in syntenicPAV.values:\n",
    "        J85PAVStart=val[8] \n",
    "        J85PAVEnd=val[9] \n",
    "        AtPAVStart=val[11]\n",
    "        AtPAVEnd=val[12]\n",
    "        #* 添加A2 vs At的PAV断点的信息，断点有可能超出syntenic区间范围！\n",
    "        if J85PAVStart<=syntenicRegion[1]:\n",
    "            J85PAVStart=syntenicRegion[1]\n",
    "        if J85PAVEnd>=syntenicRegion[2]:\n",
    "            J85PAVEnd=syntenicRegion[2]\n",
    "        if AtPAVStart<=syntenicRegion[4]:\n",
    "            AtPAVStart=syntenicRegion[4] \n",
    "        if AtPAVEnd>=syntenicRegion[5]:\n",
    "            AtPAVEnd=syntenicRegion[5]\n",
    "        #* PAV断点和共线性的区间\n",
    "        A2MatchRegion.append(\n",
    "            J85PAVStart\n",
    "        )\n",
    "        A2MatchRegion.append(\n",
    "            J85PAVEnd\n",
    "        )\n",
    "        AtMatchRegion.append(\n",
    "            AtPAVStart\n",
    "        )\n",
    "        AtMatchRegion.append(\n",
    "            AtPAVEnd\n",
    "        )\n",
    "    #* 根据链的方向对断点的坐标进行排序\n",
    "    if syntenicRegion[-1]==\"++\":\n",
    "        A2MatchRegion=sorted(A2MatchRegion)\n",
    "        AtMatchRegion=sorted(AtMatchRegion)\n",
    "    else:\n",
    "        A2MatchRegion=sorted(A2MatchRegion)\n",
    "        #! 倒序排列了\n",
    "        AtMatchRegion=sorted(AtMatchRegion,reverse=True)\n",
    "    \n",
    "    MatchRegion=[]\n",
    "    for i in range(0,len(AtMatchRegion)-1):\n",
    "        At_start=min(AtMatchRegion[i],AtMatchRegion[i+1])\n",
    "        At_end=max(AtMatchRegion[i],AtMatchRegion[i+1])\n",
    "        if A2MatchRegion[i]==A2MatchRegion[i+1] and AtMatchRegion[i]==AtMatchRegion[i+1]:\n",
    "            #* 两个PAV序列连续的断点\n",
    "            continue\n",
    "        if i%2==0:\n",
    "            MatchRegion.append(\n",
    "                ( \n",
    "                    syntenicRegion[0],syntenicRegion[1],syntenicRegion[2],\n",
    "                    syntenicRegion[3],syntenicRegion[4],syntenicRegion[5],\n",
    "                    syntenicRegion[6], \n",
    "                    A2MatchRegion[i],A2MatchRegion[i+1], \n",
    "                    At_start,At_end,\n",
    "                    \"syntenic_noPAV\"\n",
    "                )\n",
    "            )\n",
    "        else:\n",
    "            #* 前6列是共线性的坐标，后6列是A2和At PAV区域的断点坐标\n",
    "            MatchRegion.append(\n",
    "                ( \n",
    "                    syntenicRegion[0],syntenicRegion[1],syntenicRegion[2],\n",
    "                    syntenicRegion[3],syntenicRegion[4],syntenicRegion[5],\n",
    "                    syntenicRegion[6], \n",
    "                    A2MatchRegion[i],A2MatchRegion[i+1], \n",
    "                    At_start,At_end,\n",
    "                    \"syntenic_PAV\"\n",
    "                )\n",
    "            )\n",
    "    return pd.DataFrame(MatchRegion) "
   ]
  },
  {
   "cell_type": "code",
   "execution_count": null,
   "metadata": {},
   "outputs": [],
   "source": [
    "MatchRegion=pd.DataFrame()\n",
    "for syntenicRegion,syntenicPAV in syntenic_intersected_PAV.groupby([\n",
    "        'J85_Synteny_Chr', 'J85_Synteny_Start', 'J85_Synteny_End', 'At_Synteny_Chr', 'At_Synteny_Start', 'At_Synteny_End','Stand']):\n",
    "    syntenicMatch=getSyntenicMatchRegion(\n",
    "        syntenicRegion,syntenicPAV\n",
    "    )\n",
    "    MatchRegion=pd.concat([ \n",
    "        MatchRegion,syntenicMatch\n",
    "    ],axis=0\n",
    "    )\n",
    "\n"
   ]
  },
  {
   "cell_type": "code",
   "execution_count": null,
   "metadata": {},
   "outputs": [],
   "source": [
    "#! 添加其他的区域\n",
    "#? divergence序列以及syntenic_PAV区域\n",
    "A2_divergence=pd.read_csv(\n",
    "    \"A2_vs_At_divergenceRegion_J85.txt\",header=None,index_col=None,sep=\"\\t\"\n",
    ")\n",
    "At_divergence=pd.read_csv(\n",
    "    \"A2_vs_At_divergenceRegion_At.txt\",header=None,index_col=None,sep=\"\\t\"\n",
    ")\n",
    "syntenic_noPAv=pd.read_csv(\n",
    "    \"./A2_vs_At_noPAV_synteny.txt\",header=None,index_col=None,sep=\"\\t\"\n",
    ")\n",
    "\n",
    "windowAnnotate=[]\n",
    "for val in A2_divergence.values:\n",
    "    windowAnnotate.append(\n",
    "        (val[0],val[1],val[2],\".\",-1,-1,\".\",val[1],val[2],-1,-1,'divergence')\n",
    "    )\n",
    "for val in At_divergence.values:\n",
    "    windowAnnotate.append(\n",
    "        (\".\",-1,-1,val[0],val[1],val[2],\".\",-1,-1,val[1],val[2],'divergence')\n",
    "    )\n",
    "for val in syntenic_noPAv.values:\n",
    "    #* A2和At的共线性且无PAV区间\n",
    "    windowAnnotate.append(\n",
    "        (val[0],val[1],val[2],val[3],val[4],val[5],val[6],val[1],val[2],val[4],val[5],'syntenic_noPAV')\n",
    "    )\n"
   ]
  },
  {
   "cell_type": "code",
   "execution_count": null,
   "metadata": {},
   "outputs": [],
   "source": [
    "windowAnnotate=pd.DataFrame(windowAnnotate)\n",
    "All_windowAnnotate=pd.concat( \n",
    "    [MatchRegion,windowAnnotate],axis=0\n",
    ")\n",
    "All_windowAnnotate.to_csv(\n",
    "    \"./A2_At_AllAnnotate.txt\",header=False,index=False,sep=\"\\t\"\n",
    ")"
   ]
  },
  {
   "cell_type": "code",
   "execution_count": null,
   "metadata": {},
   "outputs": [],
   "source": []
  }
 ],
 "metadata": {
  "interpreter": {
   "hash": "66aa2addb38c89a0d43f63cbdb966cb2dba790ca2bb4fa0a3d79065325ea50af"
  },
  "kernelspec": {
   "display_name": "Python 3.9.13 ('base')",
   "language": "python",
   "name": "python3"
  },
  "language_info": {
   "name": "python",
   "version": "3.9.13"
  },
  "orig_nbformat": 4
 },
 "nbformat": 4,
 "nbformat_minor": 2
}
