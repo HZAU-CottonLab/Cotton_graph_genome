{
 "cells": [
  {
   "cell_type": "markdown",
   "metadata": {},
   "source": [
    "### D5 基因的GO注释信息"
   ]
  },
  {
   "cell_type": "code",
   "execution_count": 1,
   "metadata": {},
   "outputs": [],
   "source": [
    "import pandas as pd "
   ]
  },
  {
   "cell_type": "code",
   "execution_count": 2,
   "metadata": {},
   "outputs": [],
   "source": [
    "D5_GeneGO=pd.read_csv(\n",
    "    \"/data/cotton/TMP/WildPAN_LiJianYing/Annotations/GO/D5.GOterm.txt\",\n",
    "    header=None,index_col=None,sep=\"\\t\"\n",
    ")"
   ]
  },
  {
   "cell_type": "code",
   "execution_count": 3,
   "metadata": {},
   "outputs": [],
   "source": [
    "#* GO ID号\n",
    "D5_GOList=[]\n",
    "for val in D5_GeneGO.values:\n",
    "    for Go in val[1].split(\" \"):\n",
    "        D5_GOList.append(\n",
    "            (val[0],Go)\n",
    "        )\n",
    "D5_GOList=pd.DataFrame(D5_GOList)"
   ]
  },
  {
   "cell_type": "code",
   "execution_count": 7,
   "metadata": {},
   "outputs": [],
   "source": [
    "D5_GOList.to_csv(\n",
    "    \"D5_All_GOitem.txt\",\n",
    "    header=False,index=False,sep=\"\\t\"\n",
    ")"
   ]
  },
  {
   "cell_type": "markdown",
   "metadata": {},
   "source": [
    "### TODO 获取At和Dt所对应的GO ID信息"
   ]
  },
  {
   "cell_type": "code",
   "execution_count": 1,
   "metadata": {},
   "outputs": [],
   "source": [
    "import pandas as pd \n",
    "import re "
   ]
  },
  {
   "cell_type": "code",
   "execution_count": 2,
   "metadata": {},
   "outputs": [],
   "source": [
    "HC04_GO=pd.read_csv(\n",
    "    \"/public/home/jyli/HiFi_Genomes/03.AD1_Updated/HC04_V2/HC04.GO.anno.txt\",\n",
    "    header=None,index_col=None,sep=\"\\t\"\n",
    ")"
   ]
  },
  {
   "cell_type": "code",
   "execution_count": 5,
   "metadata": {},
   "outputs": [],
   "source": [
    "Dt_GOList=[]\n",
    "At_GOList=[]\n",
    "for val in HC04_GO.values:\n",
    "    if re.match(r\"HC04_A\",val[0]):\n",
    "        for Go in val[1].split(\" \"):\n",
    "            At_GOList.append(\n",
    "                (val[0],Go)\n",
    "            )\n",
    "    if re.match(r\"HC04_D\",val[0]):\n",
    "        for Go in val[1].split(\" \"):\n",
    "            Dt_GOList.append(\n",
    "                (val[0],Go)\n",
    "\n",
    "\n",
    "                \n",
    "            )\n",
    "At_GOList=pd.DataFrame(At_GOList)\n",
    "Dt_GOList=pd.DataFrame(Dt_GOList)"
   ]
  },
  {
   "cell_type": "code",
   "execution_count": 9,
   "metadata": {},
   "outputs": [],
   "source": [
    "At_GOList.to_csv(\n",
    "    \"At_All_GOitem.txt\",\n",
    "    header=False,index=False,sep=\"\\t\"\n",
    ")\n",
    "Dt_GOList.to_csv(\n",
    "    \"Dt_All_GOitem.txt\",\n",
    "    header=False,index=False,sep=\"\\t\"\n",
    ")"
   ]
  },
  {
   "cell_type": "markdown",
   "metadata": {},
   "source": [
    "### TODO 获取J85的所有GO的Item信息"
   ]
  },
  {
   "cell_type": "code",
   "execution_count": 1,
   "metadata": {},
   "outputs": [],
   "source": [
    "import pandas as pd "
   ]
  },
  {
   "cell_type": "code",
   "execution_count": 2,
   "metadata": {},
   "outputs": [],
   "source": [
    "J85_GO=pd.read_csv(\n",
    "    \"/public/home/jyli/HiFi_Genomes/02.A2-genomes/J85_GO/J85.new.pep.fa.tsv\",\n",
    "    header=None,index_col=None,sep=\"\\t\"\n",
    ")"
   ]
  },
  {
   "cell_type": "code",
   "execution_count": 8,
   "metadata": {},
   "outputs": [],
   "source": [
    "A2_GOList=[]\n",
    "for val in J85_GO.loc[J85_GO.apply(\n",
    "    lambda x: False if pd.isna(x[13]) else True,axis=1\n",
    "        )].values:\n",
    "    for Go in val[13].split(\"|\"):\n",
    "            A2_GOList.append(\n",
    "                (\"J85_{}\".format(val[0]),Go)\n",
    "            ) \n",
    "\n",
    "pd.DataFrame(A2_GOList).to_csv( \n",
    "    \"A2_All_GOitem.txt\",\n",
    "    header=False,index=False,sep=\"\\t\"\n",
    ")"
   ]
  },
  {
   "cell_type": "code",
   "execution_count": 10,
   "metadata": {},
   "outputs": [],
   "source": []
  }
 ],
 "metadata": {
  "interpreter": {
   "hash": "66aa2addb38c89a0d43f63cbdb966cb2dba790ca2bb4fa0a3d79065325ea50af"
  },
  "kernelspec": {
   "display_name": "Python 3.9.13 ('base')",
   "language": "python",
   "name": "python3"
  },
  "language_info": {
   "codemirror_mode": {
    "name": "ipython",
    "version": 3
   },
   "file_extension": ".py",
   "mimetype": "text/x-python",
   "name": "python",
   "nbconvert_exporter": "python",
   "pygments_lexer": "ipython3",
   "version": "3.9.13"
  },
  "orig_nbformat": 4
 },
 "nbformat": 4,
 "nbformat_minor": 2
}
