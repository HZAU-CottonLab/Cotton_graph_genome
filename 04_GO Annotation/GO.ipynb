{
 "cells": [
  {
   "cell_type": "markdown",
   "metadata": {},
   "source": [
    "### TODO 进行GO富集分析\n"
   ]
  },
  {
   "cell_type": "code",
   "execution_count": 1,
   "metadata": {},
   "outputs": [
    {
     "name": "stderr",
     "output_type": "stream",
     "text": [
      "\n",
      "Attaching package: ‘dplyr’\n",
      "\n",
      "\n",
      "The following objects are masked from ‘package:stats’:\n",
      "\n",
      "    filter, lag\n",
      "\n",
      "\n",
      "The following objects are masked from ‘package:base’:\n",
      "\n",
      "    intersect, setdiff, setequal, union\n",
      "\n",
      "\n",
      "\n",
      "\n",
      "Registered S3 method overwritten by 'enrichplot':\n",
      "  method               from\n",
      "  fortify.enrichResult DOSE\n",
      "\n",
      "clusterProfiler v3.12.0  For help: https://guangchuangyu.github.io/software/clusterProfiler\n",
      "\n",
      "If you use clusterProfiler in published research, please cite:\n",
      "Guangchuang Yu, Li-Gen Wang, Yanyan Han, Qing-Yu He. clusterProfiler: an R package for comparing biological themes among gene clusters. OMICS: A Journal of Integrative Biology. 2012, 16(5):284-287.\n",
      "\n"
     ]
    }
   ],
   "source": [
    "library(dplyr)\n",
    "library(clusterProfiler)"
   ]
  },
  {
   "cell_type": "code",
   "execution_count": 2,
   "metadata": {},
   "outputs": [],
   "source": [
    "All_Gene=read.table( \n",
    "    \"At_All_GOitem.txt\",\n",
    "    header=F\n",
    ")\n",
    "\n",
    "At_gene=read.table(\n",
    "    \"./At_All_GOitem.txt\",\n",
    "    header=F\n",
    ")\n",
    "Dt_gene=read.table(\n",
    "    \"./Dt_All_GOitem.txt\",\n",
    "    header=F\n",
    ")\n",
    "\n",
    "All_Gene=rbind(\n",
    "    At_gene,Dt_gene\n",
    ")\n",
    "\n",
    "colnames(All_Gene)=c(\"gene\",\"GO\")\n",
    "\n",
    "bg_gene=read.table(\n",
    "    \"./Introgression/At_Dt_Is_all_gene.txt\",\n",
    "    header=F,sep=\"\\t\"\n",
    ")\n",
    "bg_gene_term=All_Gene %>% filter( \n",
    "    gene %in% bg_gene$V1\n",
    ")\n",
    "# bg_gene_term=All_Gene \n"
   ]
  },
  {
   "cell_type": "code",
   "execution_count": 67,
   "metadata": {},
   "outputs": [],
   "source": [
    "write.table(\n",
    "    bg_gene_term ,\"bg.gene.txt\",\n",
    "    row.names = F,col.names = F,sep=\"\\t\",quote = F\n",
    ")"
   ]
  },
  {
   "cell_type": "code",
   "execution_count": 5,
   "metadata": {},
   "outputs": [],
   "source": [
    "des <- go2term(\n",
    "    bg_gene_term$GO\n",
    ")\n",
    "ont <- go2ont(\n",
    "    bg_gene_term$GO\n",
    ")"
   ]
  },
  {
   "cell_type": "code",
   "execution_count": 6,
   "metadata": {},
   "outputs": [
    {
     "data": {
      "text/html": [
       "1"
      ],
      "text/latex": [
       "1"
      ],
      "text/markdown": [
       "1"
      ],
      "text/plain": [
       "[1] 1"
      ]
     },
     "metadata": {},
     "output_type": "display_data"
    }
   ],
   "source": [
    "#* 使用两种Gene进行GO富集分析；\n",
    "#! 在四倍体中存在变异，和在二倍体中存在变异\n",
    "# queryGene_1 <- read.table(\n",
    "#     \"fractionation/A2_promoter_SV.txt\",\n",
    "#     header = F\n",
    "# )\n",
    "queryGene <- read.table(\n",
    "    \"Introgression/At_Dt_Is_gene.txt\",\n",
    "    header = F\n",
    ")\n",
    "# queryGene=rbind(\n",
    "#     queryGene_1,queryGene_2\n",
    "# )\n",
    "length(unique(queryGene$V1))"
   ]
  },
  {
   "cell_type": "code",
   "execution_count": 195,
   "metadata": {},
   "outputs": [
    {
     "data": {
      "text/html": [
       "2482"
      ],
      "text/latex": [
       "2482"
      ],
      "text/markdown": [
       "2482"
      ],
      "text/plain": [
       "[1] 2482"
      ]
     },
     "metadata": {},
     "output_type": "display_data"
    }
   ],
   "source": [
    "queryGene<- read.table(\n",
    "    \"fractionation/At_promoter_SV.txt\",\n",
    "    header = F\n",
    ")\n",
    "length(unique(queryGene$V1))"
   ]
  },
  {
   "cell_type": "code",
   "execution_count": 14,
   "metadata": {},
   "outputs": [
    {
     "data": {
      "text/html": [
       "37628"
      ],
      "text/latex": [
       "37628"
      ],
      "text/markdown": [
       "37628"
      ],
      "text/plain": [
       "[1] 37628"
      ]
     },
     "metadata": {},
     "output_type": "display_data"
    }
   ],
   "source": [
    "length(unique(bg_gene_term %>% pull(gene)))"
   ]
  },
  {
   "cell_type": "code",
   "execution_count": 11,
   "metadata": {},
   "outputs": [
    {
     "name": "stderr",
     "output_type": "stream",
     "text": [
      "--> No gene can be mapped....\n",
      "\n",
      "--> Expected input gene ID: HC04_D05018230,HC04_A05044480,HC04_A10005660,HC04_D01000080,HC04_A01002850,HC04_D12001030\n",
      "\n",
      "--> return NULL...\n",
      "\n"
     ]
    }
   ],
   "source": [
    "#* 进行GO富集分析\n",
    "res <- enricher(\n",
    "    gene = queryGene$V1,\n",
    "    universe = bg_gene_term %>% pull(gene),\n",
    "    qvalueCutof = 0.05,\n",
    "    minGSSize=5,\n",
    "    maxGSSize=500,\n",
    "    pAdjustMethod = \"fdr\",\n",
    "    TERM2GENE = bg_gene_term %>% select(c(\"GO\", \"gene\")),\n",
    "    TERM2NAME = des\n",
    ")"
   ]
  },
  {
   "cell_type": "code",
   "execution_count": null,
   "metadata": {},
   "outputs": [],
   "source": [
    "#* 与term的类型进行组合\n",
    "res@result %>%\n",
    "    # filter(pvalue < 0.05) %>%\n",
    "    left_join(\n",
    "        ont,\n",
    "        by = join_by(ID == go_id)\n",
    "    ) %>%\n",
    "    select(\n",
    "        c(\n",
    "            \"ID\", \"Ontology\", \"Description\",\n",
    "            \"GeneRatio\", \"BgRatio\", \"pvalue\",\n",
    "            \"p.adjust\", \"qvalue\", \"geneID\",\n",
    "            \"Count\"\n",
    "        )\n",
    "    )"
   ]
  },
  {
   "cell_type": "code",
   "execution_count": null,
   "metadata": {},
   "outputs": [],
   "source": []
  },
  {
   "cell_type": "markdown",
   "metadata": {},
   "source": [
    "### TODO HYD区域的GO富集分析"
   ]
  },
  {
   "cell_type": "code",
   "execution_count": 1,
   "metadata": {},
   "outputs": [
    {
     "name": "stderr",
     "output_type": "stream",
     "text": [
      "\n",
      "Attaching package: ‘dplyr’\n",
      "\n",
      "\n",
      "The following objects are masked from ‘package:stats’:\n",
      "\n",
      "    filter, lag\n",
      "\n",
      "\n",
      "The following objects are masked from ‘package:base’:\n",
      "\n",
      "    intersect, setdiff, setequal, union\n",
      "\n",
      "\n",
      "\n",
      "\n",
      "Registered S3 method overwritten by 'enrichplot':\n",
      "  method               from\n",
      "  fortify.enrichResult DOSE\n",
      "\n",
      "clusterProfiler v3.12.0  For help: https://guangchuangyu.github.io/software/clusterProfiler\n",
      "\n",
      "If you use clusterProfiler in published research, please cite:\n",
      "Guangchuang Yu, Li-Gen Wang, Yanyan Han, Qing-Yu He. clusterProfiler: an R package for comparing biological themes among gene clusters. OMICS: A Journal of Integrative Biology. 2012, 16(5):284-287.\n",
      "\n"
     ]
    }
   ],
   "source": [
    "library(dplyr)\n",
    "library(clusterProfiler)\n",
    "library(ggplot2)"
   ]
  },
  {
   "cell_type": "code",
   "execution_count": 2,
   "metadata": {},
   "outputs": [],
   "source": [
    "At_gene=read.table(\n",
    "    \"./At_All_GOitem.txt\",\n",
    "    header=F\n",
    ")\n",
    "colnames(At_gene)=c(\"gene\",\"GO\")\n",
    "des <- go2term(\n",
    "    At_gene$GO\n",
    ")\n",
    "ont <- go2ont(\n",
    "    At_gene$GO\n",
    ")"
   ]
  },
  {
   "cell_type": "code",
   "execution_count": 3,
   "metadata": {},
   "outputs": [],
   "source": [
    "queryAt_gene <- read.table(\n",
    "    \"/public/home/zpliu/Pan-genome/peer_review/A2_At_PAV/At_HYD_region_containedGene.txt\",\n",
    "    header = T, sep = \"\\t\"\n",
    ")\n",
    "res <- enricher(\n",
    "    gene = queryAt_gene$geneId,\n",
    "    universe = At_gene %>% pull(gene),\n",
    "    qvalueCutof = 0.05,\n",
    "    minGSSize=5,\n",
    "    maxGSSize=500,\n",
    "    pAdjustMethod = \"fdr\",\n",
    "    TERM2GENE = At_gene %>% select(c(\"GO\", \"gene\")),\n",
    "    TERM2NAME = des\n",
    ")"
   ]
  },
  {
   "cell_type": "code",
   "execution_count": 4,
   "metadata": {},
   "outputs": [],
   "source": [
    "At_plotData=res@result %>%\n",
    "    # filter(pvalue < 0.05) %>%\n",
    "    left_join(\n",
    "        ont,\n",
    "        by = join_by(ID == go_id)\n",
    "    ) %>%\n",
    "    select(\n",
    "        c(\n",
    "            \"ID\", \"Ontology\", \"Description\",\n",
    "            \"GeneRatio\", \"BgRatio\", \"pvalue\",\n",
    "            \"p.adjust\", \"qvalue\", \"geneID\",\n",
    "            \"Count\"\n",
    "        )\n",
    "    ) %>% filter(qvalue <= 0.05 & Ontology == \"BP\") %>%\n",
    "    mutate(genome = \"At\") %>%\n",
    "    select(\n",
    "        \"Description\", \"pvalue\", \"genome\"\n",
    "    )"
   ]
  },
  {
   "cell_type": "code",
   "execution_count": 5,
   "metadata": {},
   "outputs": [
    {
     "data": {
      "text/html": [
       "<table class=\"dataframe\">\n",
       "<caption>A data.frame: 4 × 3</caption>\n",
       "<thead>\n",
       "\t<tr><th scope=col>Description</th><th scope=col>pvalue</th><th scope=col>genome</th></tr>\n",
       "\t<tr><th scope=col>&lt;chr&gt;</th><th scope=col>&lt;dbl&gt;</th><th scope=col>&lt;chr&gt;</th></tr>\n",
       "</thead>\n",
       "<tbody>\n",
       "\t<tr><td>DNA integration               </td><td>6.094983e-48</td><td>At</td></tr>\n",
       "\t<tr><td>defense response              </td><td>4.277693e-06</td><td>At</td></tr>\n",
       "\t<tr><td>photosynthesis, light reaction</td><td>6.675765e-06</td><td>At</td></tr>\n",
       "\t<tr><td>biosynthetic process          </td><td>8.173708e-04</td><td>At</td></tr>\n",
       "</tbody>\n",
       "</table>\n"
      ],
      "text/latex": [
       "A data.frame: 4 × 3\n",
       "\\begin{tabular}{lll}\n",
       " Description & pvalue & genome\\\\\n",
       " <chr> & <dbl> & <chr>\\\\\n",
       "\\hline\n",
       "\t DNA integration                & 6.094983e-48 & At\\\\\n",
       "\t defense response               & 4.277693e-06 & At\\\\\n",
       "\t photosynthesis, light reaction & 6.675765e-06 & At\\\\\n",
       "\t biosynthetic process           & 8.173708e-04 & At\\\\\n",
       "\\end{tabular}\n"
      ],
      "text/markdown": [
       "\n",
       "A data.frame: 4 × 3\n",
       "\n",
       "| Description &lt;chr&gt; | pvalue &lt;dbl&gt; | genome &lt;chr&gt; |\n",
       "|---|---|---|\n",
       "| DNA integration                | 6.094983e-48 | At |\n",
       "| defense response               | 4.277693e-06 | At |\n",
       "| photosynthesis, light reaction | 6.675765e-06 | At |\n",
       "| biosynthetic process           | 8.173708e-04 | At |\n",
       "\n"
      ],
      "text/plain": [
       "  Description                    pvalue       genome\n",
       "1 DNA integration                6.094983e-48 At    \n",
       "2 defense response               4.277693e-06 At    \n",
       "3 photosynthesis, light reaction 6.675765e-06 At    \n",
       "4 biosynthetic process           8.173708e-04 At    "
      ]
     },
     "metadata": {},
     "output_type": "display_data"
    }
   ],
   "source": [
    "At_plotData"
   ]
  },
  {
   "cell_type": "markdown",
   "metadata": {},
   "source": [
    "#### TODO 对A2 HYD区域的Gene进行富集分析"
   ]
  },
  {
   "cell_type": "code",
   "execution_count": 6,
   "metadata": {},
   "outputs": [],
   "source": [
    "A2_gene=read.table(\n",
    "    \"./A2_All_GOitem.txt\",\n",
    "    header=F\n",
    ")\n",
    "colnames(A2_gene)=c(\"gene\",\"GO\")\n",
    "des <- go2term(\n",
    "    A2_gene$GO\n",
    ")\n",
    "ont <- go2ont(\n",
    "    A2_gene$GO\n",
    ")"
   ]
  },
  {
   "cell_type": "code",
   "execution_count": 7,
   "metadata": {},
   "outputs": [],
   "source": [
    "queryA2_gene <- read.table(\n",
    "    \"/public/home/zpliu/Pan-genome/peer_review/A2_At_PAV/A2_HYD_region_containedGene.txt\",\n",
    "    header = T, sep = \"\\t\"\n",
    ")\n",
    "res <- enricher(\n",
    "    gene = queryA2_gene$geneId,\n",
    "    universe = A2_gene %>% pull(gene),\n",
    "    qvalueCutof = 0.05,\n",
    "    minGSSize=5,\n",
    "    maxGSSize=500,\n",
    "    pAdjustMethod = \"fdr\",\n",
    "    TERM2GENE = A2_gene %>% select(c(\"GO\", \"gene\")),\n",
    "    TERM2NAME = des\n",
    ")"
   ]
  },
  {
   "cell_type": "code",
   "execution_count": 8,
   "metadata": {},
   "outputs": [],
   "source": [
    "A2_plotData=res@result %>%\n",
    "    # filter(pvalue < 0.05) %>%\n",
    "    left_join(\n",
    "        ont,\n",
    "        by = join_by(ID == go_id)\n",
    "    ) %>%\n",
    "    select(\n",
    "        c(\n",
    "            \"ID\", \"Ontology\", \"Description\",\n",
    "            \"GeneRatio\", \"BgRatio\", \"pvalue\",\n",
    "            \"p.adjust\", \"qvalue\", \"geneID\",\n",
    "            \"Count\"\n",
    "        )\n",
    "    ) %>%\n",
    "    filter(qvalue <= 0.05 & Ontology == \"BP\") %>%\n",
    "    mutate(genome = \"A2\") %>%\n",
    "    select(\n",
    "        \"Description\", \"pvalue\", \"genome\"\n",
    "    )"
   ]
  },
  {
   "cell_type": "code",
   "execution_count": 26,
   "metadata": {},
   "outputs": [
    {
     "data": {
      "text/html": [
       "<table class=\"dataframe\">\n",
       "<caption>A data.frame: 4 × 10</caption>\n",
       "<thead>\n",
       "\t<tr><th scope=col>ID</th><th scope=col>Ontology</th><th scope=col>Description</th><th scope=col>GeneRatio</th><th scope=col>BgRatio</th><th scope=col>pvalue</th><th scope=col>p.adjust</th><th scope=col>qvalue</th><th scope=col>geneID</th><th scope=col>Count</th></tr>\n",
       "\t<tr><th scope=col>&lt;chr&gt;</th><th scope=col>&lt;chr&gt;</th><th scope=col>&lt;chr&gt;</th><th scope=col>&lt;chr&gt;</th><th scope=col>&lt;chr&gt;</th><th scope=col>&lt;dbl&gt;</th><th scope=col>&lt;dbl&gt;</th><th scope=col>&lt;dbl&gt;</th><th scope=col>&lt;chr&gt;</th><th scope=col>&lt;int&gt;</th></tr>\n",
       "</thead>\n",
       "<tbody>\n",
       "\t<tr><td>GO:0009060</td><td>BP</td><td>aerobic respiration        </td><td>6/963</td><td>6/17769 </td><td>2.496714e-08</td><td>1.104796e-06</td><td>1.011826e-06</td><td>J85_Chr03023890/J85_Chr05025630/J85_Chr05025690/J85_Chr05025780/J85_Chr11010170/J85_Chr13022590                </td><td>6</td></tr>\n",
       "\t<tr><td>GO:0030488</td><td>BP</td><td>tRNA methylation           </td><td>6/963</td><td>17/17769</td><td>1.841725e-04</td><td>2.963503e-03</td><td>2.714121e-03</td><td>J85_Chr03000010/J85_Chr03000020/J85_Chr03000040/J85_Chr03000050/J85_Chr03030990/J85_Chr11000160                </td><td>6</td></tr>\n",
       "\t<tr><td>GO:0017004</td><td>BP</td><td>cytochrome complex assembly</td><td>3/963</td><td>5/17769 </td><td>1.461254e-03</td><td>1.989553e-02</td><td>1.822130e-02</td><td>J85_Chr05025860/J85_Chr05025900/J85_Chr13022730                                                                </td><td>3</td></tr>\n",
       "\t<tr><td>GO:0006397</td><td>BP</td><td>mRNA processing            </td><td>7/963</td><td>35/17769</td><td>2.378376e-03</td><td>2.734891e-02</td><td>2.504747e-02</td><td>J85_Chr02000010/J85_Chr03000020/J85_Chr07030010/J85_Chr11000010/J85_Chr11000170/J85_Chr11001770/J85_Chr13022820</td><td>7</td></tr>\n",
       "</tbody>\n",
       "</table>\n"
      ],
      "text/latex": [
       "A data.frame: 4 × 10\n",
       "\\begin{tabular}{llllllllll}\n",
       " ID & Ontology & Description & GeneRatio & BgRatio & pvalue & p.adjust & qvalue & geneID & Count\\\\\n",
       " <chr> & <chr> & <chr> & <chr> & <chr> & <dbl> & <dbl> & <dbl> & <chr> & <int>\\\\\n",
       "\\hline\n",
       "\t GO:0009060 & BP & aerobic respiration         & 6/963 & 6/17769  & 2.496714e-08 & 1.104796e-06 & 1.011826e-06 & J85\\_Chr03023890/J85\\_Chr05025630/J85\\_Chr05025690/J85\\_Chr05025780/J85\\_Chr11010170/J85\\_Chr13022590                 & 6\\\\\n",
       "\t GO:0030488 & BP & tRNA methylation            & 6/963 & 17/17769 & 1.841725e-04 & 2.963503e-03 & 2.714121e-03 & J85\\_Chr03000010/J85\\_Chr03000020/J85\\_Chr03000040/J85\\_Chr03000050/J85\\_Chr03030990/J85\\_Chr11000160                 & 6\\\\\n",
       "\t GO:0017004 & BP & cytochrome complex assembly & 3/963 & 5/17769  & 1.461254e-03 & 1.989553e-02 & 1.822130e-02 & J85\\_Chr05025860/J85\\_Chr05025900/J85\\_Chr13022730                                                                 & 3\\\\\n",
       "\t GO:0006397 & BP & mRNA processing             & 7/963 & 35/17769 & 2.378376e-03 & 2.734891e-02 & 2.504747e-02 & J85\\_Chr02000010/J85\\_Chr03000020/J85\\_Chr07030010/J85\\_Chr11000010/J85\\_Chr11000170/J85\\_Chr11001770/J85\\_Chr13022820 & 7\\\\\n",
       "\\end{tabular}\n"
      ],
      "text/markdown": [
       "\n",
       "A data.frame: 4 × 10\n",
       "\n",
       "| ID &lt;chr&gt; | Ontology &lt;chr&gt; | Description &lt;chr&gt; | GeneRatio &lt;chr&gt; | BgRatio &lt;chr&gt; | pvalue &lt;dbl&gt; | p.adjust &lt;dbl&gt; | qvalue &lt;dbl&gt; | geneID &lt;chr&gt; | Count &lt;int&gt; |\n",
       "|---|---|---|---|---|---|---|---|---|---|\n",
       "| GO:0009060 | BP | aerobic respiration         | 6/963 | 6/17769  | 2.496714e-08 | 1.104796e-06 | 1.011826e-06 | J85_Chr03023890/J85_Chr05025630/J85_Chr05025690/J85_Chr05025780/J85_Chr11010170/J85_Chr13022590                 | 6 |\n",
       "| GO:0030488 | BP | tRNA methylation            | 6/963 | 17/17769 | 1.841725e-04 | 2.963503e-03 | 2.714121e-03 | J85_Chr03000010/J85_Chr03000020/J85_Chr03000040/J85_Chr03000050/J85_Chr03030990/J85_Chr11000160                 | 6 |\n",
       "| GO:0017004 | BP | cytochrome complex assembly | 3/963 | 5/17769  | 1.461254e-03 | 1.989553e-02 | 1.822130e-02 | J85_Chr05025860/J85_Chr05025900/J85_Chr13022730                                                                 | 3 |\n",
       "| GO:0006397 | BP | mRNA processing             | 7/963 | 35/17769 | 2.378376e-03 | 2.734891e-02 | 2.504747e-02 | J85_Chr02000010/J85_Chr03000020/J85_Chr07030010/J85_Chr11000010/J85_Chr11000170/J85_Chr11001770/J85_Chr13022820 | 7 |\n",
       "\n"
      ],
      "text/plain": [
       "  ID         Ontology Description                 GeneRatio BgRatio \n",
       "1 GO:0009060 BP       aerobic respiration         6/963     6/17769 \n",
       "2 GO:0030488 BP       tRNA methylation            6/963     17/17769\n",
       "3 GO:0017004 BP       cytochrome complex assembly 3/963     5/17769 \n",
       "4 GO:0006397 BP       mRNA processing             7/963     35/17769\n",
       "  pvalue       p.adjust     qvalue      \n",
       "1 2.496714e-08 1.104796e-06 1.011826e-06\n",
       "2 1.841725e-04 2.963503e-03 2.714121e-03\n",
       "3 1.461254e-03 1.989553e-02 1.822130e-02\n",
       "4 2.378376e-03 2.734891e-02 2.504747e-02\n",
       "  geneID                                                                                                         \n",
       "1 J85_Chr03023890/J85_Chr05025630/J85_Chr05025690/J85_Chr05025780/J85_Chr11010170/J85_Chr13022590                \n",
       "2 J85_Chr03000010/J85_Chr03000020/J85_Chr03000040/J85_Chr03000050/J85_Chr03030990/J85_Chr11000160                \n",
       "3 J85_Chr05025860/J85_Chr05025900/J85_Chr13022730                                                                \n",
       "4 J85_Chr02000010/J85_Chr03000020/J85_Chr07030010/J85_Chr11000010/J85_Chr11000170/J85_Chr11001770/J85_Chr13022820\n",
       "  Count\n",
       "1 6    \n",
       "2 6    \n",
       "3 3    \n",
       "4 7    "
      ]
     },
     "metadata": {},
     "output_type": "display_data"
    }
   ],
   "source": [
    "res@result %>%\n",
    "    # filter(pvalue < 0.05) %>%\n",
    "    left_join(\n",
    "        ont,\n",
    "        by = join_by(ID == go_id)\n",
    "    ) %>%\n",
    "    select(\n",
    "        c(\n",
    "            \"ID\", \"Ontology\", \"Description\",\n",
    "            \"GeneRatio\", \"BgRatio\", \"pvalue\",\n",
    "            \"p.adjust\", \"qvalue\", \"geneID\",\n",
    "            \"Count\"\n",
    "        )\n",
    "    ) %>%\n",
    "    filter(qvalue <= 0.05 & Ontology == \"BP\" & Description!=\"DNA integration\")"
   ]
  },
  {
   "cell_type": "code",
   "execution_count": 9,
   "metadata": {},
   "outputs": [],
   "source": [
    "plotData=rbind(\n",
    "    At_plotData,\n",
    "    A2_plotData\n",
    ")"
   ]
  },
  {
   "cell_type": "code",
   "execution_count": 21,
   "metadata": {},
   "outputs": [],
   "source": [
    "plotData=plotData %>% filter(\n",
    "     !Description  %in% c(\"DNA integration\")\n",
    ")\n",
    "plotData$Description=factor(plotData$Description,\n",
    "    levels = c( \n",
    "        'defense response',\n",
    "        'photosynthesis, light reaction',\n",
    "        'biosynthetic process',\n",
    "        'aerobic respiration',\n",
    "        'tRNA methylation',\n",
    "        'cytochrome complex assembly',\n",
    "        'mRNA processing'\n",
    "    )\n",
    ")"
   ]
  },
  {
   "cell_type": "code",
   "execution_count": 24,
   "metadata": {},
   "outputs": [
    {
     "data": {
      "text/html": [
       "<strong>png:</strong> 2"
      ],
      "text/latex": [
       "\\textbf{png:} 2"
      ],
      "text/markdown": [
       "**png:** 2"
      ],
      "text/plain": [
       "png \n",
       "  2 "
      ]
     },
     "metadata": {},
     "output_type": "display_data"
    },
    {
     "data": {
      "image/png": "[encoded data removed]",
      "text/plain": [
       "plot without title"
      ]
     },
     "metadata": {
      "image/png": {
       "height": 420,
       "width": 420
      }
     },
     "output_type": "display_data"
    }
   ],
   "source": [
    "p <- plotData %>% ggplot(\n",
    "    aes(y = Description, x = -log(pvalue), fill = genome)\n",
    ") +\n",
    "    geom_bar(\n",
    "        stat = \"identity\",\n",
    "        position = position_dodge(),\n",
    "        width = 0.5\n",
    "    ) +\n",
    "    theme_classic() +\n",
    "    theme(\n",
    "        legend.position = c(0.8, 0.2),\n",
    "        panel.background = element_blank(),\n",
    "        panel.grid = element_blank(),\n",
    "        legend.title = element_blank(),\n",
    "        legend.text = element_text(size = 12)\n",
    "    ) +\n",
    "    base_theme +\n",
    "    scale_x_continuous(expand = c(0, 0)) +\n",
    "    xlab(\"-log10(p-adjust)\") +\n",
    "    ylab(\"\")\n",
    "pdf(\"/public/home/zpliu/Pan-genome/peer_review/A2_At_PAV/GO_info.pdf\", width = 10, height = 7)\n",
    "print(p)\n",
    "dev.off()\n",
    "p"
   ]
  }
 ],
 "metadata": {
  "kernelspec": {
   "display_name": "R 3.6",
   "language": "R",
   "name": "ir32"
  },
  "language_info": {
   "codemirror_mode": "r",
   "file_extension": ".r",
   "mimetype": "text/x-r-source",
   "name": "R",
   "pygments_lexer": "r",
   "version": "3.6.0"
  },
  "orig_nbformat": 4
 },
 "nbformat": 4,
 "nbformat_minor": 2
}
