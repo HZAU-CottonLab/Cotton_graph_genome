{
 "cells": [
  {
   "cell_type": "code",
   "execution_count": 1,
   "metadata": {},
   "outputs": [
    {
     "name": "stderr",
     "output_type": "stream",
     "text": [
      "\n",
      "Attaching package: ‘dplyr’\n",
      "\n",
      "\n",
      "The following objects are masked from ‘package:stats’:\n",
      "\n",
      "    filter, lag\n",
      "\n",
      "\n",
      "The following objects are masked from ‘package:base’:\n",
      "\n",
      "    intersect, setdiff, setequal, union\n",
      "\n",
      "\n",
      "Much appreciate for using CMplot.\n",
      "\n",
      "Full description, Bug report, Suggestion and the latest codes:\n",
      "\n",
      "https://github.com/YinLiLin/CMplot\n",
      "\n",
      "Loading required package: carData\n",
      "\n",
      "\n",
      "Attaching package: ‘car’\n",
      "\n",
      "\n",
      "The following object is masked from ‘package:dplyr’:\n",
      "\n",
      "    recode\n",
      "\n",
      "\n"
     ]
    }
   ],
   "source": [
    "library(dplyr)\n",
    "library(CMplot)\n",
    "library(car)"
   ]
  },
  {
   "cell_type": "code",
   "execution_count": 11,
   "metadata": {},
   "outputs": [],
   "source": [
    "#---------------------------------------------------------------\n",
    "#TODO 绘制SNP未过滤前，在染色体上的分布\n",
    "#---------------------------------------------------------------\n",
    "SNPData=read.table(\"./call_variation_info.txt\")\n",
    "colnames(SNPData)=c(\"Chromosome\",'Position','SNP')"
   ]
  },
  {
   "cell_type": "code",
   "execution_count": 12,
   "metadata": {},
   "outputs": [],
   "source": [
    "SNPData <- SNPData %>% select(c(\"SNP\", \"Chromosome\", \"Position\"))"
   ]
  },
  {
   "cell_type": "code",
   "execution_count": 9,
   "metadata": {},
   "outputs": [
    {
     "name": "stdout",
     "output_type": "stream",
     "text": [
      "'data.frame':\t4072019 obs. of  3 variables:\n",
      " $ SNP       : Factor w/ 4072019 levels \"Chr01_10000014\",..: 113664 157101 157466 157491 157501 157790 157865 157994 162280 162362 ...\n",
      " $ Chromosome: Factor w/ 13 levels \"Chr01\",\"Chr02\",..: 1 1 1 1 1 1 1 1 1 1 ...\n",
      " $ Position  : int  1451 2824 2844 2845 2846 2861 2863 2868 3067 3071 ...\n"
     ]
    }
   ],
   "source": [
    "str(SNPData)"
   ]
  },
  {
   "cell_type": "code",
   "execution_count": 13,
   "metadata": {},
   "outputs": [
    {
     "name": "stdout",
     "output_type": "stream",
     "text": [
      " SNP-Density Plotting.\n",
      " Plots are stored in: /public/home/zpliu/Pan-genome/Genotype_diploid \n"
     ]
    }
   ],
   "source": [
    "CMplot(SNPData,\n",
    "    plot.type = \"d\", bin.size = 1e6,\n",
    "    col = c(\"darkgreen\", \"yellow\", \"red\"),\n",
    "    file = \"jpg\", memo = \"SNP_density_J85\", dpi = 300,\n",
    "    file.output = T, verbose = TRUE,s\n",
    "    bin.range=c(100, 1000)\n",
    ")"
   ]
  },
  {
   "cell_type": "code",
   "execution_count": 14,
   "metadata": {},
   "outputs": [],
   "source": [
    "A2_SNPData=read.table(\"/cotton/Liuzhenping/diaploidCotton_sQTL/Genotype/filter2_Q600_SNPs_joint_216_number_chr_recode.map\",header =F)\n",
    "colnames(A2_SNPData)=c(\"Chromosome\",'SNP','other','Position')\n",
    "\n",
    "A2_SNPData <- A2_SNPData %>% select(c(\"SNP\", \"Chromosome\", \"Position\"))"
   ]
  },
  {
   "cell_type": "code",
   "execution_count": 20,
   "metadata": {},
   "outputs": [
    {
     "name": "stdout",
     "output_type": "stream",
     "text": [
      " SNP-Density Plotting.\n",
      " Plots are stored in: /public/home/zpliu/Pan-genome/Genotype_diploid \n"
     ]
    }
   ],
   "source": [
    "CMplot(A2_SNPData,\n",
    "    plot.type = \"d\", bin.size = 1e6,\n",
    "    col = c(\"darkgreen\", \"yellow\", \"red\"),\n",
    "    file = \"jpg\", memo = \"SNP_density_A2\", dpi = 300,\n",
    "    file.output = T, verbose = TRUE,\n",
    "    bin.range=c(100, 1000)\n",
    ")"
   ]
  }
 ],
 "metadata": {
  "kernelspec": {
   "display_name": "R 3.6",
   "language": "R",
   "name": "ir32"
  },
  "language_info": {
   "codemirror_mode": "r",
   "file_extension": ".r",
   "mimetype": "text/x-r-source",
   "name": "R",
   "pygments_lexer": "r",
   "version": "3.6.0"
  },
  "orig_nbformat": 4
 },
 "nbformat": 4,
 "nbformat_minor": 2
}
