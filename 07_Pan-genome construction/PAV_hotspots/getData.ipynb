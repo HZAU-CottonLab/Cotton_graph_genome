{
 "cells": [
  {
   "cell_type": "code",
   "execution_count": 1,
   "metadata": {},
   "outputs": [
    {
     "name": "stderr",
     "output_type": "stream",
     "text": [
      "Loading required package: stats4\n",
      "\n",
      "Loading required package: BiocGenerics\n",
      "\n",
      "Loading required package: parallel\n",
      "\n",
      "\n",
      "Attaching package: ‘BiocGenerics’\n",
      "\n",
      "\n",
      "The following objects are masked from ‘package:parallel’:\n",
      "\n",
      "    clusterApply, clusterApplyLB, clusterCall, clusterEvalQ,\n",
      "    clusterExport, clusterMap, parApply, parCapply, parLapply,\n",
      "    parLapplyLB, parRapply, parSapply, parSapplyLB\n",
      "\n",
      "\n",
      "The following objects are masked from ‘package:stats’:\n",
      "\n",
      "    IQR, mad, sd, var, xtabs\n",
      "\n",
      "\n",
      "The following objects are masked from ‘package:base’:\n",
      "\n",
      "    anyDuplicated, append, as.data.frame, basename, cbind, colnames,\n",
      "    dirname, do.call, duplicated, eval, evalq, Filter, Find, get, grep,\n",
      "    grepl, intersect, is.unsorted, lapply, Map, mapply, match, mget,\n",
      "    order, paste, pmax, pmax.int, pmin, pmin.int, Position, rank,\n",
      "    rbind, Reduce, rownames, sapply, setdiff, sort, table, tapply,\n",
      "    union, unique, unsplit, which, which.max, which.min\n",
      "\n",
      "\n",
      "Loading required package: S4Vectors\n",
      "\n",
      "\n",
      "Attaching package: ‘S4Vectors’\n",
      "\n",
      "\n",
      "The following object is masked from ‘package:base’:\n",
      "\n",
      "    expand.grid\n",
      "\n",
      "\n",
      "Loading required package: IRanges\n",
      "\n",
      "Loading required package: GenomeInfoDb\n",
      "\n",
      "Loading required package: RColorBrewer\n",
      "\n",
      "Loading required package: cowplot\n",
      "\n",
      "Loading required package: scales\n",
      "\n",
      "\n",
      "Attaching package: ‘dplyr’\n",
      "\n",
      "\n",
      "The following objects are masked from ‘package:GenomicRanges’:\n",
      "\n",
      "    intersect, setdiff, union\n",
      "\n",
      "\n",
      "The following object is masked from ‘package:GenomeInfoDb’:\n",
      "\n",
      "    intersect\n",
      "\n",
      "\n",
      "The following objects are masked from ‘package:IRanges’:\n",
      "\n",
      "    collapse, desc, intersect, setdiff, slice, union\n",
      "\n",
      "\n",
      "The following objects are masked from ‘package:S4Vectors’:\n",
      "\n",
      "    first, intersect, rename, setdiff, setequal, union\n",
      "\n",
      "\n",
      "The following objects are masked from ‘package:BiocGenerics’:\n",
      "\n",
      "    combine, intersect, setdiff, union\n",
      "\n",
      "\n",
      "The following objects are masked from ‘package:stats’:\n",
      "\n",
      "    filter, lag\n",
      "\n",
      "\n",
      "The following objects are masked from ‘package:base’:\n",
      "\n",
      "    intersect, setdiff, setequal, union\n",
      "\n",
      "\n"
     ]
    }
   ],
   "source": [
    "library(\"GenomicRanges\")\n",
    "#remotes::install_github(\"daewoooo/primatR\", force=TRUE)\n",
    "library(\"primatR\")\n",
    "library(dplyr)"
   ]
  },
  {
   "cell_type": "code",
   "execution_count": 27,
   "metadata": {},
   "outputs": [],
   "source": [
    "SVs_info <- read.table(\n",
    "    \"/public/home/zpliu/Pan-genome/SV_parallele_V2/superPan/Dt_genotype_V2/Dt_SV_merge_info.txt\",\n",
    "    sep = \"\\t\",\n",
    "    comment.char = \"\",\n",
    "    header = T\n",
    ")"
   ]
  },
  {
   "cell_type": "code",
   "execution_count": 28,
   "metadata": {},
   "outputs": [],
   "source": [
    "SVs_info=SVs_info %>%\n",
    "    select(c(\"X.Chr\", \"start\", \"end\")) %>%\n",
    "    mutate(\n",
    "        Site = ceiling(\n",
    "            (start + end) / 2\n",
    "        )\n",
    "    )\n",
    "colnames(SVs_info)=c(\"Chr\",'Start',\"End\",\"Site\")"
   ]
  },
  {
   "cell_type": "code",
   "execution_count": 29,
   "metadata": {},
   "outputs": [],
   "source": [
    "gr <- GRanges(\n",
    "    seqnames = Rle(SVs_info %>% pull(Chr)),\n",
    "    ranges = IRanges(\n",
    "        start = SVs_info %>% pull(Site),\n",
    "        end = SVs_info %>% pull(Site) + 1\n",
    "    )\n",
    ")"
   ]
  },
  {
   "cell_type": "code",
   "execution_count": 30,
   "metadata": {},
   "outputs": [],
   "source": [
    "genomeLengths=read.table(\n",
    "    \"/public/home/zpliu/Pan-genome/Cactus-Pan/genomeSequence/HC04/HC04-softMasked.fa.fai\",\n",
    "    header=F,sep=\"\\t\"\n",
    ")\n",
    "#* 添加染色体长度信息\n",
    "At_length=genomeLengths[grep(\"^HC04_D\",genomeLengths$V1),] %>% pull(V2)\n",
    "seqlengths(gr)=At_length"
   ]
  },
  {
   "cell_type": "code",
   "execution_count": 24,
   "metadata": {},
   "outputs": [],
   "source": [
    "#A2的染色体信息\n",
    "genomeLengths=read.table(\n",
    "    \"/public/home/zpliu/Pan-genome/Cactus-Pan/genomeSequence/J85/J85-softMasked.fa.fai\",\n",
    "    header=F,sep=\"\\t\"\n",
    ")\n",
    "#* 添加染色体长度信息\n",
    "At_length=genomeLengths[grep(\"^J85\",genomeLengths$V1),] %>% pull(V2)\n",
    "seqlengths(gr)=At_length"
   ]
  },
  {
   "cell_type": "code",
   "execution_count": 31,
   "metadata": {},
   "outputs": [],
   "source": [
    "#! hotspots分析\n",
    "data=hotspotter(\n",
    "    gr,bw = 200000,num.trial = 1000,\n",
    "    pval = 0.05\n",
    ")"
   ]
  },
  {
   "cell_type": "code",
   "execution_count": 32,
   "metadata": {},
   "outputs": [],
   "source": [
    "write.table(\n",
    "    as.data.frame(data),\n",
    "    file = \"Dt_hotpots.txt\",\n",
    "    row.names = F,\n",
    "    col.names = T,\n",
    "    sep = \"\\t\",\n",
    "    quote = F\n",
    ")"
   ]
  }
 ],
 "metadata": {
  "kernelspec": {
   "display_name": "R 3.6",
   "language": "R",
   "name": "ir32"
  },
  "language_info": {
   "codemirror_mode": "r",
   "file_extension": ".r",
   "mimetype": "text/x-r-source",
   "name": "R",
   "pygments_lexer": "r",
   "version": "3.6.0"
  },
  "orig_nbformat": 4
 },
 "nbformat": 4,
 "nbformat_minor": 2
}
