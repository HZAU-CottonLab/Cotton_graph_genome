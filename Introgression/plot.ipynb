{
 "cells": [
  {
   "cell_type": "markdown",
   "metadata": {},
   "source": [
    "### TODO 亚基因组特异的渐渗区间Hotspot分析\n"
   ]
  },
  {
   "cell_type": "code",
   "execution_count": 1,
   "metadata": {},
   "outputs": [
    {
     "name": "stderr",
     "output_type": "stream",
     "text": [
      "Loading required package: stats4\n",
      "\n",
      "Loading required package: BiocGenerics\n",
      "\n",
      "Loading required package: parallel\n",
      "\n",
      "\n",
      "Attaching package: ‘BiocGenerics’\n",
      "\n",
      "\n",
      "The following objects are masked from ‘package:parallel’:\n",
      "\n",
      "    clusterApply, clusterApplyLB, clusterCall, clusterEvalQ,\n",
      "    clusterExport, clusterMap, parApply, parCapply, parLapply,\n",
      "    parLapplyLB, parRapply, parSapply, parSapplyLB\n",
      "\n",
      "\n",
      "The following objects are masked from ‘package:stats’:\n",
      "\n",
      "    IQR, mad, sd, var, xtabs\n",
      "\n",
      "\n",
      "The following objects are masked from ‘package:base’:\n",
      "\n",
      "    anyDuplicated, append, as.data.frame, basename, cbind, colnames,\n",
      "    dirname, do.call, duplicated, eval, evalq, Filter, Find, get, grep,\n",
      "    grepl, intersect, is.unsorted, lapply, Map, mapply, match, mget,\n",
      "    order, paste, pmax, pmax.int, pmin, pmin.int, Position, rank,\n",
      "    rbind, Reduce, rownames, sapply, setdiff, sort, table, tapply,\n",
      "    union, unique, unsplit, which, which.max, which.min\n",
      "\n",
      "\n",
      "Loading required package: S4Vectors\n",
      "\n",
      "\n",
      "Attaching package: ‘S4Vectors’\n",
      "\n",
      "\n",
      "The following object is masked from ‘package:base’:\n",
      "\n",
      "    expand.grid\n",
      "\n",
      "\n",
      "Loading required package: IRanges\n",
      "\n",
      "Loading required package: GenomeInfoDb\n",
      "\n",
      "Loading required package: RColorBrewer\n",
      "\n",
      "Loading required package: cowplot\n",
      "\n",
      "Loading required package: scales\n",
      "\n",
      "\n",
      "Attaching package: ‘dplyr’\n",
      "\n",
      "\n",
      "The following objects are masked from ‘package:GenomicRanges’:\n",
      "\n",
      "    intersect, setdiff, union\n",
      "\n",
      "\n",
      "The following object is masked from ‘package:GenomeInfoDb’:\n",
      "\n",
      "    intersect\n",
      "\n",
      "\n",
      "The following objects are masked from ‘package:IRanges’:\n",
      "\n",
      "    collapse, desc, intersect, setdiff, slice, union\n",
      "\n",
      "\n",
      "The following objects are masked from ‘package:S4Vectors’:\n",
      "\n",
      "    first, intersect, rename, setdiff, setequal, union\n",
      "\n",
      "\n",
      "The following objects are masked from ‘package:BiocGenerics’:\n",
      "\n",
      "    combine, intersect, setdiff, union\n",
      "\n",
      "\n",
      "The following objects are masked from ‘package:stats’:\n",
      "\n",
      "    filter, lag\n",
      "\n",
      "\n",
      "The following objects are masked from ‘package:base’:\n",
      "\n",
      "    intersect, setdiff, setequal, union\n",
      "\n",
      "\n"
     ]
    }
   ],
   "source": [
    "library(\"GenomicRanges\")\n",
    "#remotes::install_github(\"daewoooo/primatR\", force=TRUE)\n",
    "library(\"primatR\")\n",
    "library(dplyr)"
   ]
  },
  {
   "cell_type": "code",
   "execution_count": 5,
   "metadata": {},
   "outputs": [],
   "source": [
    "subGenome_Is_region=read.table(\n",
    "    \"subGenome_IS_wildContribution.txt\",\n",
    "    header=T,sep=\"\\t\"\n",
    ")\n",
    "All_IS_region=read.table(\n",
    "    \"./All_Is_window_v2.txt\",\n",
    "    header=F,sep=\"\\t\"\n",
    ")"
   ]
  },
  {
   "cell_type": "code",
   "execution_count": 11,
   "metadata": {},
   "outputs": [
    {
     "data": {
      "text/html": [
       "<table class=\"dataframe\">\n",
       "<caption>A data.frame: 6 × 9</caption>\n",
       "<thead>\n",
       "\t<tr><th></th><th scope=col>AtChr</th><th scope=col>AtStart</th><th scope=col>AtEnd</th><th scope=col>DtChr</th><th scope=col>DtStart</th><th scope=col>DtEnd</th><th scope=col>cumSeq</th><th scope=col>AtIS_count</th><th scope=col>DtIS_count</th></tr>\n",
       "\t<tr><th></th><th scope=col>&lt;fct&gt;</th><th scope=col>&lt;int&gt;</th><th scope=col>&lt;int&gt;</th><th scope=col>&lt;fct&gt;</th><th scope=col>&lt;int&gt;</th><th scope=col>&lt;int&gt;</th><th scope=col>&lt;int&gt;</th><th scope=col>&lt;int&gt;</th><th scope=col>&lt;int&gt;</th></tr>\n",
       "</thead>\n",
       "<tbody>\n",
       "\t<tr><th scope=row>1</th><td>HC04_A01</td><td>118000000</td><td>119000000</td><td>HC04_D01</td><td>1000000</td><td>2000000</td><td>420582</td><td>18</td><td> 5</td></tr>\n",
       "\t<tr><th scope=row>2</th><td>HC04_A01</td><td>116000000</td><td>117000000</td><td>HC04_D01</td><td>2000000</td><td>3000000</td><td>455767</td><td>31</td><td>16</td></tr>\n",
       "\t<tr><th scope=row>3</th><td>HC04_A01</td><td>115000000</td><td>116000000</td><td>HC04_D01</td><td>3000000</td><td>4000000</td><td>530267</td><td>30</td><td> 4</td></tr>\n",
       "\t<tr><th scope=row>4</th><td>HC04_A01</td><td>114000000</td><td>115000000</td><td>HC04_D01</td><td>4000000</td><td>5000000</td><td>515380</td><td> 0</td><td>31</td></tr>\n",
       "\t<tr><th scope=row>5</th><td>HC04_A01</td><td>112000000</td><td>113000000</td><td>HC04_D01</td><td>5000000</td><td>6000000</td><td>535317</td><td>25</td><td>31</td></tr>\n",
       "\t<tr><th scope=row>6</th><td>HC04_A01</td><td>111000000</td><td>112000000</td><td>HC04_D01</td><td>6000000</td><td>7000000</td><td>525511</td><td>12</td><td>35</td></tr>\n",
       "</tbody>\n",
       "</table>\n"
      ],
      "text/latex": [
       "A data.frame: 6 × 9\n",
       "\\begin{tabular}{r|lllllllll}\n",
       "  & AtChr & AtStart & AtEnd & DtChr & DtStart & DtEnd & cumSeq & AtIS\\_count & DtIS\\_count\\\\\n",
       "  & <fct> & <int> & <int> & <fct> & <int> & <int> & <int> & <int> & <int>\\\\\n",
       "\\hline\n",
       "\t1 & HC04\\_A01 & 118000000 & 119000000 & HC04\\_D01 & 1000000 & 2000000 & 420582 & 18 &  5\\\\\n",
       "\t2 & HC04\\_A01 & 116000000 & 117000000 & HC04\\_D01 & 2000000 & 3000000 & 455767 & 31 & 16\\\\\n",
       "\t3 & HC04\\_A01 & 115000000 & 116000000 & HC04\\_D01 & 3000000 & 4000000 & 530267 & 30 &  4\\\\\n",
       "\t4 & HC04\\_A01 & 114000000 & 115000000 & HC04\\_D01 & 4000000 & 5000000 & 515380 &  0 & 31\\\\\n",
       "\t5 & HC04\\_A01 & 112000000 & 113000000 & HC04\\_D01 & 5000000 & 6000000 & 535317 & 25 & 31\\\\\n",
       "\t6 & HC04\\_A01 & 111000000 & 112000000 & HC04\\_D01 & 6000000 & 7000000 & 525511 & 12 & 35\\\\\n",
       "\\end{tabular}\n"
      ],
      "text/markdown": [
       "\n",
       "A data.frame: 6 × 9\n",
       "\n",
       "| <!--/--> | AtChr &lt;fct&gt; | AtStart &lt;int&gt; | AtEnd &lt;int&gt; | DtChr &lt;fct&gt; | DtStart &lt;int&gt; | DtEnd &lt;int&gt; | cumSeq &lt;int&gt; | AtIS_count &lt;int&gt; | DtIS_count &lt;int&gt; |\n",
       "|---|---|---|---|---|---|---|---|---|---|\n",
       "| 1 | HC04_A01 | 118000000 | 119000000 | HC04_D01 | 1000000 | 2000000 | 420582 | 18 |  5 |\n",
       "| 2 | HC04_A01 | 116000000 | 117000000 | HC04_D01 | 2000000 | 3000000 | 455767 | 31 | 16 |\n",
       "| 3 | HC04_A01 | 115000000 | 116000000 | HC04_D01 | 3000000 | 4000000 | 530267 | 30 |  4 |\n",
       "| 4 | HC04_A01 | 114000000 | 115000000 | HC04_D01 | 4000000 | 5000000 | 515380 |  0 | 31 |\n",
       "| 5 | HC04_A01 | 112000000 | 113000000 | HC04_D01 | 5000000 | 6000000 | 535317 | 25 | 31 |\n",
       "| 6 | HC04_A01 | 111000000 | 112000000 | HC04_D01 | 6000000 | 7000000 | 525511 | 12 | 35 |\n",
       "\n"
      ],
      "text/plain": [
       "  AtChr    AtStart   AtEnd     DtChr    DtStart DtEnd   cumSeq AtIS_count\n",
       "1 HC04_A01 118000000 119000000 HC04_D01 1000000 2000000 420582 18        \n",
       "2 HC04_A01 116000000 117000000 HC04_D01 2000000 3000000 455767 31        \n",
       "3 HC04_A01 115000000 116000000 HC04_D01 3000000 4000000 530267 30        \n",
       "4 HC04_A01 114000000 115000000 HC04_D01 4000000 5000000 515380  0        \n",
       "5 HC04_A01 112000000 113000000 HC04_D01 5000000 6000000 535317 25        \n",
       "6 HC04_A01 111000000 112000000 HC04_D01 6000000 7000000 525511 12        \n",
       "  DtIS_count\n",
       "1  5        \n",
       "2 16        \n",
       "3  4        \n",
       "4 31        \n",
       "5 31        \n",
       "6 35        "
      ]
     },
     "metadata": {},
     "output_type": "display_data"
    }
   ],
   "source": [
    "head(subGenome_Is_region)"
   ]
  },
  {
   "cell_type": "code",
   "execution_count": 74,
   "metadata": {},
   "outputs": [],
   "source": [
    "At_all_Is=All_IS_region[grep(\"^HC04_A\",All_IS_region$V1),]  %>% select(\"V1\",'V2',\"V3\")\n",
    "At_subgnomeIS=subGenome_Is_region %>% filter((DtIS_count!=0)&(AtIS_count!=0)) %>% select(\"AtChr\",'AtStart',\"AtEnd\")\n",
    "colnames(At_all_Is)=colnames(At_subgnomeIS)"
   ]
  },
  {
   "cell_type": "code",
   "execution_count": 75,
   "metadata": {},
   "outputs": [],
   "source": [
    "#* 只在At检测到渐渗的windows\n",
    "At_specific_IS=rbind(\n",
    "    At_subgnomeIS,At_all_Is\n",
    ") %>% count(AtChr,AtStart,AtEnd) %>% filter(n==1)\n",
    "At_specific_IS$AtChr=factor(At_specific_IS$AtChr)"
   ]
  },
  {
   "cell_type": "code",
   "execution_count": 76,
   "metadata": {},
   "outputs": [],
   "source": [
    "At_specific_IS_info=At_specific_IS %>% select(\n",
    "    c(\"AtChr\",\"AtStart\",\"AtEnd\")\n",
    "    )%>%\n",
    "    mutate(\n",
    "        Site = ceiling(\n",
    "            (AtStart + AtEnd) / 2\n",
    "        )\n",
    "    )\n",
    "colnames(At_specific_IS_info)=c(\"Chr\",'Start',\"End\",\"Site\")    "
   ]
  },
  {
   "cell_type": "code",
   "execution_count": 77,
   "metadata": {},
   "outputs": [],
   "source": [
    "gr <- GRanges(\n",
    "    seqnames = Rle(At_specific_IS_info %>% pull(Chr)),\n",
    "    ranges = IRanges(\n",
    "        start = At_specific_IS_info %>% pull(Site),\n",
    "        end = At_specific_IS_info %>% pull(Site) + 1\n",
    "    )\n",
    ")"
   ]
  },
  {
   "cell_type": "code",
   "execution_count": 79,
   "metadata": {},
   "outputs": [],
   "source": [
    "genomeLengths=read.table(\n",
    "    \"/public/home/zpliu/Pan-genome/Cactus-Pan/genomeSequence/HC04/HC04-softMasked.fa.fai\",\n",
    "    header=F,sep=\"\\t\"\n",
    ")\n",
    "#* 添加染色体长度信息\n",
    "At_length=genomeLengths[grep(\"^HC04_A\",genomeLengths$V1),] %>% pull(V2)\n",
    "seqlengths(gr)=At_length"
   ]
  },
  {
   "cell_type": "code",
   "execution_count": 89,
   "metadata": {},
   "outputs": [],
   "source": [
    "#! IS的hotspots分析\n",
    "data=hotspotter(\n",
    "    gr,bw = 2000000,num.trial = 1000,\n",
    "    pval = 0.05\n",
    ")"
   ]
  },
  {
   "cell_type": "code",
   "execution_count": 90,
   "metadata": {},
   "outputs": [
    {
     "data": {
      "text/html": [
       "<table class=\"dataframe\">\n",
       "<caption>A data.frame: 15 × 7</caption>\n",
       "<thead>\n",
       "\t<tr><th scope=col>seqnames</th><th scope=col>start</th><th scope=col>end</th><th scope=col>width</th><th scope=col>strand</th><th scope=col>pvalue</th><th scope=col>num.events</th></tr>\n",
       "\t<tr><th scope=col>&lt;fct&gt;</th><th scope=col>&lt;int&gt;</th><th scope=col>&lt;int&gt;</th><th scope=col>&lt;int&gt;</th><th scope=col>&lt;fct&gt;</th><th scope=col>&lt;dbl&gt;</th><th scope=col>&lt;int&gt;</th></tr>\n",
       "</thead>\n",
       "<tbody>\n",
       "\t<tr><td>HC04_A01</td><td>96750489</td><td>103294520</td><td> 6544032</td><td>*</td><td>0.0402324219</td><td> 6</td></tr>\n",
       "\t<tr><td>HC04_A02</td><td>42591977</td><td> 61177103</td><td>18585127</td><td>*</td><td>0.0012148438</td><td>15</td></tr>\n",
       "\t<tr><td>HC04_A03</td><td>64288650</td><td> 70147749</td><td> 5859100</td><td>*</td><td>0.0090410156</td><td> 3</td></tr>\n",
       "\t<tr><td>HC04_A04</td><td>76312133</td><td> 83646770</td><td> 7334638</td><td>*</td><td>0.0251464844</td><td> 4</td></tr>\n",
       "\t<tr><td>HC04_A05</td><td>23824853</td><td> 28595889</td><td> 4771037</td><td>*</td><td>0.0233300781</td><td> 4</td></tr>\n",
       "\t<tr><td>HC04_A05</td><td>88251468</td><td>101797455</td><td>13545988</td><td>*</td><td>0.0004492188</td><td>12</td></tr>\n",
       "\t<tr><td>HC04_A06</td><td>23803327</td><td> 27597846</td><td> 3794520</td><td>*</td><td>0.0431425781</td><td> 4</td></tr>\n",
       "\t<tr><td>HC04_A06</td><td>42004892</td><td> 48619373</td><td> 6614482</td><td>*</td><td>0.0249042969</td><td> 7</td></tr>\n",
       "\t<tr><td>HC04_A06</td><td>93276908</td><td> 98609588</td><td> 5332681</td><td>*</td><td>0.0310664063</td><td> 6</td></tr>\n",
       "\t<tr><td>HC04_A08</td><td>71388454</td><td> 83658512</td><td>12270059</td><td>*</td><td>0.0301289062</td><td>13</td></tr>\n",
       "\t<tr><td>HC04_A10</td><td>22280822</td><td> 27920743</td><td> 5639922</td><td>*</td><td>0.0257363281</td><td> 4</td></tr>\n",
       "\t<tr><td>HC04_A10</td><td>71055773</td><td> 76453032</td><td> 5397260</td><td>*</td><td>0.0222226562</td><td> 4</td></tr>\n",
       "\t<tr><td>HC04_A11</td><td>68938356</td><td> 98787670</td><td>29849315</td><td>*</td><td>0.0069824219</td><td>26</td></tr>\n",
       "\t<tr><td>HC04_A12</td><td>10552838</td><td> 14578277</td><td> 4025440</td><td>*</td><td>0.0338906250</td><td> 3</td></tr>\n",
       "\t<tr><td>HC04_A13</td><td>56280822</td><td> 76445204</td><td>20164383</td><td>*</td><td>0.0045253906</td><td>19</td></tr>\n",
       "</tbody>\n",
       "</table>\n"
      ],
      "text/latex": [
       "A data.frame: 15 × 7\n",
       "\\begin{tabular}{lllllll}\n",
       " seqnames & start & end & width & strand & pvalue & num.events\\\\\n",
       " <fct> & <int> & <int> & <int> & <fct> & <dbl> & <int>\\\\\n",
       "\\hline\n",
       "\t HC04\\_A01 & 96750489 & 103294520 &  6544032 & * & 0.0402324219 &  6\\\\\n",
       "\t HC04\\_A02 & 42591977 &  61177103 & 18585127 & * & 0.0012148438 & 15\\\\\n",
       "\t HC04\\_A03 & 64288650 &  70147749 &  5859100 & * & 0.0090410156 &  3\\\\\n",
       "\t HC04\\_A04 & 76312133 &  83646770 &  7334638 & * & 0.0251464844 &  4\\\\\n",
       "\t HC04\\_A05 & 23824853 &  28595889 &  4771037 & * & 0.0233300781 &  4\\\\\n",
       "\t HC04\\_A05 & 88251468 & 101797455 & 13545988 & * & 0.0004492188 & 12\\\\\n",
       "\t HC04\\_A06 & 23803327 &  27597846 &  3794520 & * & 0.0431425781 &  4\\\\\n",
       "\t HC04\\_A06 & 42004892 &  48619373 &  6614482 & * & 0.0249042969 &  7\\\\\n",
       "\t HC04\\_A06 & 93276908 &  98609588 &  5332681 & * & 0.0310664063 &  6\\\\\n",
       "\t HC04\\_A08 & 71388454 &  83658512 & 12270059 & * & 0.0301289062 & 13\\\\\n",
       "\t HC04\\_A10 & 22280822 &  27920743 &  5639922 & * & 0.0257363281 &  4\\\\\n",
       "\t HC04\\_A10 & 71055773 &  76453032 &  5397260 & * & 0.0222226562 &  4\\\\\n",
       "\t HC04\\_A11 & 68938356 &  98787670 & 29849315 & * & 0.0069824219 & 26\\\\\n",
       "\t HC04\\_A12 & 10552838 &  14578277 &  4025440 & * & 0.0338906250 &  3\\\\\n",
       "\t HC04\\_A13 & 56280822 &  76445204 & 20164383 & * & 0.0045253906 & 19\\\\\n",
       "\\end{tabular}\n"
      ],
      "text/markdown": [
       "\n",
       "A data.frame: 15 × 7\n",
       "\n",
       "| seqnames &lt;fct&gt; | start &lt;int&gt; | end &lt;int&gt; | width &lt;int&gt; | strand &lt;fct&gt; | pvalue &lt;dbl&gt; | num.events &lt;int&gt; |\n",
       "|---|---|---|---|---|---|---|\n",
       "| HC04_A01 | 96750489 | 103294520 |  6544032 | * | 0.0402324219 |  6 |\n",
       "| HC04_A02 | 42591977 |  61177103 | 18585127 | * | 0.0012148438 | 15 |\n",
       "| HC04_A03 | 64288650 |  70147749 |  5859100 | * | 0.0090410156 |  3 |\n",
       "| HC04_A04 | 76312133 |  83646770 |  7334638 | * | 0.0251464844 |  4 |\n",
       "| HC04_A05 | 23824853 |  28595889 |  4771037 | * | 0.0233300781 |  4 |\n",
       "| HC04_A05 | 88251468 | 101797455 | 13545988 | * | 0.0004492188 | 12 |\n",
       "| HC04_A06 | 23803327 |  27597846 |  3794520 | * | 0.0431425781 |  4 |\n",
       "| HC04_A06 | 42004892 |  48619373 |  6614482 | * | 0.0249042969 |  7 |\n",
       "| HC04_A06 | 93276908 |  98609588 |  5332681 | * | 0.0310664063 |  6 |\n",
       "| HC04_A08 | 71388454 |  83658512 | 12270059 | * | 0.0301289062 | 13 |\n",
       "| HC04_A10 | 22280822 |  27920743 |  5639922 | * | 0.0257363281 |  4 |\n",
       "| HC04_A10 | 71055773 |  76453032 |  5397260 | * | 0.0222226562 |  4 |\n",
       "| HC04_A11 | 68938356 |  98787670 | 29849315 | * | 0.0069824219 | 26 |\n",
       "| HC04_A12 | 10552838 |  14578277 |  4025440 | * | 0.0338906250 |  3 |\n",
       "| HC04_A13 | 56280822 |  76445204 | 20164383 | * | 0.0045253906 | 19 |\n",
       "\n"
      ],
      "text/plain": [
       "   seqnames start    end       width    strand pvalue       num.events\n",
       "1  HC04_A01 96750489 103294520  6544032 *      0.0402324219  6        \n",
       "2  HC04_A02 42591977  61177103 18585127 *      0.0012148438 15        \n",
       "3  HC04_A03 64288650  70147749  5859100 *      0.0090410156  3        \n",
       "4  HC04_A04 76312133  83646770  7334638 *      0.0251464844  4        \n",
       "5  HC04_A05 23824853  28595889  4771037 *      0.0233300781  4        \n",
       "6  HC04_A05 88251468 101797455 13545988 *      0.0004492188 12        \n",
       "7  HC04_A06 23803327  27597846  3794520 *      0.0431425781  4        \n",
       "8  HC04_A06 42004892  48619373  6614482 *      0.0249042969  7        \n",
       "9  HC04_A06 93276908  98609588  5332681 *      0.0310664063  6        \n",
       "10 HC04_A08 71388454  83658512 12270059 *      0.0301289062 13        \n",
       "11 HC04_A10 22280822  27920743  5639922 *      0.0257363281  4        \n",
       "12 HC04_A10 71055773  76453032  5397260 *      0.0222226562  4        \n",
       "13 HC04_A11 68938356  98787670 29849315 *      0.0069824219 26        \n",
       "14 HC04_A12 10552838  14578277  4025440 *      0.0338906250  3        \n",
       "15 HC04_A13 56280822  76445204 20164383 *      0.0045253906 19        "
      ]
     },
     "metadata": {},
     "output_type": "display_data"
    }
   ],
   "source": [
    "as.data.frame(data)"
   ]
  },
  {
   "cell_type": "code",
   "execution_count": 91,
   "metadata": {},
   "outputs": [
    {
     "data": {
      "text/html": [
       "<table class=\"dataframe\">\n",
       "<caption>A data.frame: 6 × 4</caption>\n",
       "<thead>\n",
       "\t<tr><th></th><th scope=col>Chr</th><th scope=col>Start</th><th scope=col>End</th><th scope=col>Site</th></tr>\n",
       "\t<tr><th></th><th scope=col>&lt;fct&gt;</th><th scope=col>&lt;int&gt;</th><th scope=col>&lt;int&gt;</th><th scope=col>&lt;dbl&gt;</th></tr>\n",
       "</thead>\n",
       "<tbody>\n",
       "\t<tr><th scope=row>1</th><td>HC04_A06</td><td> 8000000</td><td> 9000000</td><td> 8500000</td></tr>\n",
       "\t<tr><th scope=row>2</th><td>HC04_A06</td><td>12000000</td><td>13000000</td><td>12500000</td></tr>\n",
       "\t<tr><th scope=row>3</th><td>HC04_A06</td><td>14000000</td><td>15000000</td><td>14500000</td></tr>\n",
       "\t<tr><th scope=row>4</th><td>HC04_A06</td><td>16000000</td><td>17000000</td><td>16500000</td></tr>\n",
       "\t<tr><th scope=row>5</th><td>HC04_A06</td><td>19000000</td><td>20000000</td><td>19500000</td></tr>\n",
       "\t<tr><th scope=row>6</th><td>HC04_A06</td><td>21000000</td><td>22000000</td><td>21500000</td></tr>\n",
       "</tbody>\n",
       "</table>\n"
      ],
      "text/latex": [
       "A data.frame: 6 × 4\n",
       "\\begin{tabular}{r|llll}\n",
       "  & Chr & Start & End & Site\\\\\n",
       "  & <fct> & <int> & <int> & <dbl>\\\\\n",
       "\\hline\n",
       "\t1 & HC04\\_A06 &  8000000 &  9000000 &  8500000\\\\\n",
       "\t2 & HC04\\_A06 & 12000000 & 13000000 & 12500000\\\\\n",
       "\t3 & HC04\\_A06 & 14000000 & 15000000 & 14500000\\\\\n",
       "\t4 & HC04\\_A06 & 16000000 & 17000000 & 16500000\\\\\n",
       "\t5 & HC04\\_A06 & 19000000 & 20000000 & 19500000\\\\\n",
       "\t6 & HC04\\_A06 & 21000000 & 22000000 & 21500000\\\\\n",
       "\\end{tabular}\n"
      ],
      "text/markdown": [
       "\n",
       "A data.frame: 6 × 4\n",
       "\n",
       "| <!--/--> | Chr &lt;fct&gt; | Start &lt;int&gt; | End &lt;int&gt; | Site &lt;dbl&gt; |\n",
       "|---|---|---|---|---|\n",
       "| 1 | HC04_A06 |  8000000 |  9000000 |  8500000 |\n",
       "| 2 | HC04_A06 | 12000000 | 13000000 | 12500000 |\n",
       "| 3 | HC04_A06 | 14000000 | 15000000 | 14500000 |\n",
       "| 4 | HC04_A06 | 16000000 | 17000000 | 16500000 |\n",
       "| 5 | HC04_A06 | 19000000 | 20000000 | 19500000 |\n",
       "| 6 | HC04_A06 | 21000000 | 22000000 | 21500000 |\n",
       "\n"
      ],
      "text/plain": [
       "  Chr      Start    End      Site    \n",
       "1 HC04_A06  8000000  9000000  8500000\n",
       "2 HC04_A06 12000000 13000000 12500000\n",
       "3 HC04_A06 14000000 15000000 14500000\n",
       "4 HC04_A06 16000000 17000000 16500000\n",
       "5 HC04_A06 19000000 20000000 19500000\n",
       "6 HC04_A06 21000000 22000000 21500000"
      ]
     },
     "metadata": {},
     "output_type": "display_data"
    }
   ],
   "source": [
    "At_specific_IS_info %>% filter(\n",
    "    Chr==\"HC04_A06\"\n",
    ") %>% head()"
   ]
  },
  {
   "cell_type": "code",
   "execution_count": null,
   "metadata": {},
   "outputs": [],
   "source": []
  },
  {
   "cell_type": "markdown",
   "metadata": {},
   "source": [
    "### TODO At中渐渗片段中多少序列和Dt是保守的"
   ]
  },
  {
   "cell_type": "code",
   "execution_count": 2,
   "metadata": {},
   "outputs": [],
   "source": [
    "library(ggplot2)\n",
    "library(dplyr)\n",
    "library(tidyr)"
   ]
  },
  {
   "cell_type": "code",
   "execution_count": 27,
   "metadata": {},
   "outputs": [],
   "source": [
    "At_IS=read.table(\n",
    "    \"At_IS_conserved_to_Dt_seqLen.txt\",\n",
    "    header=F,sep=\"\\t\"\n",
    ")"
   ]
  },
  {
   "cell_type": "code",
   "execution_count": 28,
   "metadata": {},
   "outputs": [],
   "source": [
    "At_IS$V6=factor( \n",
    "    At_IS$V6,\n",
    "    levels = c( \n",
    "        'part_1','part_2','part_3','part_4','part_5',\n",
    "        'part_6','part_7','part_8','part_9',\n",
    "        'part_10','part_11','part_12','part_13'\n",
    "    )\n",
    ")"
   ]
  },
  {
   "cell_type": "code",
   "execution_count": 18,
   "metadata": {},
   "outputs": [
    {
     "data": {
      "text/html": [
       "<table class=\"dataframe\">\n",
       "<caption>A data.frame: 6 × 7</caption>\n",
       "<thead>\n",
       "\t<tr><th></th><th scope=col>V1</th><th scope=col>V2</th><th scope=col>V3</th><th scope=col>V4</th><th scope=col>V5</th><th scope=col>V6</th><th scope=col>V7</th></tr>\n",
       "\t<tr><th></th><th scope=col>&lt;int&gt;</th><th scope=col>&lt;fct&gt;</th><th scope=col>&lt;int&gt;</th><th scope=col>&lt;int&gt;</th><th scope=col>&lt;int&gt;</th><th scope=col>&lt;fct&gt;</th><th scope=col>&lt;int&gt;</th></tr>\n",
       "</thead>\n",
       "<tbody>\n",
       "\t<tr><th scope=row>1</th><td>0</td><td>HC04_A11</td><td>118000000</td><td>119000000</td><td>5034</td><td>Class_1</td><td>5034</td></tr>\n",
       "\t<tr><th scope=row>2</th><td>1</td><td>HC04_A04</td><td>  4000000</td><td>  5000000</td><td>5049</td><td>Class_1</td><td>5049</td></tr>\n",
       "\t<tr><th scope=row>3</th><td>2</td><td>HC04_A13</td><td>108000000</td><td>109000000</td><td>5054</td><td>Class_1</td><td>5054</td></tr>\n",
       "\t<tr><th scope=row>4</th><td>3</td><td>HC04_A10</td><td>117000000</td><td>118000000</td><td>5080</td><td>Class_1</td><td>5080</td></tr>\n",
       "\t<tr><th scope=row>5</th><td>4</td><td>HC04_A04</td><td> 70000000</td><td> 71000000</td><td>5081</td><td>Class_1</td><td>5081</td></tr>\n",
       "\t<tr><th scope=row>6</th><td>5</td><td>HC04_A08</td><td>  8000000</td><td>  9000000</td><td>5089</td><td>Class_1</td><td>5089</td></tr>\n",
       "</tbody>\n",
       "</table>\n"
      ],
      "text/latex": [
       "A data.frame: 6 × 7\n",
       "\\begin{tabular}{r|lllllll}\n",
       "  & V1 & V2 & V3 & V4 & V5 & V6 & V7\\\\\n",
       "  & <int> & <fct> & <int> & <int> & <int> & <fct> & <int>\\\\\n",
       "\\hline\n",
       "\t1 & 0 & HC04\\_A11 & 118000000 & 119000000 & 5034 & Class\\_1 & 5034\\\\\n",
       "\t2 & 1 & HC04\\_A04 &   4000000 &   5000000 & 5049 & Class\\_1 & 5049\\\\\n",
       "\t3 & 2 & HC04\\_A13 & 108000000 & 109000000 & 5054 & Class\\_1 & 5054\\\\\n",
       "\t4 & 3 & HC04\\_A10 & 117000000 & 118000000 & 5080 & Class\\_1 & 5080\\\\\n",
       "\t5 & 4 & HC04\\_A04 &  70000000 &  71000000 & 5081 & Class\\_1 & 5081\\\\\n",
       "\t6 & 5 & HC04\\_A08 &   8000000 &   9000000 & 5089 & Class\\_1 & 5089\\\\\n",
       "\\end{tabular}\n"
      ],
      "text/markdown": [
       "\n",
       "A data.frame: 6 × 7\n",
       "\n",
       "| <!--/--> | V1 &lt;int&gt; | V2 &lt;fct&gt; | V3 &lt;int&gt; | V4 &lt;int&gt; | V5 &lt;int&gt; | V6 &lt;fct&gt; | V7 &lt;int&gt; |\n",
       "|---|---|---|---|---|---|---|---|\n",
       "| 1 | 0 | HC04_A11 | 118000000 | 119000000 | 5034 | Class_1 | 5034 |\n",
       "| 2 | 1 | HC04_A04 |   4000000 |   5000000 | 5049 | Class_1 | 5049 |\n",
       "| 3 | 2 | HC04_A13 | 108000000 | 109000000 | 5054 | Class_1 | 5054 |\n",
       "| 4 | 3 | HC04_A10 | 117000000 | 118000000 | 5080 | Class_1 | 5080 |\n",
       "| 5 | 4 | HC04_A04 |  70000000 |  71000000 | 5081 | Class_1 | 5081 |\n",
       "| 6 | 5 | HC04_A08 |   8000000 |   9000000 | 5089 | Class_1 | 5089 |\n",
       "\n"
      ],
      "text/plain": [
       "  V1 V2       V3        V4        V5   V6      V7  \n",
       "1 0  HC04_A11 118000000 119000000 5034 Class_1 5034\n",
       "2 1  HC04_A04   4000000   5000000 5049 Class_1 5049\n",
       "3 2  HC04_A13 108000000 109000000 5054 Class_1 5054\n",
       "4 3  HC04_A10 117000000 118000000 5080 Class_1 5080\n",
       "5 4  HC04_A04  70000000  71000000 5081 Class_1 5081\n",
       "6 5  HC04_A08   8000000   9000000 5089 Class_1 5089"
      ]
     },
     "metadata": {},
     "output_type": "display_data"
    }
   ],
   "source": [
    "head(At_IS)"
   ]
  },
  {
   "cell_type": "code",
   "execution_count": 46,
   "metadata": {},
   "outputs": [
    {
     "data": {
      "text/html": [
       "<strong>png:</strong> 2"
      ],
      "text/latex": [
       "\\textbf{png:} 2"
      ],
      "text/markdown": [
       "**png:** 2"
      ],
      "text/plain": [
       "png \n",
       "  2 "
      ]
     },
     "metadata": {},
     "output_type": "display_data"
    },
    {
     "data": {
      "image/png": "[encoded data removed]",
      "text/plain": [
       "plot without title"
      ]
     },
     "metadata": {
      "image/png": {
       "height": 420,
       "width": 420
      }
     },
     "output_type": "display_data"
    }
   ],
   "source": [
    "p=At_IS %>% ggplot(\n",
    "    aes(x = V1, y = V7, fill = V6)\n",
    "    )+\n",
    "    geom_bar(\n",
    "        stat = \"identity\",\n",
    "        width = 1\n",
    "    ) +\n",
    "    scale_x_continuous(\n",
    "        expand = c(0, 0)\n",
    "    ) +\n",
    "    scale_y_continuous(\n",
    "        expand = c(0, 0),\n",
    "        breaks = c(0,300000,600000,900000),\n",
    "        labels = c(\n",
    "            0,0.3,0.6,0.9\n",
    "        )\n",
    "    )+base_theme+\n",
    "    xlab(\n",
    "        \"Introgression window of At (774)\"\n",
    "    )+\n",
    "    ylab(\n",
    "        \"Conserved sequence length\"\n",
    "    )+\n",
    "    theme(\n",
    "        axis.text.x = element_blank(),\n",
    "        legend.position = c(0.2,0.5),\n",
    "        panel.background = element_blank(),\n",
    "        panel.grid = element_blank(),\n",
    "        legend.title = element_blank()\n",
    "    )\n",
    "pdf(\"At_Dt_Is_conserved.pdf\")\n",
    "print(p)\n",
    "dev.off()\n",
    "p"
   ]
  },
  {
   "cell_type": "code",
   "execution_count": null,
   "metadata": {},
   "outputs": [],
   "source": []
  },
  {
   "cell_type": "markdown",
   "metadata": {},
   "source": [
    "### TODO 分析存在QTL的渐渗区间和不存在渐渗的区间类型的占比\n"
   ]
  },
  {
   "cell_type": "code",
   "execution_count": 10,
   "metadata": {},
   "outputs": [
    {
     "name": "stderr",
     "output_type": "stream",
     "text": [
      "\n",
      "Attaching package: ‘dplyr’\n",
      "\n",
      "\n",
      "The following objects are masked from ‘package:stats’:\n",
      "\n",
      "    filter, lag\n",
      "\n",
      "\n",
      "The following objects are masked from ‘package:base’:\n",
      "\n",
      "    intersect, setdiff, setequal, union\n",
      "\n",
      "\n"
     ]
    }
   ],
   "source": [
    "library(dplyr)\n",
    "library(ggplot2)"
   ]
  },
  {
   "cell_type": "code",
   "execution_count": 11,
   "metadata": {},
   "outputs": [],
   "source": [
    "plotdata=data.frame(\n",
    "    IsCount=c( \n",
    "        79/196,92/196,25/196,\n",
    "        465/1417,807/1417,145/1417\n",
    "    ),\n",
    "    IsType=c(\n",
    "        \"Major\",\n",
    "        \"polymorphic\",\n",
    "        \"Signleteon\",\n",
    "        \"Major\",\n",
    "        \"polymorphic\",\n",
    "        \"Signleteon\"\n",
    "    ),\n",
    "    QTLType=c( \n",
    "        \"QTL\",\"QTL\",\"QTL\",\n",
    "        \"nonQTL\",\"nonQTL\",\"nonQTL\"\n",
    "    )\n",
    ")"
   ]
  },
  {
   "cell_type": "code",
   "execution_count": 12,
   "metadata": {},
   "outputs": [
    {
     "data": {
      "text/html": [
       "<table class=\"dataframe\">\n",
       "<caption>A data.frame: 6 × 3</caption>\n",
       "<thead>\n",
       "\t<tr><th scope=col>IsCount</th><th scope=col>IsType</th><th scope=col>QTLType</th></tr>\n",
       "\t<tr><th scope=col>&lt;dbl&gt;</th><th scope=col>&lt;fct&gt;</th><th scope=col>&lt;fct&gt;</th></tr>\n",
       "</thead>\n",
       "<tbody>\n",
       "\t<tr><td>0.4030612</td><td>Major      </td><td>QTL   </td></tr>\n",
       "\t<tr><td>0.4693878</td><td>polymorphic</td><td>QTL   </td></tr>\n",
       "\t<tr><td>0.1275510</td><td>Signleteon </td><td>QTL   </td></tr>\n",
       "\t<tr><td>0.3281581</td><td>Major      </td><td>nonQTL</td></tr>\n",
       "\t<tr><td>0.5695131</td><td>polymorphic</td><td>nonQTL</td></tr>\n",
       "\t<tr><td>0.1023289</td><td>Signleteon </td><td>nonQTL</td></tr>\n",
       "</tbody>\n",
       "</table>\n"
      ],
      "text/latex": [
       "A data.frame: 6 × 3\n",
       "\\begin{tabular}{lll}\n",
       " IsCount & IsType & QTLType\\\\\n",
       " <dbl> & <fct> & <fct>\\\\\n",
       "\\hline\n",
       "\t 0.4030612 & Major       & QTL   \\\\\n",
       "\t 0.4693878 & polymorphic & QTL   \\\\\n",
       "\t 0.1275510 & Signleteon  & QTL   \\\\\n",
       "\t 0.3281581 & Major       & nonQTL\\\\\n",
       "\t 0.5695131 & polymorphic & nonQTL\\\\\n",
       "\t 0.1023289 & Signleteon  & nonQTL\\\\\n",
       "\\end{tabular}\n"
      ],
      "text/markdown": [
       "\n",
       "A data.frame: 6 × 3\n",
       "\n",
       "| IsCount &lt;dbl&gt; | IsType &lt;fct&gt; | QTLType &lt;fct&gt; |\n",
       "|---|---|---|\n",
       "| 0.4030612 | Major       | QTL    |\n",
       "| 0.4693878 | polymorphic | QTL    |\n",
       "| 0.1275510 | Signleteon  | QTL    |\n",
       "| 0.3281581 | Major       | nonQTL |\n",
       "| 0.5695131 | polymorphic | nonQTL |\n",
       "| 0.1023289 | Signleteon  | nonQTL |\n",
       "\n"
      ],
      "text/plain": [
       "  IsCount   IsType      QTLType\n",
       "1 0.4030612 Major       QTL    \n",
       "2 0.4693878 polymorphic QTL    \n",
       "3 0.1275510 Signleteon  QTL    \n",
       "4 0.3281581 Major       nonQTL \n",
       "5 0.5695131 polymorphic nonQTL \n",
       "6 0.1023289 Signleteon  nonQTL "
      ]
     },
     "metadata": {},
     "output_type": "display_data"
    }
   ],
   "source": [
    "plotdata"
   ]
  },
  {
   "cell_type": "code",
   "execution_count": 27,
   "metadata": {},
   "outputs": [
    {
     "data": {
      "text/html": [
       "<strong>png:</strong> 2"
      ],
      "text/latex": [
       "\\textbf{png:} 2"
      ],
      "text/markdown": [
       "**png:** 2"
      ],
      "text/plain": [
       "png \n",
       "  2 "
      ]
     },
     "metadata": {},
     "output_type": "display_data"
    },
    {
     "data": {
      "image/png": "[encoded data removed]",
      "text/plain": [
       "plot without title"
      ]
     },
     "metadata": {
      "image/png": {
       "height": 420,
       "width": 420
      }
     },
     "output_type": "display_data"
    }
   ],
   "source": [
    "p <- plotdata %>% ggplot(\n",
    "    aes(x = QTLType, y = IsCount, fill = IsType)\n",
    "    ) +\n",
    "    geom_bar(\n",
    "        stat = \"identity\",\n",
    "        width = 0.75\n",
    "    ) +\n",
    "    base_theme +\n",
    "    theme(\n",
    "        panel.background = element_blank(),\n",
    "        panel.grid = element_blank(),\n",
    "        axis.text = element_text(size = 12),\n",
    "        legend.title = element_blank()\n",
    "    ) +\n",
    "    scale_y_continuous(\n",
    "        expand = c(0, 0)\n",
    "    ) +\n",
    "    ylab(\n",
    "        \"Frequence of introgression window\"\n",
    "    ) +\n",
    "    xlab(\n",
    "        \"\"\n",
    "    )\n",
    "pdf(\"Introgression_vs_QTL.pdf\")\n",
    "print(p)\n",
    "dev.off()\n",
    "p"
   ]
  },
  {
   "cell_type": "code",
   "execution_count": 7,
   "metadata": {},
   "outputs": [
    {
     "data": {
      "text/html": [
       "952"
      ],
      "text/latex": [
       "952"
      ],
      "text/markdown": [
       "952"
      ],
      "text/plain": [
       "[1] 952"
      ]
     },
     "metadata": {},
     "output_type": "display_data"
    }
   ],
   "source": [
    "807+145"
   ]
  },
  {
   "cell_type": "code",
   "execution_count": 8,
   "metadata": {},
   "outputs": [
    {
     "data": {
      "text/plain": [
       "\n",
       "\tFisher's Exact Test for Count Data\n",
       "\n",
       "data:  matrix(c(79, 465, 117, 952), nrow = 2)\n",
       "p-value = 0.04369\n",
       "alternative hypothesis: true odds ratio is not equal to 1\n",
       "95 percent confidence interval:\n",
       " 1.003396 1.896500\n",
       "sample estimates:\n",
       "odds ratio \n",
       "  1.382139 \n"
      ]
     },
     "metadata": {},
     "output_type": "display_data"
    }
   ],
   "source": [
    "fisher.test(\n",
    "    matrix(\n",
    "        c( \n",
    "            79,465,117,952\n",
    "        ),nrow = 2\n",
    "    )\n",
    ")"
   ]
  },
  {
   "cell_type": "markdown",
   "metadata": {},
   "source": [
    "### 与性状QTL存在交集的区间中每个野生棉对栽培棉的渐渗频率"
   ]
  },
  {
   "cell_type": "code",
   "execution_count": 1,
   "metadata": {},
   "outputs": [
    {
     "name": "stderr",
     "output_type": "stream",
     "text": [
      "\n",
      "Attaching package: ‘dplyr’\n",
      "\n",
      "\n",
      "The following objects are masked from ‘package:stats’:\n",
      "\n",
      "    filter, lag\n",
      "\n",
      "\n",
      "The following objects are masked from ‘package:base’:\n",
      "\n",
      "    intersect, setdiff, setequal, union\n",
      "\n",
      "\n"
     ]
    }
   ],
   "source": [
    "library(ggplot2)\n",
    "library(dplyr)\n",
    "library(tidyr)"
   ]
  },
  {
   "cell_type": "code",
   "execution_count": 2,
   "metadata": {},
   "outputs": [],
   "source": [
    "wild_contribution <- read.table(\n",
    "    \"./wild_contribution_QTL.txt\",\n",
    "    header = T, sep = \"\\t\"\n",
    ")"
   ]
  },
  {
   "cell_type": "code",
   "execution_count": 3,
   "metadata": {},
   "outputs": [
    {
     "data": {
      "text/html": [
       "<table class=\"dataframe\">\n",
       "<caption>A data.frame: 6 × 18</caption>\n",
       "<thead>\n",
       "\t<tr><th></th><th scope=col>trait</th><th scope=col>Ghlatifolium</th><th scope=col>Ghmariegalante</th><th scope=col>Ghmorrilli</th><th scope=col>Ghpalmeri</th><th scope=col>Ghpunctatum</th><th scope=col>Ghpurpurascen</th><th scope=col>Ghrichmondi</th><th scope=col>Ghyucatanense</th><th scope=col>nowildCount</th><th scope=col>Ghlatifolium_ratio</th><th scope=col>Ghmariegalante_ratio</th><th scope=col>Ghmorrilli_ratio</th><th scope=col>Ghpalmeri_ratio</th><th scope=col>Ghpunctatum_ratio</th><th scope=col>Ghpurpurascen_ratio</th><th scope=col>Ghrichmondi_ratio</th><th scope=col>Ghyucatanense_ratio</th></tr>\n",
       "\t<tr><th></th><th scope=col>&lt;fct&gt;</th><th scope=col>&lt;int&gt;</th><th scope=col>&lt;int&gt;</th><th scope=col>&lt;int&gt;</th><th scope=col>&lt;int&gt;</th><th scope=col>&lt;int&gt;</th><th scope=col>&lt;int&gt;</th><th scope=col>&lt;int&gt;</th><th scope=col>&lt;int&gt;</th><th scope=col>&lt;int&gt;</th><th scope=col>&lt;dbl&gt;</th><th scope=col>&lt;dbl&gt;</th><th scope=col>&lt;dbl&gt;</th><th scope=col>&lt;dbl&gt;</th><th scope=col>&lt;dbl&gt;</th><th scope=col>&lt;dbl&gt;</th><th scope=col>&lt;dbl&gt;</th><th scope=col>&lt;dbl&gt;</th></tr>\n",
       "</thead>\n",
       "<tbody>\n",
       "\t<tr><th scope=row>1</th><td>qBW  </td><td>  1</td><td>  2</td><td> 2</td><td>  0</td><td>  3</td><td> 2</td><td> 2</td><td>  0</td><td>  96</td><td>0.08333333</td><td>0.16666667</td><td>0.16666667</td><td>0.0000000</td><td>0.25000000</td><td>0.16666667</td><td>0.16666667</td><td>0.0000000</td></tr>\n",
       "\t<tr><th scope=row>2</th><td>qFD  </td><td> 42</td><td> 53</td><td>22</td><td> 41</td><td> 44</td><td>24</td><td> 6</td><td> 26</td><td> 246</td><td>0.16279070</td><td>0.20542636</td><td>0.08527132</td><td>0.1589147</td><td>0.17054264</td><td>0.09302326</td><td>0.02325581</td><td>0.1007752</td></tr>\n",
       "\t<tr><th scope=row>3</th><td>qFE  </td><td>165</td><td> 83</td><td>52</td><td>232</td><td>195</td><td>28</td><td>35</td><td> 93</td><td>1061</td><td>0.18686297</td><td>0.09399773</td><td>0.05889015</td><td>0.2627407</td><td>0.22083805</td><td>0.03171008</td><td>0.03963760</td><td>0.1053228</td></tr>\n",
       "\t<tr><th scope=row>4</th><td>qFFSH</td><td> 12</td><td>  0</td><td> 0</td><td>  0</td><td>  9</td><td> 0</td><td> 0</td><td>  6</td><td>   9</td><td>0.44444444</td><td>0.00000000</td><td>0.00000000</td><td>0.0000000</td><td>0.33333333</td><td>0.00000000</td><td>0.00000000</td><td>0.2222222</td></tr>\n",
       "\t<tr><th scope=row>5</th><td>qFL  </td><td>175</td><td>122</td><td>74</td><td>253</td><td>168</td><td>37</td><td>98</td><td>179</td><td>1090</td><td>0.15822785</td><td>0.11030741</td><td>0.06690778</td><td>0.2287523</td><td>0.15189873</td><td>0.03345389</td><td>0.08860759</td><td>0.1618445</td></tr>\n",
       "\t<tr><th scope=row>6</th><td>qFM  </td><td> 31</td><td>  7</td><td>12</td><td> 18</td><td>  4</td><td> 4</td><td> 7</td><td> 20</td><td>  77</td><td>0.30097087</td><td>0.06796117</td><td>0.11650485</td><td>0.1747573</td><td>0.03883495</td><td>0.03883495</td><td>0.06796117</td><td>0.1941748</td></tr>\n",
       "</tbody>\n",
       "</table>\n"
      ],
      "text/latex": [
       "A data.frame: 6 × 18\n",
       "\\begin{tabular}{r|llllllllllllllllll}\n",
       "  & trait & Ghlatifolium & Ghmariegalante & Ghmorrilli & Ghpalmeri & Ghpunctatum & Ghpurpurascen & Ghrichmondi & Ghyucatanense & nowildCount & Ghlatifolium\\_ratio & Ghmariegalante\\_ratio & Ghmorrilli\\_ratio & Ghpalmeri\\_ratio & Ghpunctatum\\_ratio & Ghpurpurascen\\_ratio & Ghrichmondi\\_ratio & Ghyucatanense\\_ratio\\\\\n",
       "  & <fct> & <int> & <int> & <int> & <int> & <int> & <int> & <int> & <int> & <int> & <dbl> & <dbl> & <dbl> & <dbl> & <dbl> & <dbl> & <dbl> & <dbl>\\\\\n",
       "\\hline\n",
       "\t1 & qBW   &   1 &   2 &  2 &   0 &   3 &  2 &  2 &   0 &   96 & 0.08333333 & 0.16666667 & 0.16666667 & 0.0000000 & 0.25000000 & 0.16666667 & 0.16666667 & 0.0000000\\\\\n",
       "\t2 & qFD   &  42 &  53 & 22 &  41 &  44 & 24 &  6 &  26 &  246 & 0.16279070 & 0.20542636 & 0.08527132 & 0.1589147 & 0.17054264 & 0.09302326 & 0.02325581 & 0.1007752\\\\\n",
       "\t3 & qFE   & 165 &  83 & 52 & 232 & 195 & 28 & 35 &  93 & 1061 & 0.18686297 & 0.09399773 & 0.05889015 & 0.2627407 & 0.22083805 & 0.03171008 & 0.03963760 & 0.1053228\\\\\n",
       "\t4 & qFFSH &  12 &   0 &  0 &   0 &   9 &  0 &  0 &   6 &    9 & 0.44444444 & 0.00000000 & 0.00000000 & 0.0000000 & 0.33333333 & 0.00000000 & 0.00000000 & 0.2222222\\\\\n",
       "\t5 & qFL   & 175 & 122 & 74 & 253 & 168 & 37 & 98 & 179 & 1090 & 0.15822785 & 0.11030741 & 0.06690778 & 0.2287523 & 0.15189873 & 0.03345389 & 0.08860759 & 0.1618445\\\\\n",
       "\t6 & qFM   &  31 &   7 & 12 &  18 &   4 &  4 &  7 &  20 &   77 & 0.30097087 & 0.06796117 & 0.11650485 & 0.1747573 & 0.03883495 & 0.03883495 & 0.06796117 & 0.1941748\\\\\n",
       "\\end{tabular}\n"
      ],
      "text/markdown": [
       "\n",
       "A data.frame: 6 × 18\n",
       "\n",
       "| <!--/--> | trait &lt;fct&gt; | Ghlatifolium &lt;int&gt; | Ghmariegalante &lt;int&gt; | Ghmorrilli &lt;int&gt; | Ghpalmeri &lt;int&gt; | Ghpunctatum &lt;int&gt; | Ghpurpurascen &lt;int&gt; | Ghrichmondi &lt;int&gt; | Ghyucatanense &lt;int&gt; | nowildCount &lt;int&gt; | Ghlatifolium_ratio &lt;dbl&gt; | Ghmariegalante_ratio &lt;dbl&gt; | Ghmorrilli_ratio &lt;dbl&gt; | Ghpalmeri_ratio &lt;dbl&gt; | Ghpunctatum_ratio &lt;dbl&gt; | Ghpurpurascen_ratio &lt;dbl&gt; | Ghrichmondi_ratio &lt;dbl&gt; | Ghyucatanense_ratio &lt;dbl&gt; |\n",
       "|---|---|---|---|---|---|---|---|---|---|---|---|---|---|---|---|---|---|---|\n",
       "| 1 | qBW   |   1 |   2 |  2 |   0 |   3 |  2 |  2 |   0 |   96 | 0.08333333 | 0.16666667 | 0.16666667 | 0.0000000 | 0.25000000 | 0.16666667 | 0.16666667 | 0.0000000 |\n",
       "| 2 | qFD   |  42 |  53 | 22 |  41 |  44 | 24 |  6 |  26 |  246 | 0.16279070 | 0.20542636 | 0.08527132 | 0.1589147 | 0.17054264 | 0.09302326 | 0.02325581 | 0.1007752 |\n",
       "| 3 | qFE   | 165 |  83 | 52 | 232 | 195 | 28 | 35 |  93 | 1061 | 0.18686297 | 0.09399773 | 0.05889015 | 0.2627407 | 0.22083805 | 0.03171008 | 0.03963760 | 0.1053228 |\n",
       "| 4 | qFFSH |  12 |   0 |  0 |   0 |   9 |  0 |  0 |   6 |    9 | 0.44444444 | 0.00000000 | 0.00000000 | 0.0000000 | 0.33333333 | 0.00000000 | 0.00000000 | 0.2222222 |\n",
       "| 5 | qFL   | 175 | 122 | 74 | 253 | 168 | 37 | 98 | 179 | 1090 | 0.15822785 | 0.11030741 | 0.06690778 | 0.2287523 | 0.15189873 | 0.03345389 | 0.08860759 | 0.1618445 |\n",
       "| 6 | qFM   |  31 |   7 | 12 |  18 |   4 |  4 |  7 |  20 |   77 | 0.30097087 | 0.06796117 | 0.11650485 | 0.1747573 | 0.03883495 | 0.03883495 | 0.06796117 | 0.1941748 |\n",
       "\n"
      ],
      "text/plain": [
       "  trait Ghlatifolium Ghmariegalante Ghmorrilli Ghpalmeri Ghpunctatum\n",
       "1 qBW     1            2             2           0         3        \n",
       "2 qFD    42           53            22          41        44        \n",
       "3 qFE   165           83            52         232       195        \n",
       "4 qFFSH  12            0             0           0         9        \n",
       "5 qFL   175          122            74         253       168        \n",
       "6 qFM    31            7            12          18         4        \n",
       "  Ghpurpurascen Ghrichmondi Ghyucatanense nowildCount Ghlatifolium_ratio\n",
       "1  2             2            0             96        0.08333333        \n",
       "2 24             6           26            246        0.16279070        \n",
       "3 28            35           93           1061        0.18686297        \n",
       "4  0             0            6              9        0.44444444        \n",
       "5 37            98          179           1090        0.15822785        \n",
       "6  4             7           20             77        0.30097087        \n",
       "  Ghmariegalante_ratio Ghmorrilli_ratio Ghpalmeri_ratio Ghpunctatum_ratio\n",
       "1 0.16666667           0.16666667       0.0000000       0.25000000       \n",
       "2 0.20542636           0.08527132       0.1589147       0.17054264       \n",
       "3 0.09399773           0.05889015       0.2627407       0.22083805       \n",
       "4 0.00000000           0.00000000       0.0000000       0.33333333       \n",
       "5 0.11030741           0.06690778       0.2287523       0.15189873       \n",
       "6 0.06796117           0.11650485       0.1747573       0.03883495       \n",
       "  Ghpurpurascen_ratio Ghrichmondi_ratio Ghyucatanense_ratio\n",
       "1 0.16666667          0.16666667        0.0000000          \n",
       "2 0.09302326          0.02325581        0.1007752          \n",
       "3 0.03171008          0.03963760        0.1053228          \n",
       "4 0.00000000          0.00000000        0.2222222          \n",
       "5 0.03345389          0.08860759        0.1618445          \n",
       "6 0.03883495          0.06796117        0.1941748          "
      ]
     },
     "metadata": {},
     "output_type": "display_data"
    }
   ],
   "source": [
    "head(wild_contribution)"
   ]
  },
  {
   "cell_type": "code",
   "execution_count": 63,
   "metadata": {},
   "outputs": [
    {
     "data": {
      "text/html": [
       "<style>\n",
       ".list-inline {list-style: none; margin:0; padding: 0}\n",
       ".list-inline>li {display: inline-block}\n",
       ".list-inline>li:not(:last-child)::after {content: \"\\00b7\"; padding: 0 .5ex}\n",
       "</style>\n",
       "<ol class=list-inline><li>210</li><li>119</li><li>105</li><li>86</li><li>71</li><li>58</li><li>49</li><li>45</li><li>39</li><li>39</li><li>31</li><li>29</li><li>27</li><li>23</li><li>19</li><li>12</li><li>10</li><li>7</li><li>3</li><li>2</li><li>1</li><li>0</li><li>0</li></ol>\n"
      ],
      "text/latex": [
       "\\begin{enumerate*}\n",
       "\\item 210\n",
       "\\item 119\n",
       "\\item 105\n",
       "\\item 86\n",
       "\\item 71\n",
       "\\item 58\n",
       "\\item 49\n",
       "\\item 45\n",
       "\\item 39\n",
       "\\item 39\n",
       "\\item 31\n",
       "\\item 29\n",
       "\\item 27\n",
       "\\item 23\n",
       "\\item 19\n",
       "\\item 12\n",
       "\\item 10\n",
       "\\item 7\n",
       "\\item 3\n",
       "\\item 2\n",
       "\\item 1\n",
       "\\item 0\n",
       "\\item 0\n",
       "\\end{enumerate*}\n"
      ],
      "text/markdown": [
       "1. 210\n",
       "2. 119\n",
       "3. 105\n",
       "4. 86\n",
       "5. 71\n",
       "6. 58\n",
       "7. 49\n",
       "8. 45\n",
       "9. 39\n",
       "10. 39\n",
       "11. 31\n",
       "12. 29\n",
       "13. 27\n",
       "14. 23\n",
       "15. 19\n",
       "16. 12\n",
       "17. 10\n",
       "18. 7\n",
       "19. 3\n",
       "20. 2\n",
       "21. 1\n",
       "22. 0\n",
       "23. 0\n",
       "\n",
       "\n"
      ],
      "text/plain": [
       " [1] 210 119 105  86  71  58  49  45  39  39  31  29  27  23  19  12  10   7   3\n",
       "[20]   2   1   0   0"
      ]
     },
     "metadata": {},
     "output_type": "display_data"
    }
   ],
   "source": [
    "wild_contribution$FL"
   ]
  },
  {
   "cell_type": "code",
   "execution_count": 67,
   "metadata": {},
   "outputs": [
    {
     "data": {
      "text/html": [
       "<style>\n",
       ".list-inline {list-style: none; margin:0; padding: 0}\n",
       ".list-inline>li {display: inline-block}\n",
       ".list-inline>li:not(:last-child)::after {content: \"\\00b7\"; padding: 0 .5ex}\n",
       "</style>\n",
       "<ol class=list-inline><li>23</li><li>10</li></ol>\n"
      ],
      "text/latex": [
       "\\begin{enumerate*}\n",
       "\\item 23\n",
       "\\item 10\n",
       "\\end{enumerate*}\n"
      ],
      "text/markdown": [
       "1. 23\n",
       "2. 10\n",
       "\n",
       "\n"
      ],
      "text/plain": [
       "[1] 23 10"
      ]
     },
     "metadata": {},
     "output_type": "display_data"
    }
   ],
   "source": [
    "dim(wild_contribution)"
   ]
  },
  {
   "cell_type": "code",
   "execution_count": 4,
   "metadata": {},
   "outputs": [],
   "source": [
    "plotData=wild_contribution %>% select(c(\n",
    "            \"trait\",\"Ghlatifolium_ratio\",\"Ghmariegalante_ratio\", \"Ghmorrilli_ratio\", \n",
    "            \"Ghpalmeri_ratio\", \"Ghpunctatum_ratio\", \"Ghpurpurascen_ratio\", \n",
    "            \"Ghrichmondi_ratio\", \"Ghyucatanense_ratio\")\n",
    "            ) %>% pivot_longer(\n",
    "        cols = c(\n",
    "            \"Ghlatifolium_ratio\", \"Ghmariegalante_ratio\", \"Ghmorrilli_ratio\", \n",
    "            \"Ghpalmeri_ratio\", \"Ghpunctatum_ratio\", \"Ghpurpurascen_ratio\", \n",
    "            \"Ghrichmondi_ratio\", \"Ghyucatanense_ratio\"),\n",
    "        names_to = \"wild\",\n",
    "        values_to = \"sampleCount\"\n",
    "    )"
   ]
  },
  {
   "cell_type": "code",
   "execution_count": 5,
   "metadata": {},
   "outputs": [
    {
     "data": {
      "text/html": [
       "<table class=\"dataframe\">\n",
       "<caption>A tibble: 6 × 3</caption>\n",
       "<thead>\n",
       "\t<tr><th scope=col>trait</th><th scope=col>wild</th><th scope=col>sampleCount</th></tr>\n",
       "\t<tr><th scope=col>&lt;fct&gt;</th><th scope=col>&lt;chr&gt;</th><th scope=col>&lt;dbl&gt;</th></tr>\n",
       "</thead>\n",
       "<tbody>\n",
       "\t<tr><td>qBW</td><td>Ghlatifolium_ratio  </td><td>0.08333333</td></tr>\n",
       "\t<tr><td>qBW</td><td>Ghmariegalante_ratio</td><td>0.16666667</td></tr>\n",
       "\t<tr><td>qBW</td><td>Ghmorrilli_ratio    </td><td>0.16666667</td></tr>\n",
       "\t<tr><td>qBW</td><td>Ghpalmeri_ratio     </td><td>0.00000000</td></tr>\n",
       "\t<tr><td>qBW</td><td>Ghpunctatum_ratio   </td><td>0.25000000</td></tr>\n",
       "\t<tr><td>qBW</td><td>Ghpurpurascen_ratio </td><td>0.16666667</td></tr>\n",
       "</tbody>\n",
       "</table>\n"
      ],
      "text/latex": [
       "A tibble: 6 × 3\n",
       "\\begin{tabular}{lll}\n",
       " trait & wild & sampleCount\\\\\n",
       " <fct> & <chr> & <dbl>\\\\\n",
       "\\hline\n",
       "\t qBW & Ghlatifolium\\_ratio   & 0.08333333\\\\\n",
       "\t qBW & Ghmariegalante\\_ratio & 0.16666667\\\\\n",
       "\t qBW & Ghmorrilli\\_ratio     & 0.16666667\\\\\n",
       "\t qBW & Ghpalmeri\\_ratio      & 0.00000000\\\\\n",
       "\t qBW & Ghpunctatum\\_ratio    & 0.25000000\\\\\n",
       "\t qBW & Ghpurpurascen\\_ratio  & 0.16666667\\\\\n",
       "\\end{tabular}\n"
      ],
      "text/markdown": [
       "\n",
       "A tibble: 6 × 3\n",
       "\n",
       "| trait &lt;fct&gt; | wild &lt;chr&gt; | sampleCount &lt;dbl&gt; |\n",
       "|---|---|---|\n",
       "| qBW | Ghlatifolium_ratio   | 0.08333333 |\n",
       "| qBW | Ghmariegalante_ratio | 0.16666667 |\n",
       "| qBW | Ghmorrilli_ratio     | 0.16666667 |\n",
       "| qBW | Ghpalmeri_ratio      | 0.00000000 |\n",
       "| qBW | Ghpunctatum_ratio    | 0.25000000 |\n",
       "| qBW | Ghpurpurascen_ratio  | 0.16666667 |\n",
       "\n"
      ],
      "text/plain": [
       "  trait wild                 sampleCount\n",
       "1 qBW   Ghlatifolium_ratio   0.08333333 \n",
       "2 qBW   Ghmariegalante_ratio 0.16666667 \n",
       "3 qBW   Ghmorrilli_ratio     0.16666667 \n",
       "4 qBW   Ghpalmeri_ratio      0.00000000 \n",
       "5 qBW   Ghpunctatum_ratio    0.25000000 \n",
       "6 qBW   Ghpurpurascen_ratio  0.16666667 "
      ]
     },
     "metadata": {},
     "output_type": "display_data"
    }
   ],
   "source": [
    "head(plotData)"
   ]
  },
  {
   "cell_type": "code",
   "execution_count": null,
   "metadata": {},
   "outputs": [],
   "source": []
  },
  {
   "cell_type": "code",
   "execution_count": 6,
   "metadata": {},
   "outputs": [
    {
     "data": {
      "image/png": "[encoded data removed]",
      "text/plain": [
       "plot without title"
      ]
     },
     "metadata": {
      "image/png": {
       "height": 240,
       "width": 720
      }
     },
     "output_type": "display_data"
    }
   ],
   "source": [
    "options(\n",
    "    repr.plot.width = 12,\n",
    "    repr.plot.height = 4\n",
    ")\n",
    "plotData %>%\n",
    "    ggplot(\n",
    "        aes(y = trait, x = wild, size = sampleCount)\n",
    "    ) +\n",
    "    geom_point()+\n",
    "    theme( \n",
    "        axis.text = element_text(angle=15)\n",
    "    )\n",
    "\n",
    "# pdf(\"wild_contribution.pdf\", width = 10, height = 3)\n",
    "# print(p)\n",
    "# dev.off()\n",
    "# p"
   ]
  },
  {
   "cell_type": "code",
   "execution_count": 7,
   "metadata": {},
   "outputs": [],
   "source": [
    "plotData = plotData  %>% filter( \n",
    "    trait %in% c( \n",
    "         \"qFL\",\"qFE\",\"qFS\",\"qFU\",\n",
    "        \"qMIC\",\"qMAT\",\"qFM\",\"qSCI\",\n",
    "        \n",
    "        \"qFWPB\",\"qBW\",\"qLI\",\"qLP\",\n",
    "        #* 光周期性状\n",
    "        \"qPH\",\"qFD\"\n",
    "    )\n",
    ")"
   ]
  },
  {
   "cell_type": "code",
   "execution_count": 8,
   "metadata": {},
   "outputs": [],
   "source": [
    "#* 根据性状所属的类型进依次排序\n",
    "\n",
    "plotData$trait=factor(\n",
    "    plotData$trait,\n",
    "    levels = c( \n",
    "        #* 品质性状\n",
    "        \"qFL\",\"qFE\",\"qFS\",\"qFU\",\n",
    "        \"qMIC\",\"qMAT\",\"qFM\",\"qSCI\",\n",
    "        \n",
    "        #* 产量性状\n",
    "       \"qFWPB\",\"qBW\",\"qLI\",\"qLP\",\n",
    "        #* 光周期性状\n",
    "        \"qPH\",\"qFD\"\n",
    "    )\n",
    ")"
   ]
  },
  {
   "cell_type": "code",
   "execution_count": null,
   "metadata": {},
   "outputs": [],
   "source": []
  },
  {
   "cell_type": "code",
   "execution_count": null,
   "metadata": {},
   "outputs": [],
   "source": [
    "#* FL: 61, FE: 54, FS:53, FU: 24,\n",
    "#* MIC: 27, MAT: 41, FM: 5, SCI: 16\n",
    "#* FWPB: 13, BW:3, LI:19,LP:26\n",
    "#* PH: 1, FD:14\n",
    "\n",
    "#! fiber quality:281\n",
    "#! fiber yield: 61\n"
   ]
  },
  {
   "cell_type": "code",
   "execution_count": 9,
   "metadata": {},
   "outputs": [
    {
     "data": {
      "text/html": [
       "<style>\n",
       ".list-inline {list-style: none; margin:0; padding: 0}\n",
       ".list-inline>li {display: inline-block}\n",
       ".list-inline>li:not(:last-child)::after {content: \"\\00b7\"; padding: 0 .5ex}\n",
       "</style>\n",
       "<ol class=list-inline><li>qBW</li><li>qBW</li><li>qBW</li><li>qBW</li><li>qBW</li><li>qBW</li><li>qBW</li><li>qBW</li><li>qFD</li><li>qFD</li><li>qFD</li><li>qFD</li><li>qFD</li><li>qFD</li><li>qFD</li><li>qFD</li><li>qFE</li><li>qFE</li><li>qFE</li><li>qFE</li><li>qFE</li><li>qFE</li><li>qFE</li><li>qFE</li><li>qFL</li><li>qFL</li><li>qFL</li><li>qFL</li><li>qFL</li><li>qFL</li><li>qFL</li><li>qFL</li><li>qFM</li><li>qFM</li><li>qFM</li><li>qFM</li><li>qFM</li><li>qFM</li><li>qFM</li><li>qFM</li><li>qFS</li><li>qFS</li><li>qFS</li><li>qFS</li><li>qFS</li><li>qFS</li><li>qFS</li><li>qFS</li><li>qFU</li><li>qFU</li><li>qFU</li><li>qFU</li><li>qFU</li><li>qFU</li><li>qFU</li><li>qFU</li><li>qFWPB</li><li>qFWPB</li><li>qFWPB</li><li>qFWPB</li><li>qFWPB</li><li>qFWPB</li><li>qFWPB</li><li>qFWPB</li><li>qLI</li><li>qLI</li><li>qLI</li><li>qLI</li><li>qLI</li><li>qLI</li><li>qLI</li><li>qLI</li><li>qLP</li><li>qLP</li><li>qLP</li><li>qLP</li><li>qLP</li><li>qLP</li><li>qLP</li><li>qLP</li><li>qMAT</li><li>qMAT</li><li>qMAT</li><li>qMAT</li><li>qMAT</li><li>qMAT</li><li>qMAT</li><li>qMAT</li><li>qMIC</li><li>qMIC</li><li>qMIC</li><li>qMIC</li><li>qMIC</li><li>qMIC</li><li>qMIC</li><li>qMIC</li><li>qPH</li><li>qPH</li><li>qPH</li><li>qPH</li><li>qPH</li><li>qPH</li><li>qPH</li><li>qPH</li><li>qSCI</li><li>qSCI</li><li>qSCI</li><li>qSCI</li><li>qSCI</li><li>qSCI</li><li>qSCI</li><li>qSCI</li></ol>\n",
       "\n",
       "<details>\n",
       "\t<summary style=display:list-item;cursor:pointer>\n",
       "\t\t<strong>Levels</strong>:\n",
       "\t</summary>\n",
       "\t<style>\n",
       "\t.list-inline {list-style: none; margin:0; padding: 0}\n",
       "\t.list-inline>li {display: inline-block}\n",
       "\t.list-inline>li:not(:last-child)::after {content: \"\\00b7\"; padding: 0 .5ex}\n",
       "\t</style>\n",
       "\t<ol class=list-inline><li>'qFL'</li><li>'qFE'</li><li>'qFS'</li><li>'qFU'</li><li>'qMIC'</li><li>'qMAT'</li><li>'qFM'</li><li>'qSCI'</li><li>'qFWPB'</li><li>'qBW'</li><li>'qLI'</li><li>'qLP'</li><li>'qPH'</li><li>'qFD'</li></ol>\n",
       "</details>"
      ],
      "text/latex": [
       "\\begin{enumerate*}\n",
       "\\item qBW\n",
       "\\item qBW\n",
       "\\item qBW\n",
       "\\item qBW\n",
       "\\item qBW\n",
       "\\item qBW\n",
       "\\item qBW\n",
       "\\item qBW\n",
       "\\item qFD\n",
       "\\item qFD\n",
       "\\item qFD\n",
       "\\item qFD\n",
       "\\item qFD\n",
       "\\item qFD\n",
       "\\item qFD\n",
       "\\item qFD\n",
       "\\item qFE\n",
       "\\item qFE\n",
       "\\item qFE\n",
       "\\item qFE\n",
       "\\item qFE\n",
       "\\item qFE\n",
       "\\item qFE\n",
       "\\item qFE\n",
       "\\item qFL\n",
       "\\item qFL\n",
       "\\item qFL\n",
       "\\item qFL\n",
       "\\item qFL\n",
       "\\item qFL\n",
       "\\item qFL\n",
       "\\item qFL\n",
       "\\item qFM\n",
       "\\item qFM\n",
       "\\item qFM\n",
       "\\item qFM\n",
       "\\item qFM\n",
       "\\item qFM\n",
       "\\item qFM\n",
       "\\item qFM\n",
       "\\item qFS\n",
       "\\item qFS\n",
       "\\item qFS\n",
       "\\item qFS\n",
       "\\item qFS\n",
       "\\item qFS\n",
       "\\item qFS\n",
       "\\item qFS\n",
       "\\item qFU\n",
       "\\item qFU\n",
       "\\item qFU\n",
       "\\item qFU\n",
       "\\item qFU\n",
       "\\item qFU\n",
       "\\item qFU\n",
       "\\item qFU\n",
       "\\item qFWPB\n",
       "\\item qFWPB\n",
       "\\item qFWPB\n",
       "\\item qFWPB\n",
       "\\item qFWPB\n",
       "\\item qFWPB\n",
       "\\item qFWPB\n",
       "\\item qFWPB\n",
       "\\item qLI\n",
       "\\item qLI\n",
       "\\item qLI\n",
       "\\item qLI\n",
       "\\item qLI\n",
       "\\item qLI\n",
       "\\item qLI\n",
       "\\item qLI\n",
       "\\item qLP\n",
       "\\item qLP\n",
       "\\item qLP\n",
       "\\item qLP\n",
       "\\item qLP\n",
       "\\item qLP\n",
       "\\item qLP\n",
       "\\item qLP\n",
       "\\item qMAT\n",
       "\\item qMAT\n",
       "\\item qMAT\n",
       "\\item qMAT\n",
       "\\item qMAT\n",
       "\\item qMAT\n",
       "\\item qMAT\n",
       "\\item qMAT\n",
       "\\item qMIC\n",
       "\\item qMIC\n",
       "\\item qMIC\n",
       "\\item qMIC\n",
       "\\item qMIC\n",
       "\\item qMIC\n",
       "\\item qMIC\n",
       "\\item qMIC\n",
       "\\item qPH\n",
       "\\item qPH\n",
       "\\item qPH\n",
       "\\item qPH\n",
       "\\item qPH\n",
       "\\item qPH\n",
       "\\item qPH\n",
       "\\item qPH\n",
       "\\item qSCI\n",
       "\\item qSCI\n",
       "\\item qSCI\n",
       "\\item qSCI\n",
       "\\item qSCI\n",
       "\\item qSCI\n",
       "\\item qSCI\n",
       "\\item qSCI\n",
       "\\end{enumerate*}\n",
       "\n",
       "\\emph{Levels}: \\begin{enumerate*}\n",
       "\\item 'qFL'\n",
       "\\item 'qFE'\n",
       "\\item 'qFS'\n",
       "\\item 'qFU'\n",
       "\\item 'qMIC'\n",
       "\\item 'qMAT'\n",
       "\\item 'qFM'\n",
       "\\item 'qSCI'\n",
       "\\item 'qFWPB'\n",
       "\\item 'qBW'\n",
       "\\item 'qLI'\n",
       "\\item 'qLP'\n",
       "\\item 'qPH'\n",
       "\\item 'qFD'\n",
       "\\end{enumerate*}\n"
      ],
      "text/markdown": [
       "1. qBW\n",
       "2. qBW\n",
       "3. qBW\n",
       "4. qBW\n",
       "5. qBW\n",
       "6. qBW\n",
       "7. qBW\n",
       "8. qBW\n",
       "9. qFD\n",
       "10. qFD\n",
       "11. qFD\n",
       "12. qFD\n",
       "13. qFD\n",
       "14. qFD\n",
       "15. qFD\n",
       "16. qFD\n",
       "17. qFE\n",
       "18. qFE\n",
       "19. qFE\n",
       "20. qFE\n",
       "21. qFE\n",
       "22. qFE\n",
       "23. qFE\n",
       "24. qFE\n",
       "25. qFL\n",
       "26. qFL\n",
       "27. qFL\n",
       "28. qFL\n",
       "29. qFL\n",
       "30. qFL\n",
       "31. qFL\n",
       "32. qFL\n",
       "33. qFM\n",
       "34. qFM\n",
       "35. qFM\n",
       "36. qFM\n",
       "37. qFM\n",
       "38. qFM\n",
       "39. qFM\n",
       "40. qFM\n",
       "41. qFS\n",
       "42. qFS\n",
       "43. qFS\n",
       "44. qFS\n",
       "45. qFS\n",
       "46. qFS\n",
       "47. qFS\n",
       "48. qFS\n",
       "49. qFU\n",
       "50. qFU\n",
       "51. qFU\n",
       "52. qFU\n",
       "53. qFU\n",
       "54. qFU\n",
       "55. qFU\n",
       "56. qFU\n",
       "57. qFWPB\n",
       "58. qFWPB\n",
       "59. qFWPB\n",
       "60. qFWPB\n",
       "61. qFWPB\n",
       "62. qFWPB\n",
       "63. qFWPB\n",
       "64. qFWPB\n",
       "65. qLI\n",
       "66. qLI\n",
       "67. qLI\n",
       "68. qLI\n",
       "69. qLI\n",
       "70. qLI\n",
       "71. qLI\n",
       "72. qLI\n",
       "73. qLP\n",
       "74. qLP\n",
       "75. qLP\n",
       "76. qLP\n",
       "77. qLP\n",
       "78. qLP\n",
       "79. qLP\n",
       "80. qLP\n",
       "81. qMAT\n",
       "82. qMAT\n",
       "83. qMAT\n",
       "84. qMAT\n",
       "85. qMAT\n",
       "86. qMAT\n",
       "87. qMAT\n",
       "88. qMAT\n",
       "89. qMIC\n",
       "90. qMIC\n",
       "91. qMIC\n",
       "92. qMIC\n",
       "93. qMIC\n",
       "94. qMIC\n",
       "95. qMIC\n",
       "96. qMIC\n",
       "97. qPH\n",
       "98. qPH\n",
       "99. qPH\n",
       "100. qPH\n",
       "101. qPH\n",
       "102. qPH\n",
       "103. qPH\n",
       "104. qPH\n",
       "105. qSCI\n",
       "106. qSCI\n",
       "107. qSCI\n",
       "108. qSCI\n",
       "109. qSCI\n",
       "110. qSCI\n",
       "111. qSCI\n",
       "112. qSCI\n",
       "\n",
       "\n",
       "\n",
       "**Levels**: 1. 'qFL'\n",
       "2. 'qFE'\n",
       "3. 'qFS'\n",
       "4. 'qFU'\n",
       "5. 'qMIC'\n",
       "6. 'qMAT'\n",
       "7. 'qFM'\n",
       "8. 'qSCI'\n",
       "9. 'qFWPB'\n",
       "10. 'qBW'\n",
       "11. 'qLI'\n",
       "12. 'qLP'\n",
       "13. 'qPH'\n",
       "14. 'qFD'\n",
       "\n",
       "\n"
      ],
      "text/plain": [
       "  [1] qBW   qBW   qBW   qBW   qBW   qBW   qBW   qBW   qFD   qFD   qFD   qFD  \n",
       " [13] qFD   qFD   qFD   qFD   qFE   qFE   qFE   qFE   qFE   qFE   qFE   qFE  \n",
       " [25] qFL   qFL   qFL   qFL   qFL   qFL   qFL   qFL   qFM   qFM   qFM   qFM  \n",
       " [37] qFM   qFM   qFM   qFM   qFS   qFS   qFS   qFS   qFS   qFS   qFS   qFS  \n",
       " [49] qFU   qFU   qFU   qFU   qFU   qFU   qFU   qFU   qFWPB qFWPB qFWPB qFWPB\n",
       " [61] qFWPB qFWPB qFWPB qFWPB qLI   qLI   qLI   qLI   qLI   qLI   qLI   qLI  \n",
       " [73] qLP   qLP   qLP   qLP   qLP   qLP   qLP   qLP   qMAT  qMAT  qMAT  qMAT \n",
       " [85] qMAT  qMAT  qMAT  qMAT  qMIC  qMIC  qMIC  qMIC  qMIC  qMIC  qMIC  qMIC \n",
       " [97] qPH   qPH   qPH   qPH   qPH   qPH   qPH   qPH   qSCI  qSCI  qSCI  qSCI \n",
       "[109] qSCI  qSCI  qSCI  qSCI \n",
       "Levels: qFL qFE qFS qFU qMIC qMAT qFM qSCI qFWPB qBW qLI qLP qPH qFD"
      ]
     },
     "metadata": {},
     "output_type": "display_data"
    }
   ],
   "source": [
    "plotData$trait"
   ]
  },
  {
   "cell_type": "code",
   "execution_count": 20,
   "metadata": {},
   "outputs": [
    {
     "data": {
      "text/html": [
       "<strong>png:</strong> 2"
      ],
      "text/latex": [
       "\\textbf{png:} 2"
      ],
      "text/markdown": [
       "**png:** 2"
      ],
      "text/plain": [
       "png \n",
       "  2 "
      ]
     },
     "metadata": {},
     "output_type": "display_data"
    },
    {
     "data": {
      "image/png": "[encoded data removed]",
      "text/plain": [
       "plot without title"
      ]
     },
     "metadata": {
      "image/png": {
       "height": 240,
       "width": 420
      }
     },
     "output_type": "display_data"
    }
   ],
   "source": [
    "#* 计算每个野生种片段对所有QTL的相对贡献占比\n",
    "options(\n",
    "    repr.plot.width = 7,\n",
    "    repr.plot.height = 4\n",
    ")\n",
    "p=plotData %>%\n",
    "    ggplot(\n",
    "        aes(x = trait, y = sampleCount, fill = wild)\n",
    "    ) +\n",
    "    geom_bar(\n",
    "        width = 0.75,\n",
    "        stat=\"identity\",\n",
    "        position = position_dodge()\n",
    "    )+\n",
    "    scale_fill_manual(\n",
    "         values=c(\n",
    "            '#A6CEE3','#1F78B4','#B2DF8A','#33A02C',\n",
    "            '#FB9A99','#E31A1C','#FDBF6F','#FF7F00'\n",
    "        )\n",
    "    )+\n",
    "    base_theme+theme(\n",
    "        panel.background = element_blank(),\n",
    "        panel.grid = element_blank()\n",
    "    )+scale_y_continuous(\n",
    "        expand=c(0.01,0)\n",
    "    )+theme(\n",
    "        legend.position = \"none\"\n",
    "    )\n",
    "    # +ylab(\"\")+\n",
    "    # xlab(\"Wild admixture\")\n",
    "pdf(\"wild_contribution_QTL.pdf\", width = 7, height = 4)\n",
    "print(p)\n",
    "dev.off()\n",
    "p"
   ]
  },
  {
   "cell_type": "code",
   "execution_count": 91,
   "metadata": {},
   "outputs": [],
   "source": [
    "#* 每个性状所对应的野生棉渐渗片段累积数目\n",
    "plotData <- wild_contribution %>%\n",
    "    filter(\n",
    "        trait %in% c(\n",
    "            \"qFL\", \"qFE\", \"qFS\", \"qFU\",\n",
    "            \"qMIC\", \"qMAT\", \"qFM\", \"qSCI\",\n",
    "            #* 产量性状\n",
    "            \"qFWPB\", \"qBW\", \"qLI\", \"qLP\",\n",
    "            #* 光周期性状\n",
    "            \"qPH\", \"qFD\", \"qNFFB\"\n",
    "        )\n",
    "    ) %>%\n",
    "    pivot_longer(\n",
    "        cols = c(\n",
    "            \"Ghlatifolium\", \"Ghmariegalante\", \"Ghmorrilli\",\n",
    "            \"Ghpalmeri\", \"Ghpunctatum\", \"Ghpurpurascen\",\n",
    "            \"Ghrichmondi\", \"Ghyucatanense\"\n",
    "        ),\n",
    "        names_to = \"wild\",\n",
    "        values_to = \"sampleCount\"\n",
    "    ) %>%\n",
    "    group_by(trait) %>%\n",
    "    summarise(sum(sampleCount))\n",
    "#! 调整顺序\n",
    "plotData$trait=factor(\n",
    "    plotData$trait,\n",
    "    levels = c( \n",
    "        #* 品质性状\n",
    "        \"qFL\",\"qFE\",\"qFS\",\"qFU\",\n",
    "        \"qMIC\",\"qMAT\",\"qFM\",\"qSCI\",\n",
    "        \n",
    "        #* 产量性状\n",
    "       \"qFWPB\",\"qBW\",\"qLI\",\"qLP\",\n",
    "        #* 光周期性状\n",
    "        \"qPH\",\"qFD\",\"qNFFB\"\n",
    "    )\n",
    ")"
   ]
  },
  {
   "cell_type": "code",
   "execution_count": 92,
   "metadata": {},
   "outputs": [
    {
     "data": {
      "text/html": [
       "<strong>png:</strong> 2"
      ],
      "text/latex": [
       "\\textbf{png:} 2"
      ],
      "text/markdown": [
       "**png:** 2"
      ],
      "text/plain": [
       "png \n",
       "  2 "
      ]
     },
     "metadata": {},
     "output_type": "display_data"
    },
    {
     "data": {
      "image/png": "[encoded data removed]",
      "text/plain": [
       "plot without title"
      ]
     },
     "metadata": {
      "image/png": {
       "height": 240,
       "width": 180
      }
     },
     "output_type": "display_data"
    }
   ],
   "source": [
    "options(\n",
    "    repr.plot.width = 3,\n",
    "    repr.plot.height = 4\n",
    ")\n",
    "p <- plotData %>% ggplot(\n",
    "    aes(y = trait, x = `sum(sampleCount)`)\n",
    "    )+\n",
    "    geom_bar(\n",
    "        stat = \"identity\"\n",
    "    ) +\n",
    "    base_theme +\n",
    "    theme(\n",
    "        panel.background = element_blank(),\n",
    "        panel.grid = element_blank()\n",
    "    ) +\n",
    "    scale_x_continuous(\n",
    "        expand = c(0.01, 0)\n",
    "    )\n",
    "pdf(\"wild_contribution_QTL_wildCount.pdf\", width = 3, height = 4)\n",
    "print(p)\n",
    "dev.off()\n",
    "p"
   ]
  },
  {
   "cell_type": "markdown",
   "metadata": {},
   "source": [
    "### TODO 获取亚基因组admixture的差异"
   ]
  },
  {
   "cell_type": "code",
   "execution_count": 5,
   "metadata": {},
   "outputs": [
    {
     "name": "stderr",
     "output_type": "stream",
     "text": [
      "\n",
      "Attaching package: ‘dplyr’\n",
      "\n",
      "\n",
      "The following objects are masked from ‘package:stats’:\n",
      "\n",
      "    filter, lag\n",
      "\n",
      "\n",
      "The following objects are masked from ‘package:base’:\n",
      "\n",
      "    intersect, setdiff, setequal, union\n",
      "\n",
      "\n"
     ]
    }
   ],
   "source": [
    "library(tidyr)\n",
    "library(dplyr)\n",
    "library(ggplot2)"
   ]
  },
  {
   "cell_type": "code",
   "execution_count": 38,
   "metadata": {},
   "outputs": [],
   "source": [
    "#? 根据At windows 将Dt的windows中IS windows进行scaled"
   ]
  },
  {
   "cell_type": "code",
   "execution_count": 118,
   "metadata": {},
   "outputs": [
    {
     "data": {
      "text/html": [
       "<table class=\"dataframe\">\n",
       "<caption>A data.frame: 6 × 10</caption>\n",
       "<thead>\n",
       "\t<tr><th></th><th scope=col>V1</th><th scope=col>V2</th><th scope=col>V3</th><th scope=col>V4</th><th scope=col>V5</th><th scope=col>V6</th><th scope=col>V7</th><th scope=col>V8</th><th scope=col>V9</th><th scope=col>windowId</th></tr>\n",
       "\t<tr><th></th><th scope=col>&lt;fct&gt;</th><th scope=col>&lt;int&gt;</th><th scope=col>&lt;int&gt;</th><th scope=col>&lt;fct&gt;</th><th scope=col>&lt;int&gt;</th><th scope=col>&lt;int&gt;</th><th scope=col>&lt;int&gt;</th><th scope=col>&lt;int&gt;</th><th scope=col>&lt;fct&gt;</th><th scope=col>&lt;int&gt;</th></tr>\n",
       "</thead>\n",
       "<tbody>\n",
       "\t<tr><th scope=row>1</th><td>HC04_A01</td><td>      0</td><td>1000000</td><td>.       </td><td>      -1</td><td>      -1</td><td>36</td><td> 0</td><td>specific </td><td>1</td></tr>\n",
       "\t<tr><th scope=row>2</th><td>HC04_A01</td><td>1000000</td><td>2000000</td><td>HC04_D01</td><td>64000000</td><td>65000000</td><td>32</td><td>26</td><td>conserved</td><td>2</td></tr>\n",
       "\t<tr><th scope=row>3</th><td>HC04_A01</td><td>2000000</td><td>3000000</td><td>HC04_D01</td><td>63000000</td><td>64000000</td><td>21</td><td>27</td><td>conserved</td><td>3</td></tr>\n",
       "\t<tr><th scope=row>4</th><td>HC04_A01</td><td>3000000</td><td>4000000</td><td>HC04_D01</td><td>62000000</td><td>63000000</td><td>30</td><td>25</td><td>conserved</td><td>4</td></tr>\n",
       "\t<tr><th scope=row>5</th><td>HC04_A01</td><td>4000000</td><td>5000000</td><td>HC04_D01</td><td>61000000</td><td>62000000</td><td>35</td><td>36</td><td>conserved</td><td>5</td></tr>\n",
       "\t<tr><th scope=row>6</th><td>HC04_A01</td><td>5000000</td><td>6000000</td><td>HC04_D01</td><td>60000000</td><td>61000000</td><td>25</td><td>29</td><td>conserved</td><td>6</td></tr>\n",
       "</tbody>\n",
       "</table>\n"
      ],
      "text/latex": [
       "A data.frame: 6 × 10\n",
       "\\begin{tabular}{r|llllllllll}\n",
       "  & V1 & V2 & V3 & V4 & V5 & V6 & V7 & V8 & V9 & windowId\\\\\n",
       "  & <fct> & <int> & <int> & <fct> & <int> & <int> & <int> & <int> & <fct> & <int>\\\\\n",
       "\\hline\n",
       "\t1 & HC04\\_A01 &       0 & 1000000 & .        &       -1 &       -1 & 36 &  0 & specific  & 1\\\\\n",
       "\t2 & HC04\\_A01 & 1000000 & 2000000 & HC04\\_D01 & 64000000 & 65000000 & 32 & 26 & conserved & 2\\\\\n",
       "\t3 & HC04\\_A01 & 2000000 & 3000000 & HC04\\_D01 & 63000000 & 64000000 & 21 & 27 & conserved & 3\\\\\n",
       "\t4 & HC04\\_A01 & 3000000 & 4000000 & HC04\\_D01 & 62000000 & 63000000 & 30 & 25 & conserved & 4\\\\\n",
       "\t5 & HC04\\_A01 & 4000000 & 5000000 & HC04\\_D01 & 61000000 & 62000000 & 35 & 36 & conserved & 5\\\\\n",
       "\t6 & HC04\\_A01 & 5000000 & 6000000 & HC04\\_D01 & 60000000 & 61000000 & 25 & 29 & conserved & 6\\\\\n",
       "\\end{tabular}\n"
      ],
      "text/markdown": [
       "\n",
       "A data.frame: 6 × 10\n",
       "\n",
       "| <!--/--> | V1 &lt;fct&gt; | V2 &lt;int&gt; | V3 &lt;int&gt; | V4 &lt;fct&gt; | V5 &lt;int&gt; | V6 &lt;int&gt; | V7 &lt;int&gt; | V8 &lt;int&gt; | V9 &lt;fct&gt; | windowId &lt;int&gt; |\n",
       "|---|---|---|---|---|---|---|---|---|---|---|\n",
       "| 1 | HC04_A01 |       0 | 1000000 | .        |       -1 |       -1 | 36 |  0 | specific  | 1 |\n",
       "| 2 | HC04_A01 | 1000000 | 2000000 | HC04_D01 | 64000000 | 65000000 | 32 | 26 | conserved | 2 |\n",
       "| 3 | HC04_A01 | 2000000 | 3000000 | HC04_D01 | 63000000 | 64000000 | 21 | 27 | conserved | 3 |\n",
       "| 4 | HC04_A01 | 3000000 | 4000000 | HC04_D01 | 62000000 | 63000000 | 30 | 25 | conserved | 4 |\n",
       "| 5 | HC04_A01 | 4000000 | 5000000 | HC04_D01 | 61000000 | 62000000 | 35 | 36 | conserved | 5 |\n",
       "| 6 | HC04_A01 | 5000000 | 6000000 | HC04_D01 | 60000000 | 61000000 | 25 | 29 | conserved | 6 |\n",
       "\n"
      ],
      "text/plain": [
       "  V1       V2      V3      V4       V5       V6       V7 V8 V9        windowId\n",
       "1 HC04_A01       0 1000000 .              -1       -1 36  0 specific  1       \n",
       "2 HC04_A01 1000000 2000000 HC04_D01 64000000 65000000 32 26 conserved 2       \n",
       "3 HC04_A01 2000000 3000000 HC04_D01 63000000 64000000 21 27 conserved 3       \n",
       "4 HC04_A01 3000000 4000000 HC04_D01 62000000 63000000 30 25 conserved 4       \n",
       "5 HC04_A01 4000000 5000000 HC04_D01 61000000 62000000 35 36 conserved 5       \n",
       "6 HC04_A01 5000000 6000000 HC04_D01 60000000 61000000 25 29 conserved 6       "
      ]
     },
     "metadata": {},
     "output_type": "display_data"
    }
   ],
   "source": [
    "At_sorted_windows <- read.table(\n",
    "    \"./subGenome_IS_wildContribution_At_sorted.txt\"\n",
    ")\n",
    "At_sorted_windows <- At_sorted_windows %>% mutate(windowId = seq(1, dim(At_sorted_windows)[1]))\n",
    "head(At_sorted_windows)"
   ]
  },
  {
   "cell_type": "code",
   "execution_count": 119,
   "metadata": {},
   "outputs": [],
   "source": [
    "Is_indexs=At_sorted_windows %>% group_by(V1) %>% summarise(Isindex=max(windowId)) %>% pull(Isindex)"
   ]
  },
  {
   "cell_type": "code",
   "execution_count": 120,
   "metadata": {},
   "outputs": [
    {
     "data": {
      "text/html": [
       "<table class=\"dataframe\">\n",
       "<caption>A data.frame: 6 × 3</caption>\n",
       "<thead>\n",
       "\t<tr><th></th><th scope=col>windowId</th><th scope=col>IsCount</th><th scope=col>windowType</th></tr>\n",
       "\t<tr><th></th><th scope=col>&lt;int&gt;</th><th scope=col>&lt;dbl&gt;</th><th scope=col>&lt;fct&gt;</th></tr>\n",
       "</thead>\n",
       "<tbody>\n",
       "\t<tr><th scope=row>1</th><td>1</td><td>36</td><td>specific </td></tr>\n",
       "\t<tr><th scope=row>2</th><td>2</td><td>32</td><td>conserved</td></tr>\n",
       "\t<tr><th scope=row>3</th><td>3</td><td>21</td><td>conserved</td></tr>\n",
       "\t<tr><th scope=row>4</th><td>4</td><td>30</td><td>conserved</td></tr>\n",
       "\t<tr><th scope=row>5</th><td>5</td><td>35</td><td>conserved</td></tr>\n",
       "\t<tr><th scope=row>6</th><td>6</td><td>25</td><td>conserved</td></tr>\n",
       "</tbody>\n",
       "</table>\n"
      ],
      "text/latex": [
       "A data.frame: 6 × 3\n",
       "\\begin{tabular}{r|lll}\n",
       "  & windowId & IsCount & windowType\\\\\n",
       "  & <int> & <dbl> & <fct>\\\\\n",
       "\\hline\n",
       "\t1 & 1 & 36 & specific \\\\\n",
       "\t2 & 2 & 32 & conserved\\\\\n",
       "\t3 & 3 & 21 & conserved\\\\\n",
       "\t4 & 4 & 30 & conserved\\\\\n",
       "\t5 & 5 & 35 & conserved\\\\\n",
       "\t6 & 6 & 25 & conserved\\\\\n",
       "\\end{tabular}\n"
      ],
      "text/markdown": [
       "\n",
       "A data.frame: 6 × 3\n",
       "\n",
       "| <!--/--> | windowId &lt;int&gt; | IsCount &lt;dbl&gt; | windowType &lt;fct&gt; |\n",
       "|---|---|---|---|\n",
       "| 1 | 1 | 36 | specific  |\n",
       "| 2 | 2 | 32 | conserved |\n",
       "| 3 | 3 | 21 | conserved |\n",
       "| 4 | 4 | 30 | conserved |\n",
       "| 5 | 5 | 35 | conserved |\n",
       "| 6 | 6 | 25 | conserved |\n",
       "\n"
      ],
      "text/plain": [
       "  windowId IsCount windowType\n",
       "1 1        36      specific  \n",
       "2 2        32      conserved \n",
       "3 3        21      conserved \n",
       "4 4        30      conserved \n",
       "5 5        35      conserved \n",
       "6 6        25      conserved "
      ]
     },
     "metadata": {},
     "output_type": "display_data"
    }
   ],
   "source": [
    "At_plotData=At_sorted_windows %>% select(windowId,V7,V9)\n",
    "Dt_plotData=At_sorted_windows %>%mutate(DtCount=-1*V8) %>% select(windowId,DtCount,V9)\n",
    "colnames(At_plotData)=c(\"windowId\",'IsCount','windowType')\n",
    "colnames(Dt_plotData)=c(\"windowId\",'IsCount','windowType')\n",
    "plotData=rbind(\n",
    "    At_plotData,Dt_plotData\n",
    ")\n",
    "head(plotData)"
   ]
  },
  {
   "cell_type": "code",
   "execution_count": 98,
   "metadata": {},
   "outputs": [
    {
     "data": {
      "text/html": [
       "6.98060941828255"
      ],
      "text/latex": [
       "6.98060941828255"
      ],
      "text/markdown": [
       "6.98060941828255"
      ],
      "text/plain": [
       "[1] 6.980609"
      ]
     },
     "metadata": {},
     "output_type": "display_data"
    }
   ],
   "source": [
    "12*840/1444"
   ]
  },
  {
   "cell_type": "code",
   "execution_count": 121,
   "metadata": {},
   "outputs": [
    {
     "data": {
      "text/html": [
       "<strong>png:</strong> 2"
      ],
      "text/latex": [
       "\\textbf{png:} 2"
      ],
      "text/markdown": [
       "**png:** 2"
      ],
      "text/plain": [
       "png \n",
       "  2 "
      ]
     },
     "metadata": {},
     "output_type": "display_data"
    },
    {
     "data": {
      "image/png": "[encoded data removed]",
      "text/plain": [
       "plot without title"
      ]
     },
     "metadata": {
      "image/png": {
       "height": 180,
       "width": 720
      }
     },
     "output_type": "display_data"
    }
   ],
   "source": [
    "options(\n",
    "    repr.plot.width = 12,\n",
    "    height = 3\n",
    ")\n",
    "p <- plotData %>% ggplot(\n",
    "    aes(x = windowId, y = IsCount, fill = windowType)\n",
    ") +\n",
    "    geom_bar(stat = \"identity\") +\n",
    "    base_theme +\n",
    "    theme(\n",
    "        axis.text.x = element_blank(),\n",
    "        panel.background = element_blank(),\n",
    "        panel.grid = element_blank(),\n",
    "        legend.position = \"none\"\n",
    "    ) +\n",
    "    scale_x_continuous(\n",
    "        breaks = c(0, Is_indexs),\n",
    "        expand = c(0.01, 0)\n",
    "    ) +\n",
    "    xlab(\n",
    "        \"Is window sorted by At\"\n",
    "    ) +\n",
    "    scale_fill_manual(\n",
    "        values = c(\n",
    "            \"#FB9A99\", \"#2196e4\"\n",
    "        )\n",
    "    )\n",
    "pdf(\"At_window_IScount.pdf\", width = 12, height = 3)\n",
    "print(p)\n",
    "dev.off()\n",
    "p"
   ]
  },
  {
   "cell_type": "code",
   "execution_count": 115,
   "metadata": {},
   "outputs": [
    {
     "data": {
      "text/html": [
       "<table class=\"dataframe\">\n",
       "<caption>A data.frame: 6 × 10</caption>\n",
       "<thead>\n",
       "\t<tr><th></th><th scope=col>V1</th><th scope=col>V2</th><th scope=col>V3</th><th scope=col>V4</th><th scope=col>V5</th><th scope=col>V6</th><th scope=col>V7</th><th scope=col>V8</th><th scope=col>V9</th><th scope=col>windowId</th></tr>\n",
       "\t<tr><th></th><th scope=col>&lt;fct&gt;</th><th scope=col>&lt;int&gt;</th><th scope=col>&lt;int&gt;</th><th scope=col>&lt;fct&gt;</th><th scope=col>&lt;int&gt;</th><th scope=col>&lt;int&gt;</th><th scope=col>&lt;int&gt;</th><th scope=col>&lt;int&gt;</th><th scope=col>&lt;fct&gt;</th><th scope=col>&lt;int&gt;</th></tr>\n",
       "</thead>\n",
       "<tbody>\n",
       "\t<tr><th scope=row>1</th><td>.       </td><td>       -1</td><td>       -1</td><td>HC04_D01</td><td>      0</td><td>1000000</td><td> 0</td><td>20</td><td>specific </td><td>1</td></tr>\n",
       "\t<tr><th scope=row>2</th><td>HC04_A01</td><td>118000000</td><td>119000000</td><td>HC04_D01</td><td>1000000</td><td>2000000</td><td>18</td><td> 5</td><td>conserved</td><td>2</td></tr>\n",
       "\t<tr><th scope=row>3</th><td>HC04_A01</td><td>116000000</td><td>117000000</td><td>HC04_D01</td><td>2000000</td><td>3000000</td><td>31</td><td>16</td><td>conserved</td><td>3</td></tr>\n",
       "\t<tr><th scope=row>4</th><td>HC04_A01</td><td>115000000</td><td>116000000</td><td>HC04_D01</td><td>3000000</td><td>4000000</td><td>30</td><td> 4</td><td>conserved</td><td>4</td></tr>\n",
       "\t<tr><th scope=row>5</th><td>HC04_A01</td><td>114000000</td><td>115000000</td><td>HC04_D01</td><td>4000000</td><td>5000000</td><td> 0</td><td>31</td><td>conserved</td><td>5</td></tr>\n",
       "\t<tr><th scope=row>6</th><td>HC04_A01</td><td>112000000</td><td>113000000</td><td>HC04_D01</td><td>5000000</td><td>6000000</td><td>25</td><td>31</td><td>conserved</td><td>6</td></tr>\n",
       "</tbody>\n",
       "</table>\n"
      ],
      "text/latex": [
       "A data.frame: 6 × 10\n",
       "\\begin{tabular}{r|llllllllll}\n",
       "  & V1 & V2 & V3 & V4 & V5 & V6 & V7 & V8 & V9 & windowId\\\\\n",
       "  & <fct> & <int> & <int> & <fct> & <int> & <int> & <int> & <int> & <fct> & <int>\\\\\n",
       "\\hline\n",
       "\t1 & .        &        -1 &        -1 & HC04\\_D01 &       0 & 1000000 &  0 & 20 & specific  & 1\\\\\n",
       "\t2 & HC04\\_A01 & 118000000 & 119000000 & HC04\\_D01 & 1000000 & 2000000 & 18 &  5 & conserved & 2\\\\\n",
       "\t3 & HC04\\_A01 & 116000000 & 117000000 & HC04\\_D01 & 2000000 & 3000000 & 31 & 16 & conserved & 3\\\\\n",
       "\t4 & HC04\\_A01 & 115000000 & 116000000 & HC04\\_D01 & 3000000 & 4000000 & 30 &  4 & conserved & 4\\\\\n",
       "\t5 & HC04\\_A01 & 114000000 & 115000000 & HC04\\_D01 & 4000000 & 5000000 &  0 & 31 & conserved & 5\\\\\n",
       "\t6 & HC04\\_A01 & 112000000 & 113000000 & HC04\\_D01 & 5000000 & 6000000 & 25 & 31 & conserved & 6\\\\\n",
       "\\end{tabular}\n"
      ],
      "text/markdown": [
       "\n",
       "A data.frame: 6 × 10\n",
       "\n",
       "| <!--/--> | V1 &lt;fct&gt; | V2 &lt;int&gt; | V3 &lt;int&gt; | V4 &lt;fct&gt; | V5 &lt;int&gt; | V6 &lt;int&gt; | V7 &lt;int&gt; | V8 &lt;int&gt; | V9 &lt;fct&gt; | windowId &lt;int&gt; |\n",
       "|---|---|---|---|---|---|---|---|---|---|---|\n",
       "| 1 | .        |        -1 |        -1 | HC04_D01 |       0 | 1000000 |  0 | 20 | specific  | 1 |\n",
       "| 2 | HC04_A01 | 118000000 | 119000000 | HC04_D01 | 1000000 | 2000000 | 18 |  5 | conserved | 2 |\n",
       "| 3 | HC04_A01 | 116000000 | 117000000 | HC04_D01 | 2000000 | 3000000 | 31 | 16 | conserved | 3 |\n",
       "| 4 | HC04_A01 | 115000000 | 116000000 | HC04_D01 | 3000000 | 4000000 | 30 |  4 | conserved | 4 |\n",
       "| 5 | HC04_A01 | 114000000 | 115000000 | HC04_D01 | 4000000 | 5000000 |  0 | 31 | conserved | 5 |\n",
       "| 6 | HC04_A01 | 112000000 | 113000000 | HC04_D01 | 5000000 | 6000000 | 25 | 31 | conserved | 6 |\n",
       "\n"
      ],
      "text/plain": [
       "  V1       V2        V3        V4       V5      V6      V7 V8 V9       \n",
       "1 .               -1        -1 HC04_D01       0 1000000  0 20 specific \n",
       "2 HC04_A01 118000000 119000000 HC04_D01 1000000 2000000 18  5 conserved\n",
       "3 HC04_A01 116000000 117000000 HC04_D01 2000000 3000000 31 16 conserved\n",
       "4 HC04_A01 115000000 116000000 HC04_D01 3000000 4000000 30  4 conserved\n",
       "5 HC04_A01 114000000 115000000 HC04_D01 4000000 5000000  0 31 conserved\n",
       "6 HC04_A01 112000000 113000000 HC04_D01 5000000 6000000 25 31 conserved\n",
       "  windowId\n",
       "1 1       \n",
       "2 2       \n",
       "3 3       \n",
       "4 4       \n",
       "5 5       \n",
       "6 6       "
      ]
     },
     "metadata": {},
     "output_type": "display_data"
    }
   ],
   "source": [
    "# ? 按照Dt的基因组窗口进行排序的结果\n",
    "Dt_sorted_windows <- read.table(\n",
    "    \"./subGenome_IS_wildContribution_Dt_sorted.txt\"\n",
    ")\n",
    "Dt_sorted_windows <- Dt_sorted_windows %>% mutate(windowId = seq(1, dim(Dt_sorted_windows)[1]))\n",
    "Dt_Is_indexs=Dt_sorted_windows %>% group_by(V4) %>% summarise(Isindex=max(windowId)) %>% pull(Isindex)\n",
    "head(Dt_sorted_windows)"
   ]
  },
  {
   "cell_type": "code",
   "execution_count": 117,
   "metadata": {},
   "outputs": [
    {
     "data": {
      "text/html": [
       "<strong>png:</strong> 2"
      ],
      "text/latex": [
       "\\textbf{png:} 2"
      ],
      "text/markdown": [
       "**png:** 2"
      ],
      "text/plain": [
       "png \n",
       "  2 "
      ]
     },
     "metadata": {},
     "output_type": "display_data"
    },
    {
     "data": {
      "image/png": "[encoded data removed]",
      "text/plain": [
       "plot without title"
      ]
     },
     "metadata": {
      "image/png": {
       "height": 180,
       "width": 420
      }
     },
     "output_type": "display_data"
    }
   ],
   "source": [
    "At_plotData <- Dt_sorted_windows %>%\n",
    "    mutate(AtCount = -1 * V7) %>%\n",
    "    select(windowId, AtCount, V9)\n",
    "Dt_plotData <- Dt_sorted_windows %>%\n",
    "    mutate(DtCount = V8) %>%\n",
    "    select(windowId, DtCount, V9)\n",
    "colnames(At_plotData) <- c(\"windowId\", \"IsCount\", \"windowType\")\n",
    "colnames(Dt_plotData) <- c(\"windowId\", \"IsCount\", \"windowType\")\n",
    "plotData <- rbind(\n",
    "    At_plotData, Dt_plotData\n",
    ")\n",
    "options(\n",
    "    repr.plot.width=7,\n",
    "    height=3\n",
    ")\n",
    "p=plotData %>% ggplot(\n",
    "    aes(x = windowId, y = IsCount,fill=windowType)\n",
    "    ) +\n",
    "    geom_bar(stat = \"identity\")+\n",
    "    base_theme+theme(\n",
    "        axis.text.x = element_blank(),\n",
    "        panel.background = element_blank(),\n",
    "        panel.grid = element_blank(),\n",
    "        legend.position = \"none\"\n",
    "    )+scale_x_continuous(\n",
    "        breaks=c(0,Dt_Is_indexs),\n",
    "        expand=c(0.01,0)\n",
    "    )+xlab(\n",
    "        \"Is window sorted by Dt\"\n",
    "    )+scale_fill_manual(\n",
    "        values=c( \n",
    "            \"#FB9A99\",\"#3500f9\"\n",
    "        )\n",
    "    )\n",
    "pdf(\"Dt_window_IScount.pdf\", width = 7, height = 3)\n",
    "print(p)\n",
    "dev.off()\n",
    "p    "
   ]
  },
  {
   "cell_type": "markdown",
   "metadata": {},
   "source": [
    "### TODO 统计四种区间中野生棉的供体组成\n",
    "\n",
    "+ At和Dt保守区间\n",
    "+ At特异性的区间\n",
    "+ Dt特异性的区间"
   ]
  },
  {
   "cell_type": "code",
   "execution_count": 124,
   "metadata": {},
   "outputs": [],
   "source": [
    "library(dplyr)\n",
    "library(ggplot2)\n",
    "library(tidyr)"
   ]
  },
  {
   "cell_type": "code",
   "execution_count": 122,
   "metadata": {},
   "outputs": [],
   "source": [
    "All_IS_window=read.table(\n",
    "    \"./All_IS_windows_class.txt\",\n",
    "    header=T\n",
    ")"
   ]
  },
  {
   "cell_type": "code",
   "execution_count": 149,
   "metadata": {},
   "outputs": [
    {
     "name": "stderr",
     "output_type": "stream",
     "text": [
      "\u001b[1m\u001b[22m`summarise()` has grouped output by 'windowClass'. You can override using the\n",
      "`.groups` argument.\n"
     ]
    },
    {
     "data": {
      "text/html": [
       "<strong>png:</strong> 2"
      ],
      "text/latex": [
       "\\textbf{png:} 2"
      ],
      "text/markdown": [
       "**png:** 2"
      ],
      "text/plain": [
       "png \n",
       "  2 "
      ]
     },
     "metadata": {},
     "output_type": "display_data"
    },
    {
     "data": {
      "image/png": "[encoded data removed]",
      "text/plain": [
       "plot without title"
      ]
     },
     "metadata": {
      "image/png": {
       "height": 180,
       "width": 360
      }
     },
     "output_type": "display_data"
    }
   ],
   "source": [
    "plotData <- All_IS_window %>%\n",
    "    pivot_longer(\n",
    "        cols = c(\n",
    "            \"Ghlatifolium\", \"Ghmariegalante\",\n",
    "            \"Ghmorrilli\", \"Ghpalmeri\", \"Ghpunctatum\",\n",
    "            \"Ghpurpurascen\", \"Ghrichmondi\", \"Ghyucatanense\"\n",
    "        ),\n",
    "        names_to = \"wildClass\",\n",
    "        values_to = \"cultivarCount\"\n",
    "    ) %>%\n",
    "    mutate(\n",
    "        window_wild_class = paste(\n",
    "            windowClass, wildClass,\n",
    "            sep = \"_\"\n",
    "        )\n",
    "    ) %>%\n",
    "    group_by(\n",
    "        windowClass, wildClass\n",
    "    ) %>%\n",
    "    summarise(sampleCount = sum(cultivarCount))\n",
    "\n",
    "plotData$windowClass <- factor(\n",
    "    plotData$windowClass,\n",
    "    levels = c(\n",
    "        \"At_conserved\", \"Dt_conserved\",\n",
    "        \"At_specific\", \"Dt_specific\"\n",
    "    )\n",
    ")\n",
    "options(\n",
    "    repr.plot.width = 6,\n",
    "    height = 3\n",
    ")\n",
    "p <- plotData %>% ggplot(\n",
    "    aes(y = windowClass, x = sampleCount, fill = wildClass)\n",
    ") +\n",
    "    geom_bar(stat = \"identity\") +\n",
    "    base_theme +\n",
    "    theme(\n",
    "        panel.background = element_blank(),\n",
    "        panel.grid = element_blank()\n",
    "    ) +\n",
    "    scale_x_continuous(\n",
    "        expand = c(0, 0)\n",
    "    ) +\n",
    "    ylab(\"\") +\n",
    "    xlab(\"Count of IS\")\n",
    "pdf(\"All_IS_subgenome_class.pdf\", height = 3, width = 6)\n",
    "print(p)\n",
    "dev.off()\n",
    "p"
   ]
  },
  {
   "cell_type": "markdown",
   "metadata": {},
   "source": [
    "#### 亚基因组保守区间的IS donor数目的相关性分析"
   ]
  },
  {
   "cell_type": "code",
   "execution_count": 1,
   "metadata": {},
   "outputs": [
    {
     "name": "stderr",
     "output_type": "stream",
     "text": [
      "\n",
      "Attaching package: ‘dplyr’\n",
      "\n",
      "\n",
      "The following objects are masked from ‘package:stats’:\n",
      "\n",
      "    filter, lag\n",
      "\n",
      "\n",
      "The following objects are masked from ‘package:base’:\n",
      "\n",
      "    intersect, setdiff, setequal, union\n",
      "\n",
      "\n"
     ]
    }
   ],
   "source": [
    "library(dplyr)\n",
    "library(ggplot2)\n"
   ]
  },
  {
   "cell_type": "code",
   "execution_count": 2,
   "metadata": {},
   "outputs": [],
   "source": [
    "At_Dt_IsCount=read.table(\n",
    "    \"./subGenome_IS_wildContribution.txt\",\n",
    "    header=T\n",
    ")"
   ]
  },
  {
   "cell_type": "markdown",
   "metadata": {},
   "source": [
    "### TODO 每个QTL存在一个与之有交集的渐渗区间\n",
    "\n",
    "> 分析该QTL在对应渐渗区间中，有多少是来自与哪类野生种的贡献更多一些"
   ]
  },
  {
   "cell_type": "code",
   "execution_count": 85,
   "metadata": {},
   "outputs": [],
   "source": [
    "library(dplyr)\n",
    "library(ggplot2)\n",
    "library(tidyr)"
   ]
  },
  {
   "cell_type": "code",
   "execution_count": 107,
   "metadata": {},
   "outputs": [
    {
     "data": {
      "image/png": "[encoded data removed]",
      "text/plain": [
       "plot without title"
      ]
     },
     "metadata": {
      "image/png": {
       "height": 180,
       "width": 420
      }
     },
     "output_type": "display_data"
    }
   ],
   "source": [
    "library(RColorBrewer)\n",
    "display.brewer.pal(12,\"Paired\")"
   ]
  },
  {
   "cell_type": "code",
   "execution_count": 88,
   "metadata": {},
   "outputs": [
    {
     "data": {
      "text/html": [
       "<style>\n",
       ".list-inline {list-style: none; margin:0; padding: 0}\n",
       ".list-inline>li {display: inline-block}\n",
       ".list-inline>li:not(:last-child)::after {content: \"\\00b7\"; padding: 0 .5ex}\n",
       "</style>\n",
       "<ol class=list-inline><li>'#A6CEE3'</li><li>'#1F78B4'</li><li>'#B2DF8A'</li><li>'#33A02C'</li><li>'#FB9A99'</li><li>'#E31A1C'</li><li>'#FDBF6F'</li><li>'#FF7F00'</li><li>'#CAB2D6'</li></ol>\n"
      ],
      "text/latex": [
       "\\begin{enumerate*}\n",
       "\\item '\\#A6CEE3'\n",
       "\\item '\\#1F78B4'\n",
       "\\item '\\#B2DF8A'\n",
       "\\item '\\#33A02C'\n",
       "\\item '\\#FB9A99'\n",
       "\\item '\\#E31A1C'\n",
       "\\item '\\#FDBF6F'\n",
       "\\item '\\#FF7F00'\n",
       "\\item '\\#CAB2D6'\n",
       "\\end{enumerate*}\n"
      ],
      "text/markdown": [
       "1. '#A6CEE3'\n",
       "2. '#1F78B4'\n",
       "3. '#B2DF8A'\n",
       "4. '#33A02C'\n",
       "5. '#FB9A99'\n",
       "6. '#E31A1C'\n",
       "7. '#FDBF6F'\n",
       "8. '#FF7F00'\n",
       "9. '#CAB2D6'\n",
       "\n",
       "\n"
      ],
      "text/plain": [
       "[1] \"#A6CEE3\" \"#1F78B4\" \"#B2DF8A\" \"#33A02C\" \"#FB9A99\" \"#E31A1C\" \"#FDBF6F\"\n",
       "[8] \"#FF7F00\" \"#CAB2D6\""
      ]
     },
     "metadata": {},
     "output_type": "display_data"
    }
   ],
   "source": [
    "brewer.pal(9,\"Paired\")"
   ]
  },
  {
   "cell_type": "markdown",
   "metadata": {},
   "source": [
    "#### 按照不同的性状QTL进行野生棉对栽培种中的渐渗"
   ]
  },
  {
   "cell_type": "code",
   "execution_count": 1,
   "metadata": {},
   "outputs": [
    {
     "name": "stderr",
     "output_type": "stream",
     "text": [
      "\n",
      "Attaching package: ‘dplyr’\n",
      "\n",
      "\n",
      "The following objects are masked from ‘package:stats’:\n",
      "\n",
      "    filter, lag\n",
      "\n",
      "\n",
      "The following objects are masked from ‘package:base’:\n",
      "\n",
      "    intersect, setdiff, setequal, union\n",
      "\n",
      "\n"
     ]
    }
   ],
   "source": [
    "library(dplyr)\n",
    "library(ggplot2)\n",
    "library(tidyr)"
   ]
  },
  {
   "cell_type": "code",
   "execution_count": 2,
   "metadata": {},
   "outputs": [],
   "source": [
    "QTL_intersected_Introgression=read.table(\n",
    "    \"./Introgression_intersected_QTL.txt\",\n",
    "    header=F,sep=\"\\t\"\n",
    ")\n",
    "QTL_intersected_Introgression <- arrange(QTL_intersected_Introgression, desc(V4))\n",
    "QTL_intersected_Introgression$QTLid=seq(1,dim(QTL_intersected_Introgression)[1])"
   ]
  },
  {
   "cell_type": "code",
   "execution_count": null,
   "metadata": {},
   "outputs": [],
   "source": []
  },
  {
   "cell_type": "code",
   "execution_count": 64,
   "metadata": {},
   "outputs": [
    {
     "data": {
      "text/html": [
       "<table class=\"dataframe\">\n",
       "<caption>A data.frame: 6 × 19</caption>\n",
       "<thead>\n",
       "\t<tr><th></th><th scope=col>V1</th><th scope=col>V2</th><th scope=col>V3</th><th scope=col>V4</th><th scope=col>V5</th><th scope=col>V6</th><th scope=col>V7</th><th scope=col>V8</th><th scope=col>V9</th><th scope=col>V10</th><th scope=col>V11</th><th scope=col>V12</th><th scope=col>V13</th><th scope=col>V14</th><th scope=col>V15</th><th scope=col>V16</th><th scope=col>V17</th><th scope=col>V18</th><th scope=col>QTLid</th></tr>\n",
       "\t<tr><th></th><th scope=col>&lt;fct&gt;</th><th scope=col>&lt;int&gt;</th><th scope=col>&lt;int&gt;</th><th scope=col>&lt;int&gt;</th><th scope=col>&lt;fct&gt;</th><th scope=col>&lt;fct&gt;</th><th scope=col>&lt;int&gt;</th><th scope=col>&lt;int&gt;</th><th scope=col>&lt;fct&gt;</th><th scope=col>&lt;int&gt;</th><th scope=col>&lt;int&gt;</th><th scope=col>&lt;int&gt;</th><th scope=col>&lt;int&gt;</th><th scope=col>&lt;int&gt;</th><th scope=col>&lt;int&gt;</th><th scope=col>&lt;int&gt;</th><th scope=col>&lt;int&gt;</th><th scope=col>&lt;int&gt;</th><th scope=col>&lt;int&gt;</th></tr>\n",
       "</thead>\n",
       "<tbody>\n",
       "\t<tr><th scope=row>1</th><td>HC04_A07</td><td>94000000</td><td>95000000</td><td>36</td><td>TW029,P01,TW029,P01,P01,P01,P01,P01,P01,TW029,P01,P01,TW064,P01,P01,TW064,P01,TW029,TW026,TW026,TW026,P01,P01,P01,TW026,P01,P01,P01,P01,P01,P01,P01,P01,P01,P01,P01                                           </td><td>HC04_A07</td><td>94656426</td><td>94692370</td><td>FL</td><td> 0</td><td>2</td><td>0</td><td> 4</td><td> 4</td><td>0</td><td>0</td><td>26</td><td>0</td><td> 3</td></tr>\n",
       "\t<tr><th scope=row>2</th><td>HC04_D05</td><td> 5000000</td><td> 6000000</td><td>36</td><td>HW05,TW026,HW05,TW091,TW029,HW05,TW091,TW091,TW026,TW091,TW026,TW091,TW026,P01,HW05,HW05,TW026,TW026,TW026,TW091,TW091,TW026,HW05,TW026,TW026,TW026,TW026,TW091,TW091,TW091,HW05,TW091,TW091,TW026,TW091,TW026</td><td>HC04_D05</td><td> 4812839</td><td> 5191451</td><td>FL</td><td>20</td><td>0</td><td>0</td><td>14</td><td> 1</td><td>0</td><td>0</td><td> 1</td><td>0</td><td> 5</td></tr>\n",
       "\t<tr><th scope=row>3</th><td>HC04_A07</td><td>92000000</td><td>93000000</td><td>33</td><td>TW026,TW029,P01,HW05,TW029,TW031,TW029,TW029,TW031,TW029,TW029,TW029,TW013,TW029,TW013,TW026,TW029,TW026,TW055,TW055,TW029,TW026,TW026,TW029,TW029,TW029,TW029,TW055,TW029,TW031,TW029,TW029,TW029            </td><td>HC04_A07</td><td>90555482</td><td>93188576</td><td>FL</td><td> 3</td><td>0</td><td>0</td><td> 5</td><td>21</td><td>0</td><td>3</td><td> 1</td><td>3</td><td>18</td></tr>\n",
       "\t<tr><th scope=row>4</th><td>HC04_A07</td><td>92000000</td><td>93000000</td><td>33</td><td>TW026,TW029,P01,HW05,TW029,TW031,TW029,TW029,TW031,TW029,TW029,TW029,TW013,TW029,TW013,TW026,TW029,TW026,TW055,TW055,TW029,TW026,TW026,TW029,TW029,TW029,TW029,TW055,TW029,TW031,TW029,TW029,TW029            </td><td>HC04_A07</td><td>92312536</td><td>92722624</td><td>FL</td><td> 3</td><td>0</td><td>0</td><td> 5</td><td>21</td><td>0</td><td>3</td><td> 1</td><td>3</td><td>27</td></tr>\n",
       "\t<tr><th scope=row>5</th><td>HC04_A07</td><td>92000000</td><td>93000000</td><td>33</td><td>TW026,TW029,P01,HW05,TW029,TW031,TW029,TW029,TW031,TW029,TW029,TW029,TW013,TW029,TW013,TW026,TW029,TW026,TW055,TW055,TW029,TW026,TW026,TW029,TW029,TW029,TW029,TW055,TW029,TW031,TW029,TW029,TW029            </td><td>HC04_A07</td><td>92534465</td><td>92716659</td><td>FL</td><td> 3</td><td>0</td><td>0</td><td> 5</td><td>21</td><td>0</td><td>3</td><td> 1</td><td>3</td><td>29</td></tr>\n",
       "\t<tr><th scope=row>6</th><td>HC04_D05</td><td>27000000</td><td>28000000</td><td>33</td><td>TW026,HW03,TW026,TW026,TW026,TW026,TW026,TW026,TW026,TW026,TW026,HW04,HW04,TW026,P02,HW03,TW026,TW026,TW026,TW026,TW026,TW026,TW026,TW026,TW026,TW026,TW026,TW026,TW026,TW026,TW026,TW026,TW026               </td><td>HC04_D05</td><td>27033603</td><td>27431960</td><td>FL</td><td> 0</td><td>1</td><td>0</td><td>30</td><td> 2</td><td>0</td><td>0</td><td> 0</td><td>3</td><td>35</td></tr>\n",
       "</tbody>\n",
       "</table>\n"
      ],
      "text/latex": [
       "A data.frame: 6 × 19\n",
       "\\begin{tabular}{r|lllllllllllllllllll}\n",
       "  & V1 & V2 & V3 & V4 & V5 & V6 & V7 & V8 & V9 & V10 & V11 & V12 & V13 & V14 & V15 & V16 & V17 & V18 & QTLid\\\\\n",
       "  & <fct> & <int> & <int> & <int> & <fct> & <fct> & <int> & <int> & <fct> & <int> & <int> & <int> & <int> & <int> & <int> & <int> & <int> & <int> & <int>\\\\\n",
       "\\hline\n",
       "\t1 & HC04\\_A07 & 94000000 & 95000000 & 36 & TW029,P01,TW029,P01,P01,P01,P01,P01,P01,TW029,P01,P01,TW064,P01,P01,TW064,P01,TW029,TW026,TW026,TW026,P01,P01,P01,TW026,P01,P01,P01,P01,P01,P01,P01,P01,P01,P01,P01                                            & HC04\\_A07 & 94656426 & 94692370 & FL &  0 & 2 & 0 &  4 &  4 & 0 & 0 & 26 & 0 &  3\\\\\n",
       "\t2 & HC04\\_D05 &  5000000 &  6000000 & 36 & HW05,TW026,HW05,TW091,TW029,HW05,TW091,TW091,TW026,TW091,TW026,TW091,TW026,P01,HW05,HW05,TW026,TW026,TW026,TW091,TW091,TW026,HW05,TW026,TW026,TW026,TW026,TW091,TW091,TW091,HW05,TW091,TW091,TW026,TW091,TW026 & HC04\\_D05 &  4812839 &  5191451 & FL & 20 & 0 & 0 & 14 &  1 & 0 & 0 &  1 & 0 &  5\\\\\n",
       "\t3 & HC04\\_A07 & 92000000 & 93000000 & 33 & TW026,TW029,P01,HW05,TW029,TW031,TW029,TW029,TW031,TW029,TW029,TW029,TW013,TW029,TW013,TW026,TW029,TW026,TW055,TW055,TW029,TW026,TW026,TW029,TW029,TW029,TW029,TW055,TW029,TW031,TW029,TW029,TW029             & HC04\\_A07 & 90555482 & 93188576 & FL &  3 & 0 & 0 &  5 & 21 & 0 & 3 &  1 & 3 & 18\\\\\n",
       "\t4 & HC04\\_A07 & 92000000 & 93000000 & 33 & TW026,TW029,P01,HW05,TW029,TW031,TW029,TW029,TW031,TW029,TW029,TW029,TW013,TW029,TW013,TW026,TW029,TW026,TW055,TW055,TW029,TW026,TW026,TW029,TW029,TW029,TW029,TW055,TW029,TW031,TW029,TW029,TW029             & HC04\\_A07 & 92312536 & 92722624 & FL &  3 & 0 & 0 &  5 & 21 & 0 & 3 &  1 & 3 & 27\\\\\n",
       "\t5 & HC04\\_A07 & 92000000 & 93000000 & 33 & TW026,TW029,P01,HW05,TW029,TW031,TW029,TW029,TW031,TW029,TW029,TW029,TW013,TW029,TW013,TW026,TW029,TW026,TW055,TW055,TW029,TW026,TW026,TW029,TW029,TW029,TW029,TW055,TW029,TW031,TW029,TW029,TW029             & HC04\\_A07 & 92534465 & 92716659 & FL &  3 & 0 & 0 &  5 & 21 & 0 & 3 &  1 & 3 & 29\\\\\n",
       "\t6 & HC04\\_D05 & 27000000 & 28000000 & 33 & TW026,HW03,TW026,TW026,TW026,TW026,TW026,TW026,TW026,TW026,TW026,HW04,HW04,TW026,P02,HW03,TW026,TW026,TW026,TW026,TW026,TW026,TW026,TW026,TW026,TW026,TW026,TW026,TW026,TW026,TW026,TW026,TW026                & HC04\\_D05 & 27033603 & 27431960 & FL &  0 & 1 & 0 & 30 &  2 & 0 & 0 &  0 & 3 & 35\\\\\n",
       "\\end{tabular}\n"
      ],
      "text/markdown": [
       "\n",
       "A data.frame: 6 × 19\n",
       "\n",
       "| <!--/--> | V1 &lt;fct&gt; | V2 &lt;int&gt; | V3 &lt;int&gt; | V4 &lt;int&gt; | V5 &lt;fct&gt; | V6 &lt;fct&gt; | V7 &lt;int&gt; | V8 &lt;int&gt; | V9 &lt;fct&gt; | V10 &lt;int&gt; | V11 &lt;int&gt; | V12 &lt;int&gt; | V13 &lt;int&gt; | V14 &lt;int&gt; | V15 &lt;int&gt; | V16 &lt;int&gt; | V17 &lt;int&gt; | V18 &lt;int&gt; | QTLid &lt;int&gt; |\n",
       "|---|---|---|---|---|---|---|---|---|---|---|---|---|---|---|---|---|---|---|---|\n",
       "| 1 | HC04_A07 | 94000000 | 95000000 | 36 | TW029,P01,TW029,P01,P01,P01,P01,P01,P01,TW029,P01,P01,TW064,P01,P01,TW064,P01,TW029,TW026,TW026,TW026,P01,P01,P01,TW026,P01,P01,P01,P01,P01,P01,P01,P01,P01,P01,P01                                            | HC04_A07 | 94656426 | 94692370 | FL |  0 | 2 | 0 |  4 |  4 | 0 | 0 | 26 | 0 |  3 |\n",
       "| 2 | HC04_D05 |  5000000 |  6000000 | 36 | HW05,TW026,HW05,TW091,TW029,HW05,TW091,TW091,TW026,TW091,TW026,TW091,TW026,P01,HW05,HW05,TW026,TW026,TW026,TW091,TW091,TW026,HW05,TW026,TW026,TW026,TW026,TW091,TW091,TW091,HW05,TW091,TW091,TW026,TW091,TW026 | HC04_D05 |  4812839 |  5191451 | FL | 20 | 0 | 0 | 14 |  1 | 0 | 0 |  1 | 0 |  5 |\n",
       "| 3 | HC04_A07 | 92000000 | 93000000 | 33 | TW026,TW029,P01,HW05,TW029,TW031,TW029,TW029,TW031,TW029,TW029,TW029,TW013,TW029,TW013,TW026,TW029,TW026,TW055,TW055,TW029,TW026,TW026,TW029,TW029,TW029,TW029,TW055,TW029,TW031,TW029,TW029,TW029             | HC04_A07 | 90555482 | 93188576 | FL |  3 | 0 | 0 |  5 | 21 | 0 | 3 |  1 | 3 | 18 |\n",
       "| 4 | HC04_A07 | 92000000 | 93000000 | 33 | TW026,TW029,P01,HW05,TW029,TW031,TW029,TW029,TW031,TW029,TW029,TW029,TW013,TW029,TW013,TW026,TW029,TW026,TW055,TW055,TW029,TW026,TW026,TW029,TW029,TW029,TW029,TW055,TW029,TW031,TW029,TW029,TW029             | HC04_A07 | 92312536 | 92722624 | FL |  3 | 0 | 0 |  5 | 21 | 0 | 3 |  1 | 3 | 27 |\n",
       "| 5 | HC04_A07 | 92000000 | 93000000 | 33 | TW026,TW029,P01,HW05,TW029,TW031,TW029,TW029,TW031,TW029,TW029,TW029,TW013,TW029,TW013,TW026,TW029,TW026,TW055,TW055,TW029,TW026,TW026,TW029,TW029,TW029,TW029,TW055,TW029,TW031,TW029,TW029,TW029             | HC04_A07 | 92534465 | 92716659 | FL |  3 | 0 | 0 |  5 | 21 | 0 | 3 |  1 | 3 | 29 |\n",
       "| 6 | HC04_D05 | 27000000 | 28000000 | 33 | TW026,HW03,TW026,TW026,TW026,TW026,TW026,TW026,TW026,TW026,TW026,HW04,HW04,TW026,P02,HW03,TW026,TW026,TW026,TW026,TW026,TW026,TW026,TW026,TW026,TW026,TW026,TW026,TW026,TW026,TW026,TW026,TW026                | HC04_D05 | 27033603 | 27431960 | FL |  0 | 1 | 0 | 30 |  2 | 0 | 0 |  0 | 3 | 35 |\n",
       "\n"
      ],
      "text/plain": [
       "  V1       V2       V3       V4\n",
       "1 HC04_A07 94000000 95000000 36\n",
       "2 HC04_D05  5000000  6000000 36\n",
       "3 HC04_A07 92000000 93000000 33\n",
       "4 HC04_A07 92000000 93000000 33\n",
       "5 HC04_A07 92000000 93000000 33\n",
       "6 HC04_D05 27000000 28000000 33\n",
       "  V5                                                                                                                                                                                                            \n",
       "1 TW029,P01,TW029,P01,P01,P01,P01,P01,P01,TW029,P01,P01,TW064,P01,P01,TW064,P01,TW029,TW026,TW026,TW026,P01,P01,P01,TW026,P01,P01,P01,P01,P01,P01,P01,P01,P01,P01,P01                                           \n",
       "2 HW05,TW026,HW05,TW091,TW029,HW05,TW091,TW091,TW026,TW091,TW026,TW091,TW026,P01,HW05,HW05,TW026,TW026,TW026,TW091,TW091,TW026,HW05,TW026,TW026,TW026,TW026,TW091,TW091,TW091,HW05,TW091,TW091,TW026,TW091,TW026\n",
       "3 TW026,TW029,P01,HW05,TW029,TW031,TW029,TW029,TW031,TW029,TW029,TW029,TW013,TW029,TW013,TW026,TW029,TW026,TW055,TW055,TW029,TW026,TW026,TW029,TW029,TW029,TW029,TW055,TW029,TW031,TW029,TW029,TW029            \n",
       "4 TW026,TW029,P01,HW05,TW029,TW031,TW029,TW029,TW031,TW029,TW029,TW029,TW013,TW029,TW013,TW026,TW029,TW026,TW055,TW055,TW029,TW026,TW026,TW029,TW029,TW029,TW029,TW055,TW029,TW031,TW029,TW029,TW029            \n",
       "5 TW026,TW029,P01,HW05,TW029,TW031,TW029,TW029,TW031,TW029,TW029,TW029,TW013,TW029,TW013,TW026,TW029,TW026,TW055,TW055,TW029,TW026,TW026,TW029,TW029,TW029,TW029,TW055,TW029,TW031,TW029,TW029,TW029            \n",
       "6 TW026,HW03,TW026,TW026,TW026,TW026,TW026,TW026,TW026,TW026,TW026,HW04,HW04,TW026,P02,HW03,TW026,TW026,TW026,TW026,TW026,TW026,TW026,TW026,TW026,TW026,TW026,TW026,TW026,TW026,TW026,TW026,TW026               \n",
       "  V6       V7       V8       V9 V10 V11 V12 V13 V14 V15 V16 V17 V18 QTLid\n",
       "1 HC04_A07 94656426 94692370 FL  0  2   0    4   4  0   0   26  0    3   \n",
       "2 HC04_D05  4812839  5191451 FL 20  0   0   14   1  0   0    1  0    5   \n",
       "3 HC04_A07 90555482 93188576 FL  3  0   0    5  21  0   3    1  3   18   \n",
       "4 HC04_A07 92312536 92722624 FL  3  0   0    5  21  0   3    1  3   27   \n",
       "5 HC04_A07 92534465 92716659 FL  3  0   0    5  21  0   3    1  3   29   \n",
       "6 HC04_D05 27033603 27431960 FL  0  1   0   30   2  0   0    0  3   35   "
      ]
     },
     "metadata": {},
     "output_type": "display_data"
    }
   ],
   "source": [
    "QTL_intersected_Introgression %>% filter(\n",
    "        V9==\"FL\"\n",
    "    ) %>% head()"
   ]
  },
  {
   "cell_type": "code",
   "execution_count": 65,
   "metadata": {},
   "outputs": [],
   "source": [
    "FL_QTL=QTL_intersected_Introgression %>% filter(\n",
    "        V9==\"FL\"\n",
    "    )\n",
    "FL_QTL$QTLid=seq(1,dim(FL_QTL)[1])"
   ]
  },
  {
   "cell_type": "code",
   "execution_count": 66,
   "metadata": {},
   "outputs": [
    {
     "data": {
      "text/html": [
       "<table class=\"dataframe\">\n",
       "<caption>A data.frame: 6 × 4</caption>\n",
       "<thead>\n",
       "\t<tr><th></th><th scope=col>V1</th><th scope=col>V2</th><th scope=col>V4</th><th scope=col>QTLid</th></tr>\n",
       "\t<tr><th></th><th scope=col>&lt;fct&gt;</th><th scope=col>&lt;int&gt;</th><th scope=col>&lt;int&gt;</th><th scope=col>&lt;int&gt;</th></tr>\n",
       "</thead>\n",
       "<tbody>\n",
       "\t<tr><th scope=row>1</th><td>HC04_A07</td><td>94000000</td><td>36</td><td>1</td></tr>\n",
       "\t<tr><th scope=row>2</th><td>HC04_D05</td><td> 5000000</td><td>36</td><td>2</td></tr>\n",
       "\t<tr><th scope=row>3</th><td>HC04_A07</td><td>92000000</td><td>33</td><td>3</td></tr>\n",
       "\t<tr><th scope=row>4</th><td>HC04_A07</td><td>92000000</td><td>33</td><td>4</td></tr>\n",
       "\t<tr><th scope=row>5</th><td>HC04_A07</td><td>92000000</td><td>33</td><td>5</td></tr>\n",
       "\t<tr><th scope=row>6</th><td>HC04_D05</td><td>27000000</td><td>33</td><td>6</td></tr>\n",
       "</tbody>\n",
       "</table>\n"
      ],
      "text/latex": [
       "A data.frame: 6 × 4\n",
       "\\begin{tabular}{r|llll}\n",
       "  & V1 & V2 & V4 & QTLid\\\\\n",
       "  & <fct> & <int> & <int> & <int>\\\\\n",
       "\\hline\n",
       "\t1 & HC04\\_A07 & 94000000 & 36 & 1\\\\\n",
       "\t2 & HC04\\_D05 &  5000000 & 36 & 2\\\\\n",
       "\t3 & HC04\\_A07 & 92000000 & 33 & 3\\\\\n",
       "\t4 & HC04\\_A07 & 92000000 & 33 & 4\\\\\n",
       "\t5 & HC04\\_A07 & 92000000 & 33 & 5\\\\\n",
       "\t6 & HC04\\_D05 & 27000000 & 33 & 6\\\\\n",
       "\\end{tabular}\n"
      ],
      "text/markdown": [
       "\n",
       "A data.frame: 6 × 4\n",
       "\n",
       "| <!--/--> | V1 &lt;fct&gt; | V2 &lt;int&gt; | V4 &lt;int&gt; | QTLid &lt;int&gt; |\n",
       "|---|---|---|---|---|\n",
       "| 1 | HC04_A07 | 94000000 | 36 | 1 |\n",
       "| 2 | HC04_D05 |  5000000 | 36 | 2 |\n",
       "| 3 | HC04_A07 | 92000000 | 33 | 3 |\n",
       "| 4 | HC04_A07 | 92000000 | 33 | 4 |\n",
       "| 5 | HC04_A07 | 92000000 | 33 | 5 |\n",
       "| 6 | HC04_D05 | 27000000 | 33 | 6 |\n",
       "\n"
      ],
      "text/plain": [
       "  V1       V2       V4 QTLid\n",
       "1 HC04_A07 94000000 36 1    \n",
       "2 HC04_D05  5000000 36 2    \n",
       "3 HC04_A07 92000000 33 3    \n",
       "4 HC04_A07 92000000 33 4    \n",
       "5 HC04_A07 92000000 33 5    \n",
       "6 HC04_D05 27000000 33 6    "
      ]
     },
     "metadata": {},
     "output_type": "display_data"
    }
   ],
   "source": [
    "FL_QTL %>% select( \n",
    "    V1,V2,V4,V4,QTLid\n",
    ") %>% head()"
   ]
  },
  {
   "cell_type": "code",
   "execution_count": 73,
   "metadata": {},
   "outputs": [
    {
     "data": {
      "text/html": [
       "<strong>png:</strong> 2"
      ],
      "text/latex": [
       "\\textbf{png:} 2"
      ],
      "text/markdown": [
       "**png:** 2"
      ],
      "text/plain": [
       "png \n",
       "  2 "
      ]
     },
     "metadata": {},
     "output_type": "display_data"
    },
    {
     "data": {
      "image/png": "[encoded data removed]",
      "text/plain": [
       "plot without title"
      ]
     },
     "metadata": {
      "image/png": {
       "height": 180,
       "width": 900
      }
     },
     "output_type": "display_data"
    }
   ],
   "source": [
    "options(\n",
    "    repr.plot.width = 15,\n",
    "    repr.plot.height = 3\n",
    ")\n",
    "p=FL_QTL %>% select(\n",
    "        QTLid, V10, V11, V12, V13, V14, V15, V16, V17\n",
    "    ) %>%\n",
    "    pivot_longer(\n",
    "        cols = c(V10, V11, V12, V13, V14, V15, V16, V17),\n",
    "        names_to = \"wildClass\",\n",
    "        values_to = \"sampleCount\"\n",
    "    ) %>% \n",
    "    ggplot(\n",
    "        aes(x = QTLid, y = sampleCount, fill = wildClass)\n",
    "    ) +\n",
    "    geom_bar(\n",
    "        stat = \"identity\"\n",
    "    ) +\n",
    "    base_theme +\n",
    "    # theme_void() +\n",
    "    theme(\n",
    "        panel.background = element_blank(),\n",
    "        legend.position = \"none\"\n",
    "    )+scale_fill_manual(\n",
    "        values=c(\n",
    "            '#A6CEE3','#1F78B4','#B2DF8A','#33A02C',\n",
    "            '#FB9A99','#E31A1C','#FDBF6F','#FF7F00'\n",
    "        )\n",
    "    )+scale_x_continuous(\n",
    "        breaks=seq(1,58,1),\n",
    "        labels=seq(1,58,1),\n",
    "        expand=c(0,0)\n",
    "    )+scale_y_continuous(\n",
    "        expand=c(0,0)\n",
    "    )\n",
    "pdf('FL_QTL_wild.pdf',width=12,height=3)\n",
    "print(p)\n",
    "dev.off()\n",
    "p"
   ]
  },
  {
   "cell_type": "code",
   "execution_count": 24,
   "metadata": {},
   "outputs": [],
   "source": [
    "#* 全基因范围内，几个野生种占渐渗片段的相对比例"
   ]
  },
  {
   "cell_type": "code",
   "execution_count": 26,
   "metadata": {},
   "outputs": [],
   "source": [
    "All_IS_windows <- read.table(\n",
    "    \"All_Is_window_v2.txt\",\n",
    "    header = F, sep = \"\\t\"\n",
    ")"
   ]
  },
  {
   "cell_type": "code",
   "execution_count": 38,
   "metadata": {},
   "outputs": [],
   "source": [
    "Is_windows_count=All_IS_windows %>% select(\n",
    "    V6, V7, V8, V9, V10, V11, V12, V13\n",
    "    )%>% pivot_longer(\n",
    "        cols = c(V6, V7, V8, V9, V10, V11, V12, V13),\n",
    "        names_to = \"wildClass\",\n",
    "        values_to = \"sampleCount\"\n",
    "    ) %>% group_by(\n",
    "        wildClass\n",
    "    )\n",
    "Is_windows_count$wildClass=factor(\n",
    "    Is_windows_count$wildClass,\n",
    "    levels = c( \n",
    "        \"V6\",\"V7\",\"V8\",\"V9\",\"V10\",\"V11\",\"V12\",\"V13\"\n",
    "    )\n",
    ")    "
   ]
  },
  {
   "cell_type": "code",
   "execution_count": 68,
   "metadata": {},
   "outputs": [
    {
     "data": {
      "text/html": [
       "<table class=\"dataframe\">\n",
       "<caption>A tibble: 8 × 2</caption>\n",
       "<thead>\n",
       "\t<tr><th scope=col>wildClass</th><th scope=col>sum(sampleCount)</th></tr>\n",
       "\t<tr><th scope=col>&lt;fct&gt;</th><th scope=col>&lt;int&gt;</th></tr>\n",
       "</thead>\n",
       "<tbody>\n",
       "\t<tr><td>V6 </td><td>3800</td></tr>\n",
       "\t<tr><td>V7 </td><td>2609</td></tr>\n",
       "\t<tr><td>V8 </td><td>1161</td></tr>\n",
       "\t<tr><td>V9 </td><td>2740</td></tr>\n",
       "\t<tr><td>V10</td><td>2993</td></tr>\n",
       "\t<tr><td>V11</td><td> 974</td></tr>\n",
       "\t<tr><td>V12</td><td>2007</td></tr>\n",
       "\t<tr><td>V13</td><td>2760</td></tr>\n",
       "</tbody>\n",
       "</table>\n"
      ],
      "text/latex": [
       "A tibble: 8 × 2\n",
       "\\begin{tabular}{ll}\n",
       " wildClass & sum(sampleCount)\\\\\n",
       " <fct> & <int>\\\\\n",
       "\\hline\n",
       "\t V6  & 3800\\\\\n",
       "\t V7  & 2609\\\\\n",
       "\t V8  & 1161\\\\\n",
       "\t V9  & 2740\\\\\n",
       "\t V10 & 2993\\\\\n",
       "\t V11 &  974\\\\\n",
       "\t V12 & 2007\\\\\n",
       "\t V13 & 2760\\\\\n",
       "\\end{tabular}\n"
      ],
      "text/markdown": [
       "\n",
       "A tibble: 8 × 2\n",
       "\n",
       "| wildClass &lt;fct&gt; | sum(sampleCount) &lt;int&gt; |\n",
       "|---|---|\n",
       "| V6  | 3800 |\n",
       "| V7  | 2609 |\n",
       "| V8  | 1161 |\n",
       "| V9  | 2740 |\n",
       "| V10 | 2993 |\n",
       "| V11 |  974 |\n",
       "| V12 | 2007 |\n",
       "| V13 | 2760 |\n",
       "\n"
      ],
      "text/plain": [
       "  wildClass sum(sampleCount)\n",
       "1 V6        3800            \n",
       "2 V7        2609            \n",
       "3 V8        1161            \n",
       "4 V9        2740            \n",
       "5 V10       2993            \n",
       "6 V11        974            \n",
       "7 V12       2007            \n",
       "8 V13       2760            "
      ]
     },
     "metadata": {},
     "output_type": "display_data"
    },
    {
     "data": {
      "text/html": [
       "19044"
      ],
      "text/latex": [
       "19044"
      ],
      "text/markdown": [
       "19044"
      ],
      "text/plain": [
       "[1] 19044"
      ]
     },
     "metadata": {},
     "output_type": "display_data"
    }
   ],
   "source": [
    "# ? 全基因组水平，随机状态的分布\n",
    "Is_windows_count %>% summarise(sum(sampleCount))\n",
    "# ! 累积的渐渗片段\n",
    "sum(Is_windows_count %>% pull(\n",
    "    \"sampleCount\"\n",
    "))"
   ]
  },
  {
   "cell_type": "code",
   "execution_count": 69,
   "metadata": {},
   "outputs": [
    {
     "data": {
      "text/html": [
       "<table class=\"dataframe\">\n",
       "<caption>A tibble: 8 × 2</caption>\n",
       "<thead>\n",
       "\t<tr><th scope=col>wildClass</th><th scope=col>sum(sampleCount)</th></tr>\n",
       "\t<tr><th scope=col>&lt;chr&gt;</th><th scope=col>&lt;int&gt;</th></tr>\n",
       "</thead>\n",
       "<tbody>\n",
       "\t<tr><td>V10</td><td>113</td></tr>\n",
       "\t<tr><td>V11</td><td>135</td></tr>\n",
       "\t<tr><td>V12</td><td> 51</td></tr>\n",
       "\t<tr><td>V13</td><td>229</td></tr>\n",
       "\t<tr><td>V14</td><td>157</td></tr>\n",
       "\t<tr><td>V15</td><td> 31</td></tr>\n",
       "\t<tr><td>V16</td><td> 79</td></tr>\n",
       "\t<tr><td>V17</td><td>190</td></tr>\n",
       "</tbody>\n",
       "</table>\n"
      ],
      "text/latex": [
       "A tibble: 8 × 2\n",
       "\\begin{tabular}{ll}\n",
       " wildClass & sum(sampleCount)\\\\\n",
       " <chr> & <int>\\\\\n",
       "\\hline\n",
       "\t V10 & 113\\\\\n",
       "\t V11 & 135\\\\\n",
       "\t V12 &  51\\\\\n",
       "\t V13 & 229\\\\\n",
       "\t V14 & 157\\\\\n",
       "\t V15 &  31\\\\\n",
       "\t V16 &  79\\\\\n",
       "\t V17 & 190\\\\\n",
       "\\end{tabular}\n"
      ],
      "text/markdown": [
       "\n",
       "A tibble: 8 × 2\n",
       "\n",
       "| wildClass &lt;chr&gt; | sum(sampleCount) &lt;int&gt; |\n",
       "|---|---|\n",
       "| V10 | 113 |\n",
       "| V11 | 135 |\n",
       "| V12 |  51 |\n",
       "| V13 | 229 |\n",
       "| V14 | 157 |\n",
       "| V15 |  31 |\n",
       "| V16 |  79 |\n",
       "| V17 | 190 |\n",
       "\n"
      ],
      "text/plain": [
       "  wildClass sum(sampleCount)\n",
       "1 V10       113             \n",
       "2 V11       135             \n",
       "3 V12        51             \n",
       "4 V13       229             \n",
       "5 V14       157             \n",
       "6 V15        31             \n",
       "7 V16        79             \n",
       "8 V17       190             "
      ]
     },
     "metadata": {},
     "output_type": "display_data"
    }
   ],
   "source": [
    "#! 几个野生种在QTL区间内的相对贡献，相比于全基因组水平有没有显著差异\n",
    "FL_QTL %>% select(\n",
    "        QTLid, V10, V11, V12, V13, V14, V15, V16, V17\n",
    "    ) %>%\n",
    "    pivot_longer(\n",
    "        cols = c(V10, V11, V12, V13, V14, V15, V16, V17),\n",
    "        names_to = \"wildClass\",\n",
    "        values_to = \"sampleCount\"\n",
    "    ) %>% group_by(\n",
    "        wildClass\n",
    "    ) %>% summarise(sum(sampleCount))"
   ]
  },
  {
   "cell_type": "code",
   "execution_count": 70,
   "metadata": {},
   "outputs": [
    {
     "data": {
      "text/html": [
       "985"
      ],
      "text/latex": [
       "985"
      ],
      "text/markdown": [
       "985"
      ],
      "text/plain": [
       "[1] 985"
      ]
     },
     "metadata": {},
     "output_type": "display_data"
    }
   ],
   "source": [
    "#* 与QTL存在交集的渐渗片段内，来自不同野生种的渐渗数目\n",
    "sum(FL_QTL %>% select(\n",
    "        QTLid, V10, V11, V12, V13, V14, V15, V16, V17\n",
    "    ) %>%\n",
    "    pivot_longer(\n",
    "        cols = c(V10, V11, V12, V13, V14, V15, V16, V17),\n",
    "        names_to = \"wildClass\",\n",
    "        values_to = \"sampleCount\"\n",
    "    ) %>% pull(sampleCount)\n",
    ")"
   ]
  },
  {
   "cell_type": "code",
   "execution_count": null,
   "metadata": {},
   "outputs": [],
   "source": []
  },
  {
   "cell_type": "markdown",
   "metadata": {},
   "source": [
    "### TODO 对单个材料在At和Dt的保守区间内是否同时存在IS进行统计"
   ]
  },
  {
   "cell_type": "code",
   "execution_count": 4,
   "metadata": {},
   "outputs": [],
   "source": [
    "library(dplyr)\n",
    "library(ggplot2)\n",
    "library(tidyr)"
   ]
  },
  {
   "cell_type": "code",
   "execution_count": 2,
   "metadata": {},
   "outputs": [],
   "source": [
    "IS_each_cultivar=read.table(\n",
    "    \"subGenome_IS_each_cultivar.txt\",\n",
    "    header = T\n",
    ")"
   ]
  },
  {
   "cell_type": "code",
   "execution_count": 36,
   "metadata": {},
   "outputs": [],
   "source": [
    "plotData=IS_each_cultivar %>% pivot_longer(\n",
    "    cols=c( \n",
    "        \"At_Dt_unannotate\",\"At_Dt_same\",\n",
    "        \"At_Dt_diff\",\"only_At\",\"only_Dt\"\n",
    "    ),\n",
    "    names_to = \"windowClass\",\n",
    "    values_to = \"windowCount\"\n",
    ")"
   ]
  },
  {
   "cell_type": "code",
   "execution_count": 37,
   "metadata": {},
   "outputs": [],
   "source": [
    "plotData$windowClass=factor(\n",
    "    plotData$windowClass, \n",
    "    levels = c(\n",
    "        'At_Dt_same','At_Dt_diff','only_At','only_Dt','At_Dt_unannotate'\n",
    "    ),\n",
    "    labels = c(\n",
    "        \"At_Dt_same\",\"At_Dt_different\",\"At_specific_IS\",\n",
    "        \"Dt_specific_IS\",\"At_Dt_unknown\"\n",
    "        )\n",
    ")"
   ]
  },
  {
   "cell_type": "code",
   "execution_count": 38,
   "metadata": {},
   "outputs": [
    {
     "data": {
      "text/html": [
       "<strong>png:</strong> 2"
      ],
      "text/latex": [
       "\\textbf{png:} 2"
      ],
      "text/markdown": [
       "**png:** 2"
      ],
      "text/plain": [
       "png \n",
       "  2 "
      ]
     },
     "metadata": {},
     "output_type": "display_data"
    },
    {
     "data": {
      "image/png": "[encoded data removed]",
      "text/plain": [
       "plot without title"
      ]
     },
     "metadata": {
      "image/png": {
       "height": 420,
       "width": 720
      }
     },
     "output_type": "display_data"
    }
   ],
   "source": [
    "options(\n",
    "    repr.plot.width=12,\n",
    "    repr.plot.hight=2\n",
    ")\n",
    "p=plotData %>% ggplot(\n",
    "    aes(x=cultivar,y=windowCount,fill=windowClass)\n",
    "    )+geom_bar(\n",
    "        stat='identity'\n",
    "    )+base_theme+\n",
    "    theme(\n",
    "        panel.grid = element_blank(),\n",
    "        panel.background = element_blank(),\n",
    "        axis.text.x = element_blank(),\n",
    "        axis.title = element_text(size=16)\n",
    "    )+scale_x_discrete(\n",
    "        expand=c(0,0)\n",
    "    )+scale_y_continuous(\n",
    "        expand=c(0,0)\n",
    "    )+xlab(\"Cultivars\")+ylab(\n",
    "        \"Subgenome conserved windows\"\n",
    "    )\n",
    "\n",
    "pdf( \n",
    "    \"subgenome_IS_for_eachCultivar.pdf\",\n",
    "    width=12,height=3\n",
    ")\n",
    "print(p)\n",
    "dev.off()\n",
    "p"
   ]
  },
  {
   "cell_type": "code",
   "execution_count": null,
   "metadata": {},
   "outputs": [],
   "source": []
  }
 ],
 "metadata": {
  "kernelspec": {
   "display_name": "R 3.6",
   "language": "R",
   "name": "ir32"
  },
  "language_info": {
   "codemirror_mode": "r",
   "file_extension": ".r",
   "mimetype": "text/x-r-source",
   "name": "R",
   "pygments_lexer": "r",
   "version": "3.6.0"
  },
  "orig_nbformat": 4
 },
 "nbformat": 4,
 "nbformat_minor": 2
}
