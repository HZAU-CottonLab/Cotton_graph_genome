{
 "cells": [
  {
   "cell_type": "code",
   "execution_count": 4,
   "metadata": {},
   "outputs": [],
   "source": [
    "import pandas as pd "
   ]
  },
  {
   "cell_type": "code",
   "execution_count": 5,
   "metadata": {},
   "outputs": [],
   "source": [
    "#TODO 过滤segmental duplication\n",
    "SD_annotion=pd.read_csv(\n",
    "    \"HC04_SD.annotation.sd\",\n",
    "    header=None,index_col=None,sep=\"\\t\"\n",
    ")"
   ]
  },
  {
   "cell_type": "code",
   "execution_count": 14,
   "metadata": {},
   "outputs": [],
   "source": [
    "def SD_filter(SD):\n",
    "    X,ID=SD[13].split(\";\")\n",
    "    Xratio=float(X.strip(\"X=\"))\n",
    "    IDratio=float(ID.strip(\"ID=\"))\n",
    "    if SD[11]>=1000 and Xratio<=10 and IDratio<=50:\n",
    "        #* 片段长度超过1000\n",
    "        #* 相似度超过90%\n",
    "        #* gap少于50%\n",
    "        return True\n",
    "    else:\n",
    "        return False"
   ]
  },
  {
   "cell_type": "code",
   "execution_count": 11,
   "metadata": {},
   "outputs": [
    {
     "data": {
      "text/html": [
       "<div>\n",
       "<style scoped>\n",
       "    .dataframe tbody tr th:only-of-type {\n",
       "        vertical-align: middle;\n",
       "    }\n",
       "\n",
       "    .dataframe tbody tr th {\n",
       "        vertical-align: top;\n",
       "    }\n",
       "\n",
       "    .dataframe thead th {\n",
       "        text-align: right;\n",
       "    }\n",
       "</style>\n",
       "<table border=\"1\" class=\"dataframe\">\n",
       "  <thead>\n",
       "    <tr style=\"text-align: right;\">\n",
       "      <th></th>\n",
       "      <th>0</th>\n",
       "      <th>1</th>\n",
       "      <th>2</th>\n",
       "      <th>3</th>\n",
       "      <th>4</th>\n",
       "      <th>5</th>\n",
       "      <th>6</th>\n",
       "      <th>7</th>\n",
       "      <th>8</th>\n",
       "      <th>9</th>\n",
       "      <th>10</th>\n",
       "      <th>11</th>\n",
       "      <th>12</th>\n",
       "      <th>13</th>\n",
       "    </tr>\n",
       "  </thead>\n",
       "  <tbody>\n",
       "    <tr>\n",
       "      <th>2</th>\n",
       "      <td>HC04_D03</td>\n",
       "      <td>2032560</td>\n",
       "      <td>2033527</td>\n",
       "      <td>HC04_D03</td>\n",
       "      <td>2033081</td>\n",
       "      <td>2034083</td>\n",
       "      <td>Finally_Masked_HC04:Finally_Masked_HC04</td>\n",
       "      <td>19.8</td>\n",
       "      <td>+</td>\n",
       "      <td>+</td>\n",
       "      <td>1002</td>\n",
       "      <td>1048</td>\n",
       "      <td>71M7D18M74D351M1I240M1I168M38I31M6I42M</td>\n",
       "      <td>X=7.6;ID=12.1</td>\n",
       "    </tr>\n",
       "    <tr>\n",
       "      <th>3</th>\n",
       "      <td>HC04_A11</td>\n",
       "      <td>15125787</td>\n",
       "      <td>15126812</td>\n",
       "      <td>HC04_A11</td>\n",
       "      <td>15126348</td>\n",
       "      <td>15127372</td>\n",
       "      <td>Finally_Masked_HC04:Finally_Masked_HC04</td>\n",
       "      <td>0.4</td>\n",
       "      <td>+</td>\n",
       "      <td>+</td>\n",
       "      <td>1025</td>\n",
       "      <td>1025</td>\n",
       "      <td>352M1I672M</td>\n",
       "      <td>X=0.3;ID=0.1</td>\n",
       "    </tr>\n",
       "    <tr>\n",
       "      <th>5</th>\n",
       "      <td>HC04_A09</td>\n",
       "      <td>4728738</td>\n",
       "      <td>4729613</td>\n",
       "      <td>HC04_A09</td>\n",
       "      <td>4729178</td>\n",
       "      <td>4730154</td>\n",
       "      <td>Finally_Masked_HC04:Finally_Masked_HC04</td>\n",
       "      <td>33.8</td>\n",
       "      <td>+</td>\n",
       "      <td>+</td>\n",
       "      <td>976</td>\n",
       "      <td>1038</td>\n",
       "      <td>79M44D13M44D364M40D28M2D38M3I50M3I31M8I34M3I50...</td>\n",
       "      <td>X=12.1;ID=21.7</td>\n",
       "    </tr>\n",
       "    <tr>\n",
       "      <th>6</th>\n",
       "      <td>HC04_D03</td>\n",
       "      <td>52143120</td>\n",
       "      <td>52144444</td>\n",
       "      <td>HC04_D03</td>\n",
       "      <td>52144439</td>\n",
       "      <td>52145759</td>\n",
       "      <td>Finally_Masked_HC04:Finally_Masked_HC04</td>\n",
       "      <td>10.2</td>\n",
       "      <td>+</td>\n",
       "      <td>+</td>\n",
       "      <td>1324</td>\n",
       "      <td>1337</td>\n",
       "      <td>132M3D11M5I183M3D176M1D64M1D183M1I11M11I534M5D13M</td>\n",
       "      <td>X=7.9;ID=2.2</td>\n",
       "    </tr>\n",
       "    <tr>\n",
       "      <th>8</th>\n",
       "      <td>HC04_D10</td>\n",
       "      <td>14627579</td>\n",
       "      <td>14628846</td>\n",
       "      <td>HC04_D10</td>\n",
       "      <td>14628279</td>\n",
       "      <td>14629685</td>\n",
       "      <td>Finally_Masked_HC04:Finally_Masked_HC04</td>\n",
       "      <td>16.7</td>\n",
       "      <td>+</td>\n",
       "      <td>+</td>\n",
       "      <td>1406</td>\n",
       "      <td>1407</td>\n",
       "      <td>99M16D26M4D417M1I121M120D603M</td>\n",
       "      <td>X=6.7;ID=10</td>\n",
       "    </tr>\n",
       "    <tr>\n",
       "      <th>...</th>\n",
       "      <td>...</td>\n",
       "      <td>...</td>\n",
       "      <td>...</td>\n",
       "      <td>...</td>\n",
       "      <td>...</td>\n",
       "      <td>...</td>\n",
       "      <td>...</td>\n",
       "      <td>...</td>\n",
       "      <td>...</td>\n",
       "      <td>...</td>\n",
       "      <td>...</td>\n",
       "      <td>...</td>\n",
       "      <td>...</td>\n",
       "      <td>...</td>\n",
       "    </tr>\n",
       "    <tr>\n",
       "      <th>26467147</th>\n",
       "      <td>HC04_D01</td>\n",
       "      <td>29354989</td>\n",
       "      <td>29356220</td>\n",
       "      <td>HC04_D01</td>\n",
       "      <td>29518672</td>\n",
       "      <td>29519525</td>\n",
       "      <td>Finally_Masked_HC04:Finally_Masked_HC04</td>\n",
       "      <td>43.3</td>\n",
       "      <td>+</td>\n",
       "      <td>-</td>\n",
       "      <td>1231</td>\n",
       "      <td>1238</td>\n",
       "      <td>62M1D52M2I40M4I45M1D11M2D36M3I20M1D17M1D49M2I4...</td>\n",
       "      <td>X=11.6;ID=31.7</td>\n",
       "    </tr>\n",
       "    <tr>\n",
       "      <th>26467149</th>\n",
       "      <td>HC04_D01</td>\n",
       "      <td>29398550</td>\n",
       "      <td>29399681</td>\n",
       "      <td>HC04_D01</td>\n",
       "      <td>29565794</td>\n",
       "      <td>29566880</td>\n",
       "      <td>Finally_Masked_HC04:Finally_Masked_HC04</td>\n",
       "      <td>35.3</td>\n",
       "      <td>+</td>\n",
       "      <td>-</td>\n",
       "      <td>1131</td>\n",
       "      <td>1139</td>\n",
       "      <td>541M1D22M4I15M15I24M5I133M17I15M2D7M3I44M1D41M...</td>\n",
       "      <td>X=29.9;ID=5.4</td>\n",
       "    </tr>\n",
       "    <tr>\n",
       "      <th>26467150</th>\n",
       "      <td>HC04_D01</td>\n",
       "      <td>29335492</td>\n",
       "      <td>29336245</td>\n",
       "      <td>HC04_D01</td>\n",
       "      <td>29630194</td>\n",
       "      <td>29634936</td>\n",
       "      <td>Finally_Masked_HC04:Finally_Masked_HC04</td>\n",
       "      <td>86.7</td>\n",
       "      <td>+</td>\n",
       "      <td>-</td>\n",
       "      <td>4742</td>\n",
       "      <td>4766</td>\n",
       "      <td>184M10D151M24I42M3D60M20D30M1D6M3977D54M1D145M...</td>\n",
       "      <td>X=2;ID=84.7</td>\n",
       "    </tr>\n",
       "    <tr>\n",
       "      <th>26467151</th>\n",
       "      <td>HC04_D01</td>\n",
       "      <td>29434443</td>\n",
       "      <td>29435349</td>\n",
       "      <td>HC04_D01</td>\n",
       "      <td>29698334</td>\n",
       "      <td>29699675</td>\n",
       "      <td>Finally_Masked_HC04:Finally_Masked_HC04</td>\n",
       "      <td>62.9</td>\n",
       "      <td>+</td>\n",
       "      <td>-</td>\n",
       "      <td>1341</td>\n",
       "      <td>1493</td>\n",
       "      <td>33M21I12M24I101M6D76M37D46M72D22M42D32M16D9M22...</td>\n",
       "      <td>X=13.4;ID=49.5</td>\n",
       "    </tr>\n",
       "    <tr>\n",
       "      <th>26467153</th>\n",
       "      <td>HC04_D01</td>\n",
       "      <td>29415000</td>\n",
       "      <td>29416185</td>\n",
       "      <td>HC04_D01</td>\n",
       "      <td>29724497</td>\n",
       "      <td>29725711</td>\n",
       "      <td>Finally_Masked_HC04:Finally_Masked_HC04</td>\n",
       "      <td>39.0</td>\n",
       "      <td>+</td>\n",
       "      <td>-</td>\n",
       "      <td>1214</td>\n",
       "      <td>1245</td>\n",
       "      <td>47M24D31M3D181M3D92M12D185M6I78M1I14M1I22M2D7M...</td>\n",
       "      <td>X=31.6;ID=7.3</td>\n",
       "    </tr>\n",
       "  </tbody>\n",
       "</table>\n",
       "<p>24484730 rows × 14 columns</p>\n",
       "</div>"
      ],
      "text/plain": [
       "                0         1         2         3         4         5   \\\n",
       "2         HC04_D03   2032560   2033527  HC04_D03   2033081   2034083   \n",
       "3         HC04_A11  15125787  15126812  HC04_A11  15126348  15127372   \n",
       "5         HC04_A09   4728738   4729613  HC04_A09   4729178   4730154   \n",
       "6         HC04_D03  52143120  52144444  HC04_D03  52144439  52145759   \n",
       "8         HC04_D10  14627579  14628846  HC04_D10  14628279  14629685   \n",
       "...            ...       ...       ...       ...       ...       ...   \n",
       "26467147  HC04_D01  29354989  29356220  HC04_D01  29518672  29519525   \n",
       "26467149  HC04_D01  29398550  29399681  HC04_D01  29565794  29566880   \n",
       "26467150  HC04_D01  29335492  29336245  HC04_D01  29630194  29634936   \n",
       "26467151  HC04_D01  29434443  29435349  HC04_D01  29698334  29699675   \n",
       "26467153  HC04_D01  29415000  29416185  HC04_D01  29724497  29725711   \n",
       "\n",
       "                                               6     7  8  9     10    11  \\\n",
       "2         Finally_Masked_HC04:Finally_Masked_HC04  19.8  +  +  1002  1048   \n",
       "3         Finally_Masked_HC04:Finally_Masked_HC04   0.4  +  +  1025  1025   \n",
       "5         Finally_Masked_HC04:Finally_Masked_HC04  33.8  +  +   976  1038   \n",
       "6         Finally_Masked_HC04:Finally_Masked_HC04  10.2  +  +  1324  1337   \n",
       "8         Finally_Masked_HC04:Finally_Masked_HC04  16.7  +  +  1406  1407   \n",
       "...                                           ...   ... .. ..   ...   ...   \n",
       "26467147  Finally_Masked_HC04:Finally_Masked_HC04  43.3  +  -  1231  1238   \n",
       "26467149  Finally_Masked_HC04:Finally_Masked_HC04  35.3  +  -  1131  1139   \n",
       "26467150  Finally_Masked_HC04:Finally_Masked_HC04  86.7  +  -  4742  4766   \n",
       "26467151  Finally_Masked_HC04:Finally_Masked_HC04  62.9  +  -  1341  1493   \n",
       "26467153  Finally_Masked_HC04:Finally_Masked_HC04  39.0  +  -  1214  1245   \n",
       "\n",
       "                                                         12              13  \n",
       "2                    71M7D18M74D351M1I240M1I168M38I31M6I42M   X=7.6;ID=12.1  \n",
       "3                                                352M1I672M    X=0.3;ID=0.1  \n",
       "5         79M44D13M44D364M40D28M2D38M3I50M3I31M8I34M3I50...  X=12.1;ID=21.7  \n",
       "6         132M3D11M5I183M3D176M1D64M1D183M1I11M11I534M5D13M    X=7.9;ID=2.2  \n",
       "8                             99M16D26M4D417M1I121M120D603M     X=6.7;ID=10  \n",
       "...                                                     ...             ...  \n",
       "26467147  62M1D52M2I40M4I45M1D11M2D36M3I20M1D17M1D49M2I4...  X=11.6;ID=31.7  \n",
       "26467149  541M1D22M4I15M15I24M5I133M17I15M2D7M3I44M1D41M...   X=29.9;ID=5.4  \n",
       "26467150  184M10D151M24I42M3D60M20D30M1D6M3977D54M1D145M...     X=2;ID=84.7  \n",
       "26467151  33M21I12M24I101M6D76M37D46M72D22M42D32M16D9M22...  X=13.4;ID=49.5  \n",
       "26467153  47M24D31M3D181M3D92M12D185M6I78M1I14M1I22M2D7M...   X=31.6;ID=7.3  \n",
       "\n",
       "[24484730 rows x 14 columns]"
      ]
     },
     "execution_count": 11,
     "metadata": {},
     "output_type": "execute_result"
    }
   ],
   "source": [
    "SD_annotion"
   ]
  },
  {
   "cell_type": "code",
   "execution_count": 15,
   "metadata": {},
   "outputs": [],
   "source": [
    "SD_filter_Index=SD_annotion.apply(lambda x:SD_filter(x),axis=1)\n",
    "SD_filter=SD_annotion.loc[SD_filter_Index]"
   ]
  },
  {
   "cell_type": "code",
   "execution_count": 21,
   "metadata": {},
   "outputs": [],
   "source": [
    "SD_filter.to_csv(\"HC04_SD_filter.txt\",header=False,index=False,sep=\"\\t\")"
   ]
  },
  {
   "cell_type": "code",
   "execution_count": 46,
   "metadata": {},
   "outputs": [],
   "source": [
    "leftSD=pd.read_csv(\n",
    "    \"intersectData.txt\",\n",
    "    header=None,index_col=None,sep=\"\\t\"\n",
    ")\n",
    "rightSD=pd.read_csv(\n",
    "    \"intersectData.txt\",\n",
    "    header=None,index_col=None,sep=\"\\t\"\n",
    ")"
   ]
  },
  {
   "cell_type": "code",
   "execution_count": 29,
   "metadata": {},
   "outputs": [
    {
     "name": "stderr",
     "output_type": "stream",
     "text": [
      "/tmp/ipykernel_24283/2951494003.py:1: SettingWithCopyWarning: \n",
      "A value is trying to be set on a copy of a slice from a DataFrame.\n",
      "Try using .loc[row_indexer,col_indexer] = value instead\n",
      "\n",
      "See the caveats in the documentation: https://pandas.pydata.org/pandas-docs/stable/user_guide/indexing.html#returning-a-view-versus-a-copy\n",
      "  SD_filter['leftSD']=SD_filter.apply(\n"
     ]
    }
   ],
   "source": [
    "SD_filter['leftSD']=SD_filter.apply(\n",
    "    lambda x:\"{}:{}-{}\".format(x[0],x[1],x[2]),axis=1\n",
    ")"
   ]
  },
  {
   "cell_type": "code",
   "execution_count": 30,
   "metadata": {},
   "outputs": [
    {
     "name": "stderr",
     "output_type": "stream",
     "text": [
      "/tmp/ipykernel_24283/3480075230.py:1: SettingWithCopyWarning: \n",
      "A value is trying to be set on a copy of a slice from a DataFrame.\n",
      "Try using .loc[row_indexer,col_indexer] = value instead\n",
      "\n",
      "See the caveats in the documentation: https://pandas.pydata.org/pandas-docs/stable/user_guide/indexing.html#returning-a-view-versus-a-copy\n",
      "  SD_filter['rightSD']=SD_filter.apply(\n"
     ]
    }
   ],
   "source": [
    "SD_filter['rightSD']=SD_filter.apply(\n",
    "    lambda x:\"{}:{}-{}\".format(x[3],x[4],x[5]),axis=1\n",
    ")"
   ]
  },
  {
   "cell_type": "code",
   "execution_count": 47,
   "metadata": {},
   "outputs": [],
   "source": [
    "leftSD_ID=leftSD.apply(\n",
    "    lambda x:\"{}:{}-{}\".format(x[0],x[1],x[2]),axis=1\n",
    ")\n",
    "rightSD_ID=rightSD.apply(\n",
    "    lambda x:\"{}:{}-{}\".format(x[0],x[1],x[2]),axis=1\n",
    ")\n"
   ]
  },
  {
   "cell_type": "code",
   "execution_count": 48,
   "metadata": {},
   "outputs": [],
   "source": [
    "#TODO 根据与TE的交集结果，筛选最终得到的SD集合\n",
    "SD_filter_END=SD_filter.loc[\n",
    "    (SD_filter['leftSD'].isin(rightSD_ID.values))|(SD_filter['rightSD'].isin(rightSD_ID.values))\n",
    "]"
   ]
  },
  {
   "cell_type": "code",
   "execution_count": 52,
   "metadata": {},
   "outputs": [],
   "source": [
    "SD_filter_END[[0,1,2,3,4,5,6,7,8,9,10,11,12,13]].to_csv(\"./HC04_SD_filter_END.txt\",header=False,index=False,sep=\"\\t\")"
   ]
  },
  {
   "cell_type": "code",
   "execution_count": 56,
   "metadata": {},
   "outputs": [],
   "source": [
    "#TODO 统计SD-Pairs在染色体之间的分布规律\n",
    "SD_filter_END=pd.read_csv(\n",
    "    \"./HC04_SD_filter_END.txt\",\n",
    "    header=None,index_col=None,sep=\"\\t\"\n",
    ")\n",
    "ChromList=pd.read_csv(\"HC04-Repeat_TRF_softMasked.fa.fai\",header=None,index_col=None,sep=\"\\t\")"
   ]
  },
  {
   "cell_type": "code",
   "execution_count": 58,
   "metadata": {},
   "outputs": [],
   "source": [
    "from itertools import combinations"
   ]
  },
  {
   "cell_type": "code",
   "execution_count": 62,
   "metadata": {},
   "outputs": [],
   "source": [
    "ChromGroups=list(combinations(ChromList[0].values,2))"
   ]
  },
  {
   "cell_type": "code",
   "execution_count": 103,
   "metadata": {},
   "outputs": [],
   "source": [
    "SDCountData=[]\n",
    "for Chrom1,Chrom2 in ChromGroups:\n",
    "    filterSD_Pairs=SD_filter_END.loc[\n",
    "        (SD_filter_END[0].isin([Chrom1,Chrom2]))&(\n",
    "            SD_filter_END[3].isin([Chrom1,Chrom2])\n",
    "        )\n",
    "    ]\n",
    "    SDCountData.append(\n",
    "        (Chrom1,Chrom2,filterSD_Pairs.shape[0])\n",
    "    )\n",
    "for chrom in ChromList[0].values:\n",
    "    filterSD_Pairs=SD_filter_END.loc[\n",
    "        (SD_filter_END[0].isin([chrom]))&(\n",
    "            SD_filter_END[3].isin([chrom])\n",
    "        )\n",
    "    ]\n",
    "    SDCountData.append(\n",
    "        (chrom,chrom,filterSD_Pairs.shape[0])\n",
    "    )\n",
    "SDCountData=pd.DataFrame(SDCountData)"
   ]
  },
  {
   "cell_type": "code",
   "execution_count": 104,
   "metadata": {},
   "outputs": [],
   "source": [
    "SD_countBetweenChroms=pd.pivot(\n",
    "    SDCountData,index=0,columns=1,values=2,\n",
    ")"
   ]
  },
  {
   "cell_type": "code",
   "execution_count": 107,
   "metadata": {},
   "outputs": [],
   "source": [
    "import numpy as np\n",
    "upper_triangular=SD_countBetweenChroms.values\n",
    "complete_matrix = np.triu(upper_triangular) + np.triu(upper_triangular, k=1).T\n",
    "SD_count_Fin=pd.DataFrame(complete_matrix,index=ChromList[0].values,columns=ChromList[0].values)"
   ]
  },
  {
   "cell_type": "code",
   "execution_count": 113,
   "metadata": {},
   "outputs": [],
   "source": [
    "import seaborn as sns"
   ]
  },
  {
   "cell_type": "code",
   "execution_count": 114,
   "metadata": {},
   "outputs": [
    {
     "data": {
      "text/plain": [
       "<AxesSubplot:>"
      ]
     },
     "execution_count": 114,
     "metadata": {},
     "output_type": "execute_result"
    },
    {
     "data": {
      "image/png": "[encoded data removed]",
      "text/plain": [
       "<Figure size 640x480 with 2 Axes>"
      ]
     },
     "metadata": {},
     "output_type": "display_data"
    }
   ],
   "source": [
    "sns.heatmap(SD_count_Fin)"
   ]
  },
  {
   "cell_type": "code",
   "execution_count": null,
   "metadata": {},
   "outputs": [],
   "source": []
  }
 ],
 "metadata": {
  "interpreter": {
   "hash": "66aa2addb38c89a0d43f63cbdb966cb2dba790ca2bb4fa0a3d79065325ea50af"
  },
  "kernelspec": {
   "display_name": "Python 3.9.13 ('base')",
   "language": "python",
   "name": "python3"
  },
  "language_info": {
   "codemirror_mode": {
    "name": "ipython",
    "version": 3
   },
   "file_extension": ".py",
   "mimetype": "text/x-python",
   "name": "python",
   "nbconvert_exporter": "python",
   "pygments_lexer": "ipython3",
   "version": "3.9.13"
  },
  "orig_nbformat": 4
 },
 "nbformat": 4,
 "nbformat_minor": 2
}
